{
 "cells": [
  {
   "cell_type": "markdown",
   "id": "a577f89a-5a90-4c20-b5f8-72bb3eb8759c",
   "metadata": {
    "tags": []
   },
   "source": [
    "# Introduction to programming\n",
    "*Developed by Nuno M.C. da Costa*"
   ]
  },
  {
   "cell_type": "markdown",
   "id": "623c3e9e-7726-4663-abc9-87433b763692",
   "metadata": {
    "tags": []
   },
   "source": [
    "## Class 1 - Introduction"
   ]
  },
  {
   "cell_type": "markdown",
   "id": "831a4d04-c4ae-4f72-b292-29db5500bcc3",
   "metadata": {
    "tags": []
   },
   "source": [
    "### 1. What is programming?"
   ]
  },
  {
   "cell_type": "markdown",
   "id": "7a8ddb5c-4fa4-408d-985e-feaddfb432f7",
   "metadata": {},
   "source": [
    "The process or activity of \"writing\" computer programs."
   ]
  },
  {
   "cell_type": "markdown",
   "id": "3d31d371-1fb3-4a44-a690-d70ec9337fcf",
   "metadata": {
    "tags": []
   },
   "source": [
    "#### 1.1 For 'writing' we need what?"
   ]
  },
  {
   "cell_type": "markdown",
   "id": "0b0bab12-a957-4bcb-a6a4-50a180a44d0c",
   "metadata": {},
   "source": [
    "A language, a pen (interface like keyboard) and a paper (storage device like a computer). "
   ]
  },
  {
   "cell_type": "markdown",
   "id": "20f43c1b-ffdc-4089-9016-30cc76247205",
   "metadata": {},
   "source": [
    "In Programming there are many languages, C/C++, Python, Java, etc. It all depends on 'how'(high or low level) and 'what'(hardware) we need to write on.  "
   ]
  },
  {
   "cell_type": "markdown",
   "id": "f5e155a6-2981-435d-9621-ca2065ccbac6",
   "metadata": {},
   "source": [
    "In this course we will be mainly using python as is the highest level and the most \"Portable, powerful, and a breeze to use\". Python can be used to do pretty much anything, scripting applications and standalone programs. "
   ]
  },
  {
   "cell_type": "markdown",
   "id": "5d3b3858-2e20-423e-918a-f9c27ff8285b",
   "metadata": {},
   "source": [
    "But we will also compare the same code with C language. Has this one is a more low level language that is general-purpose and provides constructs that map efficiently to typical machine instructions. Applications include operating systems and various application software for computer architectures that range from supercomputers to PLCs and embedded systems."
   ]
  },
  {
   "cell_type": "markdown",
   "id": "3c25d462-da76-4b8d-846b-86ddae1fac75",
   "metadata": {
    "tags": []
   },
   "source": [
    "### 2. Basics"
   ]
  },
  {
   "cell_type": "markdown",
   "id": "bb9a509b-f1e5-40f0-87d0-0a3ceb67736d",
   "metadata": {},
   "source": [
    "#### Calculate numbers. \n",
    "Position your cursor in the code cell below and hit [shift][enter]."
   ]
  },
  {
   "cell_type": "code",
   "execution_count": 1,
   "id": "950feae4-67d7-4c12-b52c-c48015ccf6c6",
   "metadata": {
    "tags": []
   },
   "outputs": [
    {
     "data": {
      "text/plain": [
       "4"
      ]
     },
     "execution_count": 1,
     "metadata": {},
     "output_type": "execute_result"
    }
   ],
   "source": [
    "1 + 3"
   ]
  },
  {
   "cell_type": "code",
   "execution_count": 2,
   "id": "d3109a5b-21c9-4650-957e-50e1403a0a90",
   "metadata": {},
   "outputs": [
    {
     "data": {
      "text/plain": [
       "10"
      ]
     },
     "execution_count": 2,
     "metadata": {},
     "output_type": "execute_result"
    }
   ],
   "source": [
    "2 * 5"
   ]
  },
  {
   "cell_type": "code",
   "execution_count": 3,
   "id": "539c158b-11e8-4a0a-b3ee-115b96361bf4",
   "metadata": {},
   "outputs": [
    {
     "data": {
      "text/plain": [
       "5.0"
      ]
     },
     "execution_count": 3,
     "metadata": {},
     "output_type": "execute_result"
    }
   ],
   "source": [
    "10 / 2"
   ]
  },
  {
   "cell_type": "markdown",
   "id": "ee4211b3-9213-4c3a-9d70-f42e98c3838d",
   "metadata": {},
   "source": [
    "### What is a variable?\n",
    "When you are programming, you want to store your values in variables"
   ]
  },
  {
   "cell_type": "code",
   "execution_count": 5,
   "id": "de222dc2-49fd-4fca-8e9b-5c82ed82a9b7",
   "metadata": {},
   "outputs": [
    {
     "data": {
      "text/plain": [
       "5"
      ]
     },
     "execution_count": 5,
     "metadata": {},
     "output_type": "execute_result"
    }
   ],
   "source": [
    "variable_1 = 2\n",
    "variable_2 = 3\n",
    "variable_1 + variable_2"
   ]
  },
  {
   "cell_type": "markdown",
   "id": "0fe90134-b640-4d03-bec2-ed28fdc6e52c",
   "metadata": {},
   "source": [
    "Both `variable_1` and `variable_2` are now variables. Each variable has a type. In this case, they are both integers (whole numbers), but there are other types that we will talk later. \n",
    "To print the value of a variable to the screen use the `print()` function. "
   ]
  },
  {
   "cell_type": "code",
   "execution_count": 6,
   "id": "703c8dd0-ef4a-46a7-b983-0595a4ca756c",
   "metadata": {},
   "outputs": [
    {
     "name": "stdout",
     "output_type": "stream",
     "text": [
      "3\n"
     ]
    }
   ],
   "source": [
    "print(variable_2)"
   ]
  },
  {
   "cell_type": "markdown",
   "id": "ef31b113-7ae2-4810-853a-b2480128be50",
   "metadata": {
    "jp-MarkdownHeadingCollapsed": true,
    "tags": []
   },
   "source": [
    "### 3. Potential"
   ]
  },
  {
   "cell_type": "markdown",
   "id": "51410f93-ea5d-48fc-95c2-6d0ed1d67d25",
   "metadata": {},
   "source": [
    "## Extra Resources"
   ]
  },
  {
   "cell_type": "markdown",
   "id": "d35eb37a-d592-497c-a5ef-b7f8588676e8",
   "metadata": {},
   "source": [
    "Some good resources for learning jupyter in notebooks:\n",
    "\n",
    "https://jupyter.brynmawr.edu/hub/login\n",
    "\n",
    "Some good resources on learning Python in notebooks:\n",
    "\n",
    "http://mbakker7.github.io/exploratory_computing_with_python/"
   ]
  }
 ],
 "metadata": {
  "kernelspec": {
   "display_name": "Python 3 (ipykernel)",
   "language": "python",
   "name": "python3"
  },
  "language_info": {
   "codemirror_mode": {
    "name": "ipython",
    "version": 3
   },
   "file_extension": ".py",
   "mimetype": "text/x-python",
   "name": "python",
   "nbconvert_exporter": "python",
   "pygments_lexer": "ipython3",
   "version": "3.9.7"
  }
 },
 "nbformat": 4,
 "nbformat_minor": 5
}
