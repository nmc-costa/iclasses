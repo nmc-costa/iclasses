{
 "cells": [
  {
   "cell_type": "markdown",
   "id": "c65775fc-7165-4bc8-9925-2b6197af8fa3",
   "metadata": {
    "tags": []
   },
   "source": [
    "# Dictioanries - Mapping type\n",
    "*Developed by Nuno M.C. da Costa*\n",
    "\n",
    "info: \n",
    "- https://www.w3schools.com/python/python_dictionaries.asp\n",
    "- https://docs.python.org/3/library/stdtypes.html?highlight=strings#mapping-types-dict"
   ]
  },
  {
   "cell_type": "markdown",
   "id": "a3fb3d61-b832-4ac7-a285-68582378354a",
   "metadata": {},
   "source": [
    "## Dictionary\n",
    "Dictionaries are used to store data values in `key:value,` pairs. Keys are unmutable objects(hashbale) that are mapped with values of any data type (numeric, boolean, lists,strings, dicts, etc). This has similar functionality to the record type in C language the `struct` type.\n",
    "\n",
    "A dictionary is a collection which is ordered*, changeable (Dictionaries are changeable, meaning that we can change, add or remove items after the dictionary has been created) and do not allow duplicates.\n",
    "\n",
    "*As of Python version 3.7, dictionaries are ordered. In Python 3.6 and earlier, dictionaries are unordered. When we say that dictionaries are ordered, it means that the items have a defined order, and that order will not change.Unordered means that the items does not have a defined order, you cannot refer to an item by using an index.*\n",
    "\n",
    "Dictionaries are written with curly brackets, have keys and values, and each value can be retrieved by using the key name:"
   ]
  },
  {
   "cell_type": "code",
   "execution_count": 10,
   "id": "c680bfb4-a1d6-4d66-80e4-9233da701c92",
   "metadata": {},
   "outputs": [
    {
     "name": "stdout",
     "output_type": "stream",
     "text": [
      "{'brand': 'alfa romeo', 'model': 'giulia gta', 'year': 1965}\n",
      "alfa romeo\n",
      "<class 'dict'>\n"
     ]
    }
   ],
   "source": [
    "car = {\n",
    "  \"brand\": \"alfa romeo\",\n",
    "  \"model\": \"giulia gta\",\n",
    "  \"year\": 1965\n",
    "}\n",
    "print(car)\n",
    "print(car[\"brand\"])\n",
    "print(type(car)) #dictionaries defined as objects with the data type 'dict'"
   ]
  },
  {
   "cell_type": "code",
   "execution_count": 28,
   "id": "4fb17978-cc2d-47e1-8cf0-01a1a49aa838",
   "metadata": {},
   "outputs": [
    {
     "name": "stdout",
     "output_type": "stream",
     "text": [
      "{'brand': 'alfa romeo', 'model': 'gt junior', 'year': 1972, 'color': 'alfa red'}\n"
     ]
    }
   ],
   "source": [
    "\"\"\"Dictionaries are changeable, meaning that we can change, \n",
    "add or remove items after the dictionary has been created.\"\"\"\n",
    "car = {\n",
    "  \"brand\": \"alfa romeo\",\n",
    "  \"model\": \"giulia gta\",\n",
    "  \"year\": 1965\n",
    "}\n",
    "#change/update value\n",
    "car[\"model\"] = \"gt junior\"\n",
    "car[\"year\"] = 1972\n",
    "#add new values\n",
    "car[\"color\"] = \"alfa red\"\n",
    "\n",
    "print(car)"
   ]
  },
  {
   "cell_type": "code",
   "execution_count": 4,
   "id": "c0a59c7f-afb9-4684-849a-d10afddbbec1",
   "metadata": {},
   "outputs": [
    {
     "name": "stdout",
     "output_type": "stream",
     "text": [
      "{'brand': 'alfa romeo', 'model': 'giulia gta', 'year': 2018}\n"
     ]
    }
   ],
   "source": [
    "\"\"\"Duplicate values will overwrite existing values:\"\"\"\n",
    "car = {\n",
    "  \"brand\": \"alfa romeo\",\n",
    "  \"model\": \"giulia gta\",\n",
    "  \"year\": 1965,\n",
    "  \"year\": 2018\n",
    "}\n",
    "print(car)"
   ]
  },
  {
   "cell_type": "code",
   "execution_count": 8,
   "id": "bb131367-ba1b-4308-93a6-bb8f7fb37ef6",
   "metadata": {},
   "outputs": [
    {
     "name": "stdout",
     "output_type": "stream",
     "text": [
      "3\n"
     ]
    }
   ],
   "source": [
    "\"\"\"Dictionary length\"\"\"\n",
    "\n",
    "print(len(car))"
   ]
  },
  {
   "cell_type": "code",
   "execution_count": 39,
   "id": "fe27646f-f6d1-47d6-bdcd-e8ad7f3995f5",
   "metadata": {},
   "outputs": [
    {
     "name": "stdout",
     "output_type": "stream",
     "text": [
      "{'brand': 'alfa romeo', 'model': 'giulia gta', 'year': 1965, 'colors': ['alfa red', 'montreal green'], 'petrol': True}\n"
     ]
    }
   ],
   "source": [
    "\"\"\"Any data type\"\"\"\n",
    "car = {\n",
    "    \"brand\": \"alfa romeo\",\n",
    "    \"model\": \"giulia gta\",\n",
    "    \"year\": 1965,\n",
    "    \"colors\": [\"alfa red\",\"montreal green\"],\n",
    "    \"petrol\": True\n",
    "}\n",
    "print(car)"
   ]
  },
  {
   "cell_type": "markdown",
   "id": "8d504116-0f1c-4884-92eb-217aa3f95be9",
   "metadata": {},
   "source": [
    "## Assessing items"
   ]
  },
  {
   "cell_type": "code",
   "execution_count": 30,
   "id": "9c0e6a57-f6fd-40ff-95fa-76507436f309",
   "metadata": {},
   "outputs": [
    {
     "name": "stdout",
     "output_type": "stream",
     "text": [
      "giulia gta\n"
     ]
    }
   ],
   "source": [
    "model = car[\"model\"]\n",
    "#or\n",
    "model = car.get(\"model\")\n",
    "\n",
    "print(model)"
   ]
  },
  {
   "cell_type": "markdown",
   "id": "ca494e03-ae62-4cef-babf-c904740d865d",
   "metadata": {
    "tags": []
   },
   "source": [
    "## Get keys\n",
    "The keys() method will return a list of all the keys in the dictionary.\n",
    "\n",
    "For all dict methods you can go to: https://www.w3schools.com/python/python_dictionaries_methods.asp"
   ]
  },
  {
   "cell_type": "code",
   "execution_count": 31,
   "id": "e5213e17-334b-46de-bb0c-fe1caae79267",
   "metadata": {},
   "outputs": [
    {
     "name": "stdout",
     "output_type": "stream",
     "text": [
      "dict_keys(['brand', 'model', 'year', 'colors', 'petrol'])\n"
     ]
    }
   ],
   "source": [
    "keys = car.keys()\n",
    "print(keys)"
   ]
  },
  {
   "cell_type": "markdown",
   "id": "e4fe3c78-bd59-4d23-89ec-0984bc0e52ab",
   "metadata": {
    "tags": []
   },
   "source": [
    "## Get values\n",
    "The values() method will return a list of all the values in the dictionary."
   ]
  },
  {
   "cell_type": "code",
   "execution_count": 32,
   "id": "daba5a8c-ab47-4786-8385-21d52814d9fd",
   "metadata": {},
   "outputs": [
    {
     "name": "stdout",
     "output_type": "stream",
     "text": [
      "dict_values(['alfa romeo', 'giulia gta', 1965, ['alfa red', 'montreal green'], True])\n"
     ]
    }
   ],
   "source": [
    "values = car.values()\n",
    "print(values)"
   ]
  },
  {
   "cell_type": "markdown",
   "id": "6d9ffc0c-7f94-46ee-a0b4-9e043495dfb5",
   "metadata": {},
   "source": [
    "## Get items\n",
    "The items() method will return each item in a dictionary, as tuples in a list."
   ]
  },
  {
   "cell_type": "code",
   "execution_count": 33,
   "id": "2023ff62-fd9d-4615-a0ca-41078bc4cb45",
   "metadata": {},
   "outputs": [
    {
     "name": "stdout",
     "output_type": "stream",
     "text": [
      "dict_items([('brand', 'alfa romeo'), ('model', 'giulia gta'), ('year', 1965), ('colors', ['alfa red', 'montreal green']), ('petrol', True)])\n",
      "\n",
      " [('brand', 'alfa romeo'), ('model', 'giulia gta'), ('year', 1965), ('colors', ['alfa red', 'montreal green']), ('petrol', True)]\n",
      "\n",
      ">> ('year', 1965)\n"
     ]
    }
   ],
   "source": [
    "items = car.items()\n",
    "print(items)\n",
    "items = list(items) #convert to python list\n",
    "print(\"\\n\",items) \n",
    "print(\"\\n>>\",items[2]) #now we can use it has a list"
   ]
  },
  {
   "cell_type": "markdown",
   "id": "9047b16e-98ac-47c1-86af-d17226693a62",
   "metadata": {
    "tags": []
   },
   "source": [
    "## Check if key exists\n",
    "To determine if a specified key is present in a dictionary use the in keyword:"
   ]
  },
  {
   "cell_type": "code",
   "execution_count": 34,
   "id": "6f0cf440-d28e-4bdd-818e-c9fb558533d9",
   "metadata": {},
   "outputs": [
    {
     "name": "stdout",
     "output_type": "stream",
     "text": [
      "Yes, 'model' exists and is:  giulia gta\n"
     ]
    }
   ],
   "source": [
    "if \"model\" in car:\n",
    "    print(\"Yes, 'model' exists and is: \", car[\"model\"])"
   ]
  },
  {
   "cell_type": "markdown",
   "id": "c5092b60-0102-4648-8c14-9e71a24ebd07",
   "metadata": {
    "tags": []
   },
   "source": [
    "## Remove items\n",
    "There are several methods to remove items from a dictionary.\n",
    "\n",
    "One is the the pop() method removes the item with the specified key name:"
   ]
  },
  {
   "cell_type": "code",
   "execution_count": 40,
   "id": "a44e33c8-4f6a-4372-b2ec-ad93e9aef539",
   "metadata": {},
   "outputs": [
    {
     "name": "stdout",
     "output_type": "stream",
     "text": [
      "{'brand': 'alfa romeo', 'model': 'giulia gta', 'year': 1965, 'colors': ['alfa red', 'montreal green'], 'petrol': True}\n",
      "\n",
      " {'model': 'giulia gta', 'year': 1965, 'colors': ['alfa red', 'montreal green'], 'petrol': True}\n"
     ]
    }
   ],
   "source": [
    "print(car)\n",
    "car.pop(\"brand\")\n",
    "print(\"\\n\", car)"
   ]
  },
  {
   "cell_type": "markdown",
   "id": "ea6ddcb2-559a-40fb-83ca-8d37d0cba62f",
   "metadata": {
    "tags": []
   },
   "source": [
    "## Loop Dictionary\n",
    "You can loop through a dictionary by using a for loop.\n",
    "\n",
    "When looping through a dictionary, the return value are the keys of the dictionary, but there are methods to return the values as well."
   ]
  },
  {
   "cell_type": "code",
   "execution_count": 47,
   "id": "9e22b3fe-aeed-4058-a34c-a072487bde5e",
   "metadata": {},
   "outputs": [
    {
     "name": "stdout",
     "output_type": "stream",
     "text": [
      "{'model': 'giulia gta', 'year': 1965, 'colors': ['alfa red', 'montreal green'], 'petrol': True} \n",
      ">>\n",
      "model : giulia gta\n",
      "year : 1965\n",
      "colors : ['alfa red', 'montreal green']\n",
      "petrol : True\n"
     ]
    }
   ],
   "source": [
    "print(car,\"\\n>>\")\n",
    "#make a pretty print\n",
    "for key in car.keys(): #or you can use car.values()\n",
    "    value = car[key]\n",
    "    print(key, \":\" ,value)\n"
   ]
  },
  {
   "cell_type": "code",
   "execution_count": 48,
   "id": "e00b6413-9114-4b3d-80a1-5ed6db053269",
   "metadata": {},
   "outputs": [
    {
     "name": "stdout",
     "output_type": "stream",
     "text": [
      "model : giulia gta\n",
      "year : 1965\n",
      "colors : ['alfa red', 'montreal green']\n",
      "petrol : True\n"
     ]
    }
   ],
   "source": [
    "# you can also use items\n",
    "for item in car.items(): \n",
    "    key, value = item #this is how you retrieve two values\n",
    "    print(key, \":\" ,value)"
   ]
  },
  {
   "cell_type": "markdown",
   "id": "282978d5-ab14-4fc8-b574-bc047e5e1507",
   "metadata": {
    "tags": []
   },
   "source": [
    "## Copy Dictionaries\n",
    "You cannot copy a dictionary simply by typing dict2 = dict1, because: dict2 will only be a reference to dict1, and changes made in dict1 will automatically also be made in dict2.\n",
    "\n",
    "There are ways to make a copy, one way is to use the built-in Dictionary method copy()."
   ]
  },
  {
   "cell_type": "code",
   "execution_count": 54,
   "id": "7db569a9-b719-49f3-ad4a-df04c9c19cf3",
   "metadata": {},
   "outputs": [
    {
     "name": "stdout",
     "output_type": "stream",
     "text": [
      "{'brand': 'alfa romeo', 'model': 'giulia gta', 'year': 1965}\n",
      "\n",
      " C: {'brand': 'alfa romeo', 'model': 'zagato', 'year': 1965}\n",
      " C1: {'brand': 'alfa romeo', 'model': 'zagato', 'year': 1965}\n",
      " C2: {'brand': 'alfa romeo', 'model': 'giulia gta', 'year': 1965}\n"
     ]
    }
   ],
   "source": [
    "car = {\n",
    "    \"brand\": \"alfa romeo\",\n",
    "    \"model\": \"giulia gta\",\n",
    "    \"year\": 1965,\n",
    "}\n",
    "print(car)\n",
    "car1 = car #without copying\n",
    "car2 = car.copy()\n",
    "car[\"model\"] = \"zagato\"\n",
    "print(f\"\\n C: {car}\\n C1: {car1}\\n C2: {car2}\")"
   ]
  },
  {
   "cell_type": "markdown",
   "id": "888f6cb4-f5f1-4a11-8430-481258f33da6",
   "metadata": {
    "tags": []
   },
   "source": [
    "## Nested Dictionaries\n",
    "A dictionary can contain other dictionaries:"
   ]
  },
  {
   "cell_type": "code",
   "execution_count": 56,
   "id": "c981c109-ab89-4d31-bf9c-929f8e15743d",
   "metadata": {},
   "outputs": [
    {
     "data": {
      "text/plain": [
       "{'car': {'brand': 'alfa romeo', 'model': 'zagato', 'year': 1965},\n",
       " 'car1': {'brand': 'alfa romeo', 'model': 'zagato', 'year': 1965},\n",
       " 'car2': {'brand': 'alfa romeo', 'model': 'giulia gta', 'year': 1965}}"
      ]
     },
     "metadata": {},
     "output_type": "display_data"
    }
   ],
   "source": [
    "cars = {\n",
    "    \"car\": car,\n",
    "    \"car1\": car1,\n",
    "    \"car2\": car2\n",
    "}\n",
    "display(cars)"
   ]
  },
  {
   "cell_type": "markdown",
   "id": "1fc72020-208c-4476-a76e-3e9a7500cd92",
   "metadata": {
    "tags": []
   },
   "source": [
    "## Save dictionary JSON file\n",
    "You can save directly save the dictionary to a JSON file to have a pretty log:"
   ]
  },
  {
   "cell_type": "code",
   "execution_count": 58,
   "id": "3c1bd8f7-0c3d-4ff0-b7b3-a684e71d093c",
   "metadata": {},
   "outputs": [],
   "source": [
    "import json\n",
    "with open('cars.json', 'w') as f:\n",
    "    json.dump(cars, f)"
   ]
  },
  {
   "cell_type": "markdown",
   "id": "070c594e-653f-4bc4-8e71-ace5b0af5413",
   "metadata": {
    "tags": []
   },
   "source": [
    "### Exercise <a name=\"back1\"></a> \n",
    "\n",
    "Get the key of a minimum value from the following dictionary using a for loop\n",
    "\n",
    "sample_dict = {\n",
    "  'Physics': 82,\n",
    "  'Math': 65,\n",
    "  'history': 75\n",
    "}"
   ]
  },
  {
   "cell_type": "markdown",
   "id": "aed1e52a-4531-48a5-8a64-d273c6d0d2d4",
   "metadata": {},
   "source": [
    "For more exercises go to https://www.w3resource.com/python-exercises/dictionary/, https://pynative.com/python-dictionary-exercise-with-solutions/"
   ]
  },
  {
   "cell_type": "markdown",
   "id": "823a2c56-78cd-4e4c-820f-78598cd8c366",
   "metadata": {
    "tags": []
   },
   "source": [
    "### Answers to the exercises"
   ]
  },
  {
   "cell_type": "markdown",
   "id": "1a26cd63-5d46-43c5-8d90-30b9ef569e82",
   "metadata": {},
   "source": [
    "<a name=\"ex1answer\">Answer to Exercise</a>"
   ]
  },
  {
   "cell_type": "code",
   "execution_count": 59,
   "id": "5c1a3bb0-d932-47cb-91b9-f053ab560cd3",
   "metadata": {},
   "outputs": [
    {
     "name": "stdout",
     "output_type": "stream",
     "text": [
      "Math\n"
     ]
    }
   ],
   "source": [
    "sample_dict = {\n",
    "  'Physics': 82,\n",
    "  'Math': 65,\n",
    "  'history': 75\n",
    "}\n",
    "key=\"not found\"\n",
    "mini = sample_dict[\"Physics\"] #declare the first minimum; you can also use numpy.NINF()\n",
    "for i in sample_dict.items():\n",
    "    k, v = i\n",
    "    if v< mini:\n",
    "        mini = v\n",
    "        key = k\n",
    "print(key)"
   ]
  },
  {
   "cell_type": "code",
   "execution_count": null,
   "id": "1d4dbc38-2a58-4824-88bb-6cd93d429b7a",
   "metadata": {},
   "outputs": [],
   "source": []
  }
 ],
 "metadata": {
  "kernelspec": {
   "display_name": "Python 3 (ipykernel)",
   "language": "python",
   "name": "python3"
  },
  "language_info": {
   "codemirror_mode": {
    "name": "ipython",
    "version": 3
   },
   "file_extension": ".py",
   "mimetype": "text/x-python",
   "name": "python",
   "nbconvert_exporter": "python",
   "pygments_lexer": "ipython3",
   "version": "3.9.7"
  }
 },
 "nbformat": 4,
 "nbformat_minor": 5
}
