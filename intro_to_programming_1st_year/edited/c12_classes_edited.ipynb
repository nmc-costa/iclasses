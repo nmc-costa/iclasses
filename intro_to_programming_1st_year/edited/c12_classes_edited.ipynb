{
 "cells": [
  {
   "cell_type": "markdown",
   "id": "4d657180-c0f4-497a-b50e-0eadc913d8a3",
   "metadata": {
    "tags": []
   },
   "source": [
    "# Python Classes & Objects\n",
    "*Developed by Nuno M.C. da Costa*\n",
    "\n",
    "info: \n",
    "- https://www.w3schools.com/python/python_classes.asp\n",
    "- https://docs.python.org/3/reference/datamodel.html#objects\n",
    "- https://docs.python.org/3/reference/compound_stmts.html#class"
   ]
  },
  {
   "cell_type": "markdown",
   "id": "c47d87d4-bbb3-4fce-a584-ba13ba4f9606",
   "metadata": {},
   "source": [
    "## Objects, values and types\n",
    "In summary, Python is an object oriented programming language. Objects are Python’s abstraction for data. \n",
    "\n",
    "All data in a Python program is represented by objects (with its properties and methods) or by relations between objects . (In a sense, and in conformance to Von Neumann’s model of a “stored program computer”, code is also represented by objects.)\n",
    "\n",
    "Every object has an identity, a type and a value. An object’s identity never changes once it has been created; you may think of it as the object’s address in memory. The `‘is’` operator compares the identity of two objects; the `id()` function returns an integer representing its identity."
   ]
  },
  {
   "cell_type": "code",
   "execution_count": 4,
   "id": "a69ee0a3-2a47-4250-8d7c-5141dfd815da",
   "metadata": {},
   "outputs": [
    {
     "name": "stdout",
     "output_type": "stream",
     "text": [
      "True\n",
      "False\n",
      "True\n",
      "2357554145584 \n",
      " 2357635213504\n"
     ]
    }
   ],
   "source": [
    "a=1\n",
    "b=[2]\n",
    "c=a\n",
    "print(a is a)\n",
    "print(a is b)\n",
    "print(a is c)\n",
    "print(id(a),'\\n',id(b))"
   ]
  },
  {
   "cell_type": "markdown",
   "id": "438d7085-68f5-4dfa-8eac-afe983b18d1d",
   "metadata": {},
   "source": [
    "## Create a Class\n",
    "A Class is like an object constructor, or a \"blueprint\" for creating objects. As such, the class system is the basis of Python.\n",
    "\n",
    "A class definition is an executable statement that defines a class object. A class inherit other parent classes structure. By default inherits the base class `object`."
   ]
  },
  {
   "cell_type": "code",
   "execution_count": 7,
   "id": "431df3ab-bad9-4187-913d-7861637d07ba",
   "metadata": {},
   "outputs": [],
   "source": [
    "#The default inheritance of object base class\n",
    "class MyClass(object):\n",
    "    x = 5\n",
    "#OR\n",
    "class MyClass():\n",
    "    x = 5\n",
    "#OR\n",
    "class MyClass:\n",
    "    x = 5"
   ]
  },
  {
   "cell_type": "markdown",
   "id": "8d0a4b27-7e4a-4d4a-8f3b-86c7c838d454",
   "metadata": {},
   "source": [
    "## Create an object from Class\n",
    "Now we can use the class named MyClass to create objects:"
   ]
  },
  {
   "cell_type": "code",
   "execution_count": 8,
   "id": "957ada32-7d32-4f7f-83a2-3db29a65de13",
   "metadata": {},
   "outputs": [
    {
     "name": "stdout",
     "output_type": "stream",
     "text": [
      "5\n"
     ]
    }
   ],
   "source": [
    "#Create an object named O1, and print the value of x:\n",
    "O1 = MyClass()\n",
    "print(O1.x)"
   ]
  },
  {
   "cell_type": "markdown",
   "id": "03f351ac-b8c7-4684-8fd8-299b2efaf046",
   "metadata": {},
   "source": [
    "## The `__init__()` Function\n",
    "The examples above are classes and objects in their simplest form, and are not really useful in real life applications.\n",
    "\n",
    "To understand the meaning of classes we have to understand the built-in `__init__()` function.\n",
    "\n",
    "All classes have a function called `__init__()`, which is always executed when the class is being initiated.\n",
    "\n",
    "Use the `__init__()` function to assign values to object properties, or other operations that are necessary to do when the object is being created:"
   ]
  },
  {
   "cell_type": "code",
   "execution_count": 13,
   "id": "78b27755-25ec-4c8d-9972-af7b5ae47dbc",
   "metadata": {},
   "outputs": [
    {
     "name": "stdout",
     "output_type": "stream",
     "text": [
      "alfa romeo\n",
      "giulia gta\n",
      "1965\n",
      "{'brand': 'alfa romeo', 'model': 'giulia gta', 'year': 1965}\n"
     ]
    }
   ],
   "source": [
    "#create class\n",
    "class car:\n",
    "    def __init__(self, brand, model, year):\n",
    "        self.brand = brand\n",
    "        self.model = model\n",
    "        self.year = year      #self represents car\n",
    "        \n",
    "#create an object from class\n",
    "c1 = car(\"alfa romeo\", \"giulia gta\", 1965)\n",
    "\n",
    "\n",
    "print(c1.brand)\n",
    "print(c1.model)\n",
    "print(c1.year)\n",
    "print(c1.__dict__)#convert class in dict"
   ]
  },
  {
   "cell_type": "markdown",
   "id": "9e54173e-f7b7-4f8b-9346-44275c420675",
   "metadata": {
    "tags": []
   },
   "source": [
    "## The `self` Parameter\n",
    "The self parameter is a reference to the current instance of the class, and is used to access variables that belongs to the class."
   ]
  },
  {
   "cell_type": "markdown",
   "id": "eea2cbcd-dceb-41ab-a0d6-54d4639d7dae",
   "metadata": {
    "tags": []
   },
   "source": [
    "## Object Methods/functions\n",
    "Objects can also contain methods. Methods in objects are functions that belong to the object.\n",
    "\n",
    "Let us create a method in the car class:"
   ]
  },
  {
   "cell_type": "code",
   "execution_count": 16,
   "id": "fe4b7373-b92a-49f2-b75e-ae2611f6863b",
   "metadata": {},
   "outputs": [
    {
     "name": "stdout",
     "output_type": "stream",
     "text": [
      "brand : alfa romeo\n",
      "model : giulia gta\n",
      "year : 1965\n"
     ]
    }
   ],
   "source": [
    "#create class\n",
    "class car:\n",
    "    #define the __init__() function\n",
    "    def __init__(self, brand, model, year):\n",
    "        self.brand = brand\n",
    "        self.model = model\n",
    "        self.year = year      #self represents car\n",
    "    #define other methods of the class using functions  \n",
    "    def pretty_print(self):\n",
    "        car=self.__dict__\n",
    "        #make a pretty print\n",
    "        for item in car.items(): \n",
    "            key, value = item #this is how you retrieve two values\n",
    "            print(key, \":\" ,value)\n",
    "    \n",
    "         \n",
    "#create an object from class\n",
    "c1 = car(\"alfa romeo\", \"giulia gta\", 1965)\n",
    "\n",
    "c1.pretty_print() #call pretty_print function"
   ]
  },
  {
   "cell_type": "markdown",
   "id": "66d99167-a812-41dd-be99-ce472c667f73",
   "metadata": {
    "tags": []
   },
   "source": [
    "## Modify Object Properties\n",
    "You can modify properties on objects like this:"
   ]
  },
  {
   "cell_type": "code",
   "execution_count": 19,
   "id": "eac95295-213b-4392-af74-6b9aaeb1d45b",
   "metadata": {},
   "outputs": [
    {
     "name": "stdout",
     "output_type": "stream",
     "text": [
      "brand : alfa romeo\n",
      "model : gt junior\n",
      "year : 1965\n"
     ]
    }
   ],
   "source": [
    "c1.model = \"gt junior\"\n",
    "c1.pretty_print()"
   ]
  },
  {
   "cell_type": "markdown",
   "id": "e736f430-65f1-4040-9cfe-b59b404c2512",
   "metadata": {
    "tags": []
   },
   "source": [
    "## Delete Object and Properties\n",
    "You can delete object or properties on objects by using the del keyword:"
   ]
  },
  {
   "cell_type": "code",
   "execution_count": 20,
   "id": "e7fa0c80-df75-4db5-8617-cacc0218de69",
   "metadata": {},
   "outputs": [
    {
     "name": "stdout",
     "output_type": "stream",
     "text": [
      "brand : alfa romeo\n",
      "model : gt junior\n"
     ]
    }
   ],
   "source": [
    "del c1.year\n",
    "c1.pretty_print()"
   ]
  },
  {
   "cell_type": "code",
   "execution_count": 21,
   "id": "28498b06-09a2-45ee-b83e-e879b1a15cd6",
   "metadata": {},
   "outputs": [
    {
     "ename": "NameError",
     "evalue": "name 'c1' is not defined",
     "output_type": "error",
     "traceback": [
      "\u001b[1;31m---------------------------------------------------------------------------\u001b[0m",
      "\u001b[1;31mNameError\u001b[0m                                 Traceback (most recent call last)",
      "\u001b[1;32mC:\\Users\\NMC_CO~1\\AppData\\Local\\Temp/ipykernel_18476/495850513.py\u001b[0m in \u001b[0;36m<module>\u001b[1;34m\u001b[0m\n\u001b[0;32m      1\u001b[0m \u001b[1;32mdel\u001b[0m \u001b[0mc1\u001b[0m\u001b[1;33m\u001b[0m\u001b[1;33m\u001b[0m\u001b[0m\n\u001b[1;32m----> 2\u001b[1;33m \u001b[0mprint\u001b[0m\u001b[1;33m(\u001b[0m\u001b[0mc1\u001b[0m\u001b[1;33m)\u001b[0m\u001b[1;33m\u001b[0m\u001b[1;33m\u001b[0m\u001b[0m\n\u001b[0m",
      "\u001b[1;31mNameError\u001b[0m: name 'c1' is not defined"
     ]
    }
   ],
   "source": [
    "del c1\n",
    "print(c1)"
   ]
  },
  {
   "cell_type": "markdown",
   "id": "6e8164cc-ab26-4587-8d1f-9d4b95ee7739",
   "metadata": {
    "tags": []
   },
   "source": [
    "## The pass Statement\n",
    "class definitions cannot be empty, but if you for some reason have a class definition with no content, put in the pass statement to avoid getting an error. \n",
    "\n",
    "#### NOTE: \n",
    "This is good for when you start a class and you want to structure all the object, but you don't have the time to code the functions yet. You can also instead put a print(\"TODO\") inside "
   ]
  },
  {
   "cell_type": "code",
   "execution_count": 18,
   "id": "e1b35bf7-a2d5-4126-97ea-d4030de4be79",
   "metadata": {},
   "outputs": [
    {
     "name": "stdout",
     "output_type": "stream",
     "text": [
      "brand : alfa romeo\n",
      "model : giulia gta\n",
      "year : 1965\n",
      "TODO\n"
     ]
    }
   ],
   "source": [
    "#create class\n",
    "class car:\n",
    "    #define the __init__() function\n",
    "    def __init__(self, brand, model, year):\n",
    "        self.brand = brand\n",
    "        self.model = model\n",
    "        self.year = year      #self represents car\n",
    "    #define other methods of the class using functions  \n",
    "    def pretty_print(self):\n",
    "        car=self.__dict__\n",
    "        #make a pretty print\n",
    "        for item in car.items(): \n",
    "            key, value = item #this is how you retrieve two values\n",
    "            print(key, \":\" ,value)\n",
    "    def calculate_price(self):\n",
    "        \"\"\"TODO\"\"\"\n",
    "        pass\n",
    "    def remove_model(self):\n",
    "        \"\"\"TODO\"\"\"\n",
    "        print(\"TODO\")\n",
    "    \n",
    "         \n",
    "#create an object from class\n",
    "c1 = car(\"alfa romeo\", \"giulia gta\", 1965)\n",
    "\n",
    "c1.pretty_print() #call pretty_print function\n",
    "c1.calculate_price()\n",
    "c1.remove_model()"
   ]
  },
  {
   "cell_type": "markdown",
   "id": "8d59927c-b15a-4e18-b363-2abffeefd94c",
   "metadata": {
    "tags": []
   },
   "source": [
    "### Exercise <a name=\"back1\"></a> \n",
    "How to Represent an agorithm?\n",
    "5 steps:\n",
    "1. Solution planning\n",
    "2. Pseudocode\n",
    "3. Simple Representation\n",
    "4. Function Representation \n",
    "5. Class Representation\n",
    "\n",
    "##### Class representation\n",
    "The python way to reuse code. We are basically incapsulating our function inside of a class of functions (an object that saves all our functions). After doing the function representation and the function is working, the best practice to save our function is to put inside of a class of functions. This will help to organize our code as the lines of code become bigger, and we can call many functions whenever we want.\n",
    "\n",
    "Advantage:\n",
    "\n",
    "Easy maintance of code.\n",
    "Reuse code whenever we want.\n",
    "Debug is easier.\n",
    "The code is even better structured.\n",
    "More than one function can be used whenever we want\n",
    "\n",
    "\n",
    "##### Exercise\n",
    "Given the price of a rectangular field, as well as the measurements of two adjacent sides, it is intended to know whether its price, per square meter, is above or below the average price in the area.\n",
    "\n",
    "1. Create a class that receives the parameters `price, price_mean_m2, length, width` in the `__init__()` function.\n",
    "2. Define a function to calculate the price_m2 (price / area)\n",
    "3. Define a function to check if price_m2 is above or below the average price in the area;"
   ]
  },
  {
   "cell_type": "markdown",
   "id": "cb5d3fe3-d421-4deb-bab6-42d4b3865950",
   "metadata": {},
   "source": [
    "For more exercises go to https://www.w3resource.com/python-exercises/class-exercises/index.php"
   ]
  },
  {
   "cell_type": "markdown",
   "id": "b3444103-e257-4f6f-b962-ed365ae9bdda",
   "metadata": {
    "tags": []
   },
   "source": [
    "### Answers to the exercises"
   ]
  },
  {
   "cell_type": "markdown",
   "id": "076bc613-f50f-47d0-9007-f7e2ad7e96e4",
   "metadata": {},
   "source": [
    "<a name=\"ex1answer\">Answer to Exercise</a>"
   ]
  },
  {
   "cell_type": "code",
   "execution_count": 25,
   "id": "ade4fc39-a50b-42dc-a71a-270992138c7b",
   "metadata": {},
   "outputs": [],
   "source": [
    "class prices:\n",
    "    def __init__(self, price, price_mean_m2, length, width):\n",
    "        self.price=price\n",
    "        self.price_mean_m2 = price_mean_m2\n",
    "        self.length=length\n",
    "        self.width=width\n",
    "        self.price_m2() #we can also sart another function right away\n",
    "        \n",
    "        \n",
    "    def price_m2(self): \n",
    "        self.area=self.length*self.width #m2 #save to the object\n",
    "        self.price_m2=self.price / self.area #euros/m2\n",
    "        print('price_m2: ',self.price_m2, ';',' price_mean_m2: ', self.price_mean_m2) #for debug\n",
    "    def print_conditions(self):   \n",
    "        #Condicoes:\n",
    "        if self.price_m2 < self.price_mean_m2:\n",
    "            print(\"Mean price is superior!\")\n",
    "        else:\n",
    "            if self.price_m2 > self.price_mean_m2:\n",
    "                print(\"Mean price is inferior!\")\n",
    "            else:\n",
    "                print(\"Price are the same!\")"
   ]
  },
  {
   "cell_type": "markdown",
   "id": "becfecc7-7074-49cc-ba9c-f452c855ae37",
   "metadata": {},
   "source": [
    "So now, after saving the above class, you can use it in the code whenever you like:"
   ]
  },
  {
   "cell_type": "code",
   "execution_count": 26,
   "id": "1a9bc240-61cb-4eca-a1f2-574a92f23c98",
   "metadata": {},
   "outputs": [
    {
     "name": "stdout",
     "output_type": "stream",
     "text": [
      "price_m2:  5.0 ;  price_mean_m2:  4\n",
      "Mean price is inferior!\n"
     ]
    }
   ],
   "source": [
    "price = 50000#input(\"Insert the price1 in euros!\") #input() returns string value\n",
    "price_mean_m2= 4 #euros/m2\n",
    "length = 100 #m\n",
    "width = 100 #m\n",
    "\n",
    "p1=prices(price, price_mean_m2, length, width)\n",
    "p1.print_conditions()"
   ]
  },
  {
   "cell_type": "code",
   "execution_count": 27,
   "id": "099404ba-da0d-42af-b0f9-a015b4e3c7b3",
   "metadata": {},
   "outputs": [
    {
     "name": "stdout",
     "output_type": "stream",
     "text": [
      "price_m2:  1.0 ;  price_mean_m2:  2\n",
      "Mean price is superior!\n"
     ]
    }
   ],
   "source": [
    "price = 20000#input(\"Insert the price1 in euros!\") #input() returns string value\n",
    "price_mean_m2= 2 #euros/m2\n",
    "length = 200 #m\n",
    "width = 100 #m\n",
    "\n",
    "p1=prices(price, price_mean_m2, length, width)\n",
    "p1.print_conditions()"
   ]
  },
  {
   "cell_type": "code",
   "execution_count": null,
   "id": "e496cfef-f22a-4f66-b723-3a33f0630654",
   "metadata": {},
   "outputs": [],
   "source": []
  }
 ],
 "metadata": {
  "kernelspec": {
   "display_name": "Python 3 (ipykernel)",
   "language": "python",
   "name": "python3"
  },
  "language_info": {
   "codemirror_mode": {
    "name": "ipython",
    "version": 3
   },
   "file_extension": ".py",
   "mimetype": "text/x-python",
   "name": "python",
   "nbconvert_exporter": "python",
   "pygments_lexer": "ipython3",
   "version": "3.9.7"
  }
 },
 "nbformat": 4,
 "nbformat_minor": 5
}
