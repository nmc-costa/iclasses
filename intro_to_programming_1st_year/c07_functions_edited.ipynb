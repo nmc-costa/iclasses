{
 "cells": [
  {
   "cell_type": "markdown",
   "id": "b10f4718-a4c4-49a2-b93f-841b180657bf",
   "metadata": {
    "tags": []
   },
   "source": [
    "# Functions\n",
    "*Developed by Nuno M.C. da Costa*\n",
    "\n",
    "info: \n",
    "- https://docs.python.org/3/tutorial/controlflow.html#defining-functions\n",
    "- http://mbakker7.github.io/exploratory_computing_with_python/"
   ]
  },
  {
   "cell_type": "code",
   "execution_count": 1,
   "id": "bf594d21-8a23-416e-b3a8-d28b252b0a7d",
   "metadata": {},
   "outputs": [],
   "source": [
    "%matplotlib inline\n",
    "import numpy as np\n",
    "import matplotlib.pyplot as plt"
   ]
  },
  {
   "cell_type": "markdown",
   "id": "3978ae33-14d3-4342-a0f6-36ac306fab42",
   "metadata": {
    "tags": []
   },
   "source": [
    "### Functions\n",
    "Functions are an essential part of a programming language.\n",
    "You already used many functions like `print()`, `int()`, `str()`, and others.\n",
    "\n",
    "But you can also define your own functions.\n",
    "To define a new function, use the `def` command. After `def` follows the name of the function and then between parentheses the arguments of the function and finally a colon. After the colon you indent until you are done with the function. \n",
    "\n",
    "The last line of the function should be `return` followed by what you want to return. For example, consider the following function of $x$:\n",
    "\n",
    "$f(x)= \\cos(x) \\qquad x <0$\n",
    "\n",
    "$f(x) = \\exp(-x) \\qquad x \\ge 0$\n",
    "\n",
    "Let's implement $f(x)$ in a function called `func`. There is one input argument: $x$. "
   ]
  },
  {
   "cell_type": "code",
   "execution_count": 17,
   "id": "dce86238-12f8-4338-bd44-2948e031cba1",
   "metadata": {},
   "outputs": [
    {
     "name": "stdout",
     "output_type": "stream",
     "text": [
      "0.1353352832366127\n",
      "0.0024787521766663585\n",
      "4.5399929762484854e-05\n"
     ]
    }
   ],
   "source": [
    "def func(x):\n",
    "    if x < 0:\n",
    "        f = np.cos(x)\n",
    "    else:\n",
    "        f = np.exp(-x)\n",
    "    return f\n",
    "print(func(2))\n",
    "print(func(6))\n",
    "print(func(10))"
   ]
  },
  {
   "cell_type": "code",
   "execution_count": null,
   "id": "bc3e61aa-5e0e-4c41-a1dd-119de1d94f6a",
   "metadata": {},
   "outputs": [],
   "source": [
    "cos = func(-1)"
   ]
  },
  {
   "cell_type": "markdown",
   "id": "118c9d5d-6f94-4ec1-a7d0-b5f98093f42b",
   "metadata": {},
   "source": [
    "Once you define a function in Python, you can call it whenever you want during the session. So we can call it again"
   ]
  },
  {
   "cell_type": "code",
   "execution_count": 5,
   "id": "20a7ada5-1008-43dd-902d-3f6a66ef8aa4",
   "metadata": {},
   "outputs": [
    {
     "name": "stdout",
     "output_type": "stream",
     "text": [
      "-0.4161468365471424\n"
     ]
    }
   ],
   "source": [
    "print(func(-2))"
   ]
  },
  {
   "cell_type": "markdown",
   "id": "46b42c74-ec90-4363-84bc-92640e7e637c",
   "metadata": {},
   "source": [
    "If you type\n",
    "\n",
    "`func(` and then hit [shift-tab]\n",
    "\n",
    "and wait a split second, the input arguments of the function pop-up in a little window, just like for other functions we already used. You can also provide additional documentation of your function. Put the documentation at the top of the indented block and put it between triple double quotes (`\"\"\"`). Run the code below to define the function `func` with the additional documentation, then in the code cell below type \n",
    "\n",
    "`func(` \n",
    "\n",
    "and hit [shift][tab] to see the additional documentation. Warning: don't leave a code cell with just `func(` or `func()` as you will get an error on [Kernel][Restart & Run All Cells]."
   ]
  },
  {
   "cell_type": "code",
   "execution_count": 18,
   "id": "b0d03575-3530-44c7-86fd-f87865ef2a28",
   "metadata": {},
   "outputs": [],
   "source": [
    "def func(x):\n",
    "    \"\"\"First Python function\n",
    "    written by Student X\n",
    "\n",
    "    parameters: x\n",
    "    \n",
    "    return: y\n",
    "    \"\"\"\n",
    "    if x < 0:\n",
    "        f = np.cos(x)\n",
    "    else:\n",
    "        f = np.exp(-x)\n",
    "    return f"
   ]
  },
  {
   "cell_type": "code",
   "execution_count": null,
   "id": "ed3a1e54-3be4-4f12-b045-ddf1841accdb",
   "metadata": {},
   "outputs": [],
   "source": [
    "func()"
   ]
  },
  {
   "cell_type": "markdown",
   "id": "45acac5b-d7f0-40d6-8b53-74380c6c328e",
   "metadata": {},
   "source": [
    "The names of the arguments of a function are the names used inside the function. They have no relationship to the names used outside the function. When using a variable as the argument of a function, only the *value* gets passed to the function. In the example below, the *value* of `y` is passed as the first argument of the function `func`. Inside the function, this value is used for the variable `x`."
   ]
  },
  {
   "cell_type": "code",
   "execution_count": 14,
   "id": "57eec2ec-75cf-435d-a846-e12155cdd1ea",
   "metadata": {},
   "outputs": [
    {
     "name": "stdout",
     "output_type": "stream",
     "text": [
      "func( -10 ): -0.8390715290764524\n"
     ]
    }
   ],
   "source": [
    "yah = -10\n",
    "print('func(', yah,'):', func(yah))"
   ]
  },
  {
   "cell_type": "code",
   "execution_count": 16,
   "id": "a3f44500-abae-4e34-882f-755250b75cfb",
   "metadata": {},
   "outputs": [
    {
     "name": "stdout",
     "output_type": "stream",
     "text": [
      "func(-10): -0.8390715290764524\n"
     ]
    }
   ],
   "source": [
    "mensagem = \"func(\"+ str(yah) + '): ' + str(func(yah))\n",
    "print(mensagem)\n",
    "\n",
    "a=\"m1 \" + \"m2\"\n",
    "\n",
    "if a==\"m1 \" + \"m2\":\n",
    "    print(\"2 mensagens\")\n",
    "elif a==\"m2\":\n",
    "    print(\"mensagem\")"
   ]
  },
  {
   "cell_type": "code",
   "execution_count": 15,
   "id": "ede74cdf-549a-4e8e-a442-2e2952b8da2a",
   "metadata": {},
   "outputs": [
    {
     "data": {
      "text/plain": [
       "'-10'"
      ]
     },
     "execution_count": 15,
     "metadata": {},
     "output_type": "execute_result"
    }
   ],
   "source": [
    "str(yah)"
   ]
  },
  {
   "cell_type": "markdown",
   "id": "4bcf1a7c-19ea-4a56-aa65-9ef2b9acf934",
   "metadata": {},
   "source": [
    "### Packages - library of functions\n",
    "A package is a set of Python functions. When we want to use a function from a package, we need to import it. There are many different ways to import packages. The most basic syntax is\n",
    "\n",
    "`import numpy`\n",
    "\n",
    "after which any function in `numpy` can be called as `numpy.function()`. If you don't like the name of the package, for example because it is long, you can change the name. The `numpy` package is renamed to `np` by typing\n",
    "\n",
    "`import numpy as np`\n",
    "\n",
    "after which all functions in `numpy` can be called as `np.function()`. \n",
    "\n",
    "Packages can also have subpackages. For example, the `numpy` package has a subpackage called `random`, which has a bunch of functions to deal with random variables. If the `numpy` package is imported with `import numpy as np`, functions in the `random` subpackage can be called as `np.random.function()`. \n",
    "\n",
    "If you only need one specific function, you don't have to import the entire package. For example, if you only want the cosine function of the numpy package, you may import it as `from numpy import cos`, after which you can simply call the cosine function as `cos()`. You can even rename functions when you import them. For example, after `from numpy import cos as newname`, you can call the function `newname()` to compute the cosine (I know, pretty silly, but this can become handy). "
   ]
  },
  {
   "cell_type": "code",
   "execution_count": 3,
   "id": "aae94076-a73f-40c5-bafe-9efc46a39cee",
   "metadata": {},
   "outputs": [],
   "source": [
    "#example\n",
    "%matplotlib inline\n",
    "import numpy as np\n",
    "import matplotlib.pyplot as plt"
   ]
  },
  {
   "cell_type": "code",
   "execution_count": null,
   "id": "5858a96d-fc7b-4528-ae32-63ef493d3748",
   "metadata": {},
   "outputs": [],
   "source": []
  },
  {
   "cell_type": "markdown",
   "id": "b7c70d4e-242f-4772-aea5-7a6a10dff0e2",
   "metadata": {},
   "source": [
    "<a href=\"#ex1answer\">Answer to Exercise 1</a>"
   ]
  },
  {
   "cell_type": "markdown",
   "id": "e3ea7747-6951-4dd6-9fc6-84f7e88a1a45",
   "metadata": {
    "tags": []
   },
   "source": [
    "### Keyword arguments\n",
    "Functions may have multiple input arguments followed by keyword arguments. Arguments *must* be entered and must be entered in the order defined. Keyword arguments don't need to be entered. When they are not entered, the default value is used. Keyword arguments may be given in any order as long as they come after the regular arguments. If you specify the keyword arguments in the order they are defined in the argument list, you don't even need to preceed them with the keyword, but it is saver to write the keywords out and it makes your code easier to read. For example, the function $f(x)=A\\cos(\\pi x+\\theta)$ can be written with keyword arguments for $A$ and $\\theta$ as follows."
   ]
  },
  {
   "cell_type": "code",
   "execution_count": 21,
   "id": "9b7f575e-7530-4188-8a67-d92200b8eaf4",
   "metadata": {},
   "outputs": [
    {
     "ename": "TypeError",
     "evalue": "testfunc() missing 1 required positional argument: 'y'",
     "output_type": "error",
     "traceback": [
      "\u001b[1;31m---------------------------------------------------------------------------\u001b[0m",
      "\u001b[1;31mTypeError\u001b[0m                                 Traceback (most recent call last)",
      "\u001b[1;32mC:\\Users\\NMC_CO~1\\AppData\\Local\\Temp/ipykernel_15200/3164036861.py\u001b[0m in \u001b[0;36m<module>\u001b[1;34m\u001b[0m\n\u001b[0;32m      2\u001b[0m     \u001b[1;32mreturn\u001b[0m \u001b[0mA\u001b[0m \u001b[1;33m*\u001b[0m \u001b[0mnp\u001b[0m\u001b[1;33m.\u001b[0m\u001b[0mcos\u001b[0m\u001b[1;33m(\u001b[0m\u001b[0mnp\u001b[0m\u001b[1;33m.\u001b[0m\u001b[0mpi\u001b[0m \u001b[1;33m*\u001b[0m \u001b[0mx\u001b[0m \u001b[1;33m+\u001b[0m \u001b[0mtheta\u001b[0m\u001b[1;33m)\u001b[0m\u001b[1;33m\u001b[0m\u001b[1;33m\u001b[0m\u001b[0m\n\u001b[0;32m      3\u001b[0m \u001b[1;33m\u001b[0m\u001b[0m\n\u001b[1;32m----> 4\u001b[1;33m \u001b[0mprint\u001b[0m\u001b[1;33m(\u001b[0m\u001b[0mtestfunc\u001b[0m\u001b[1;33m(\u001b[0m\u001b[1;36m1\u001b[0m\u001b[1;33m)\u001b[0m\u001b[1;33m)\u001b[0m  \u001b[1;31m# Uses default A=1, theta=0: cos(pi)\u001b[0m\u001b[1;33m\u001b[0m\u001b[1;33m\u001b[0m\u001b[0m\n\u001b[0m\u001b[0;32m      5\u001b[0m \u001b[0mprint\u001b[0m\u001b[1;33m(\u001b[0m\u001b[0mtestfunc\u001b[0m\u001b[1;33m(\u001b[0m\u001b[1;36m1\u001b[0m\u001b[1;33m,\u001b[0m \u001b[0mA\u001b[0m\u001b[1;33m=\u001b[0m\u001b[1;36m2\u001b[0m\u001b[1;33m)\u001b[0m\u001b[1;33m)\u001b[0m  \u001b[1;31m# Now A=2, and theta is still 0: 2*cos(pi)\u001b[0m\u001b[1;33m\u001b[0m\u001b[1;33m\u001b[0m\u001b[0m\n\u001b[0;32m      6\u001b[0m \u001b[0mprint\u001b[0m\u001b[1;33m(\u001b[0m\u001b[0mtestfunc\u001b[0m\u001b[1;33m(\u001b[0m\u001b[1;36m1\u001b[0m\u001b[1;33m,\u001b[0m \u001b[0mA\u001b[0m\u001b[1;33m=\u001b[0m\u001b[1;36m2\u001b[0m\u001b[1;33m,\u001b[0m \u001b[0mtheta\u001b[0m\u001b[1;33m=\u001b[0m\u001b[0mnp\u001b[0m\u001b[1;33m.\u001b[0m\u001b[0mpi\u001b[0m \u001b[1;33m/\u001b[0m \u001b[1;36m4\u001b[0m\u001b[1;33m)\u001b[0m\u001b[1;33m)\u001b[0m  \u001b[1;31m# Now A=2, theta=pi/4: 2*cos(5pi/4)\u001b[0m\u001b[1;33m\u001b[0m\u001b[1;33m\u001b[0m\u001b[0m\n",
      "\u001b[1;31mTypeError\u001b[0m: testfunc() missing 1 required positional argument: 'y'"
     ]
    }
   ],
   "source": [
    "def testfunc(x, A=1, theta=0):\n",
    "    return A * np.cos(np.pi * x + theta)\n",
    "\n",
    "print(testfunc(1))  # Uses default A=1, theta=0: cos(pi)\n",
    "print(testfunc(1, A=2))  # Now A=2, and theta is still 0: 2*cos(pi)\n",
    "print(testfunc(1, A=2, theta=np.pi / 4))  # Now A=2, theta=pi/4: 2*cos(5pi/4)\n",
    "print(testfunc(1, theta=np.pi / 4, A=2))  # Same as above: 2*cos(5pi/4)\n",
    "print(testfunc(1, theta=np.pi / 4))  # Now theta=pi/4, and A is still 1: cos(5pi/4)"
   ]
  },
  {
   "cell_type": "markdown",
   "id": "981ea1ec-2472-4843-9585-e2e52cd97004",
   "metadata": {},
   "source": [
    "Note that the proper style was applied, as defined in Notebook 1: there are spaces around mathematical symbols, but not around the equal sign of the keyword argument. "
   ]
  },
  {
   "cell_type": "markdown",
   "id": "d98ad956-1c9b-4a4d-94a0-7e9bdee8a131",
   "metadata": {},
   "source": [
    "### Global and Local variables\n",
    "Variables declared inside a function can only be used inside that function. The outside of a function doesn't know about the variables used inside the function, except for the variables that are returned by the function. In the code below, remove the `#` before `print(a)` and you will get an error message, as `a` is a local variable inside the function `localtest` (then put the `#` back, else you get an error when running [Kernel][Restart & Run All Cells])."
   ]
  },
  {
   "cell_type": "code",
   "execution_count": 26,
   "id": "359c9921-45a5-405f-994f-a7069f55424b",
   "metadata": {},
   "outputs": [
    {
     "name": "stdout",
     "output_type": "stream",
     "text": [
      "25\n"
     ]
    }
   ],
   "source": [
    "GLOBAL_1 = 5\n",
    "\n",
    "\n",
    "def localtest():\n",
    "    local_a = 3\n",
    "    local_b = 5\n",
    "    return local_a * x + local_b + GLOBAL_1\n",
    "\n",
    "GLOBAL_2 = localtest(GLOBAL_1)\n",
    "\n",
    "print(GLOBAL_2)"
   ]
  },
  {
   "cell_type": "code",
   "execution_count": 28,
   "id": "1d6d92c6-2369-4e32-becb-b0a9004a8385",
   "metadata": {},
   "outputs": [
    {
     "name": "stdout",
     "output_type": "stream",
     "text": [
      "5\n",
      "25\n"
     ]
    }
   ],
   "source": [
    "print(GLOBAL_1)\n",
    "print(GLOBAL_2)"
   ]
  },
  {
   "cell_type": "code",
   "execution_count": 29,
   "id": "ea701923-d0e2-4538-9705-1d679688c74f",
   "metadata": {},
   "outputs": [
    {
     "ename": "NameError",
     "evalue": "name 'local_a' is not defined",
     "output_type": "error",
     "traceback": [
      "\u001b[1;31m---------------------------------------------------------------------------\u001b[0m",
      "\u001b[1;31mNameError\u001b[0m                                 Traceback (most recent call last)",
      "\u001b[1;32mC:\\Users\\NMC_CO~1\\AppData\\Local\\Temp/ipykernel_15200/1893150957.py\u001b[0m in \u001b[0;36m<module>\u001b[1;34m\u001b[0m\n\u001b[1;32m----> 1\u001b[1;33m \u001b[0mprint\u001b[0m\u001b[1;33m(\u001b[0m\u001b[0mlocal_a\u001b[0m\u001b[1;33m)\u001b[0m  \u001b[1;31m# Will cause an error, as 'a' is not known outside function\u001b[0m\u001b[1;33m\u001b[0m\u001b[1;33m\u001b[0m\u001b[0m\n\u001b[0m",
      "\u001b[1;31mNameError\u001b[0m: name 'local_a' is not defined"
     ]
    }
   ],
   "source": [
    "print(local_a)  # Will cause an error, as 'a' is not known outside function "
   ]
  },
  {
   "cell_type": "markdown",
   "id": "bce4e262-25d4-407c-9844-9fee7955d827",
   "metadata": {},
   "source": [
    "#### Three types of variables inside a function: Argument, GLOBAL(outside) and local\n",
    "When a variable is used inside a Python function, Python first checks whether the variable has been defined locally. If not, it checks whether the variable is passed to the function through the argument list. And if that is not the case, Python checks whether the variable is defined outside  the function (`GLOBAL` variable), from the place the function was called. (NOTE: good coding uses only local variables and arguments inside functions)\n",
    "\n",
    "Note that when a variable is defined locally, Python will not check whether that variable is also declared outside the function. It will happily create a new variable with the same name inside the function. It is important to realize the difference between these different types, so let's do a few examples:"
   ]
  },
  {
   "cell_type": "code",
   "execution_count": 31,
   "id": "6c4e4418-1d27-4d13-a0b2-fe847e767663",
   "metadata": {},
   "outputs": [
    {
     "name": "stdout",
     "output_type": "stream",
     "text": [
      "17\n",
      "29\n"
     ]
    }
   ],
   "source": [
    "# This function works properly\n",
    "def test1(x):\n",
    "    a = 3\n",
    "    b = 5\n",
    "    return a * x + b\n",
    "\n",
    "print(test1(4))\n",
    "\n",
    "# This function also works, but it is sloppy coding\n",
    "# since variable a is defined outside the function\n",
    "a = 3\n",
    "\n",
    "def test2(x):\n",
    "    b = 5\n",
    "    return a * x + b\n",
    "\n",
    "print(test2(4))  "
   ]
  },
  {
   "cell_type": "code",
   "execution_count": 47,
   "id": "c33ba6df-4722-4806-9aa4-219156a30ce9",
   "metadata": {},
   "outputs": [
    {
     "name": "stdout",
     "output_type": "stream",
     "text": [
      "Inside the function test3, var1 equals: 8\n",
      "Value of var1 outside test3: 8\n"
     ]
    }
   ],
   "source": [
    "var1 = 8\n",
    "var2 = 10\n",
    "def test3(var1):\n",
    "    var1 = 4 #the function prioritizes this definition\n",
    "    print('Inside the function test3, var1 equals:', var1)\n",
    "    return\n",
    "    \n",
    "test3(var2)\n",
    "print('Value of var1 outside test3:', var1)"
   ]
  },
  {
   "cell_type": "markdown",
   "id": "d16f6f81-ff2f-4a5f-a4f0-9297242cb4a8",
   "metadata": {},
   "source": [
    "### Return multiple *things*\n",
    "An assignment can assign values to multiple variables in one statement, for example"
   ]
  },
  {
   "cell_type": "code",
   "execution_count": 50,
   "id": "d71a0581-a30e-475e-ae3d-799f1a15b3d6",
   "metadata": {},
   "outputs": [
    {
     "name": "stdout",
     "output_type": "stream",
     "text": [
      "a: 4\n",
      "b: 3\n",
      "c: 1\n",
      "d: 27\n",
      "e: [0 1 2 3]\n",
      "f: hello\n",
      "g: 0\n",
      "h: 5\n",
      "j: 10\n",
      "[ 0  5 10]\n"
     ]
    }
   ],
   "source": [
    "a, b, c,  = 4, 3, \"1\"\n",
    "\n",
    "print('a:', a)\n",
    "print('b:', b)\n",
    "print('c:', c)\n",
    "\n",
    "a, b, c = 27, np.arange(4), 'hello'\n",
    "print('d:', a)\n",
    "print('e:', b)\n",
    "print('f:', c)\n",
    "\n",
    "d, e, f = np.arange(0, 11, 5)\n",
    "print('g:', d)\n",
    "print('h:', e)\n",
    "print('j:', f)\n",
    "print(np.arange(0, 11, 5))"
   ]
  },
  {
   "cell_type": "markdown",
   "id": "1c2f8b3e-9997-4055-9c12-bed824a73282",
   "metadata": {},
   "source": [
    "Similarly, a function may return one value or one array. Or a function may return multiple values, multiple arrays, or whatever the programmer decides to return (including nothing, of course). When multiple *things* are returned, they are returned as a tuple. They can be stored as a tuple, or, if the user knows how many *things* are returned, they can be stored in individual variables right away, as in the example below."
   ]
  },
  {
   "cell_type": "code",
   "execution_count": 52,
   "id": "8750ffb3-9733-4bc0-b591-add1ca8b1f9b",
   "metadata": {},
   "outputs": [
    {
     "data": {
      "text/plain": [
       "array([4., 4., 4., 4., 4.])"
      ]
     },
     "execution_count": 52,
     "metadata": {},
     "output_type": "execute_result"
    }
   ],
   "source": [
    "4*np.ones(5)"
   ]
  },
  {
   "cell_type": "code",
   "execution_count": 56,
   "id": "98ef90bf-2faf-4ca4-b40d-636a6aac065e",
   "metadata": {},
   "outputs": [
    {
     "name": "stdout",
     "output_type": "stream",
     "text": [
      "<class 'tuple'>\n",
      "(33, array([100.,   4.,   4.,   4.,   4.]), 'this works great!')\n",
      "[100.   4.   4.   4.   4.]\n",
      "a: 33\n",
      "b: [100.   4.   4.   4.   4.]\n",
      "c: this works great!\n"
     ]
    }
   ],
   "source": [
    "def newfunc():\n",
    "    dump = 4 * np.ones(5)\n",
    "    dump[0] = 100\n",
    "    return 33, dump, 'this works great!'\n",
    "\n",
    "test = newfunc()\n",
    "print(type(test))\n",
    "print(test)\n",
    "print(test[1]) \n",
    "\n",
    "a, b, c = newfunc()\n",
    "print('a:', a)\n",
    "print('b:', b)\n",
    "print('c:', c)"
   ]
  },
  {
   "cell_type": "markdown",
   "id": "77497606-7443-4e31-8537-86221f8f5754",
   "metadata": {
    "tags": []
   },
   "source": [
    "### Interactive functions using `ipywidgets` (Extra from Jupyter editor)\n",
    "The package `ipywidgets` constains widgets for use in Jupyter Notebooks. We will start here by using the simplest form, which is the `interact` function. The `interact` function can be used to, you guessed it, interact with a function. The `interact` function is a bit slow when interacting with a graph, but other than that it works nicely. \n",
    "\n",
    "For it to work go to anaconda prompt and copy paste: \n",
    "- `conda activate iclasses`\n",
    "- `conda install ipywidgets`\n",
    "\n",
    "For example, let's write a function that plots a line with length $L$ that makes an angle $\\alpha$ with the horizontal. The angle $\\alpha$ is an input argument."
   ]
  },
  {
   "cell_type": "code",
   "execution_count": 4,
   "id": "8b8384de-a9be-445f-b253-c84289eed0fa",
   "metadata": {},
   "outputs": [
    {
     "data": {
      "image/png": "[encoded data removed]",
      "text/plain": [
       "<Figure size 432x288 with 1 Axes>"
      ]
     },
     "metadata": {
      "needs_background": "light"
     },
     "output_type": "display_data"
    }
   ],
   "source": [
    "def plot_line(alpha):\n",
    "    L = 20\n",
    "    x = L / 2 * np.cos(np.deg2rad(alpha))\n",
    "    y = L / 2 * np.sin(np.deg2rad(alpha))\n",
    "    plt.plot([-x, x], [-y, y])\n",
    "    plt.axis('scaled')\n",
    "    plt.xlim(-20, 20)\n",
    "    plt.ylim(-20, 20)\n",
    "    \n",
    "plot_line(45)"
   ]
  },
  {
   "cell_type": "markdown",
   "id": "66330d8a-1045-433b-9099-8901aa86aebc",
   "metadata": {},
   "source": [
    "The `interact` function of `ipywidgets` can now be used to interact with the `plot_line` function we just defined. The `interact` function takes as input arguments the name of the function to interact with, and then the minimum value,  maximum value, and step of the input arguments. When you execute the code below, a slider will appear and you can move the slider to change the value of the angle $\\alpha$ (and again, it is a bit slow, so don't move it around too quickly). "
   ]
  },
  {
   "cell_type": "code",
   "execution_count": 5,
   "id": "c6fe8aa9-e1f5-4f72-bd85-caee3faee55f",
   "metadata": {},
   "outputs": [
    {
     "data": {
      "application/vnd.jupyter.widget-view+json": {
       "model_id": "913def8e3c0546698fca01c218f03c93",
       "version_major": 2,
       "version_minor": 0
      },
      "text/plain": [
       "interactive(children=(IntSlider(value=0, description='alpha', max=180, min=-180, step=5), Output()), _dom_clas…"
      ]
     },
     "metadata": {},
     "output_type": "display_data"
    }
   ],
   "source": [
    "from ipywidgets import interact\n",
    "interact(plot_line, alpha=(-180, 180, 5)); "
   ]
  },
  {
   "cell_type": "markdown",
   "id": "bd1d3c62-3772-4454-b92d-11412a5e8f49",
   "metadata": {},
   "source": [
    "The `plot_line` function can be modified to also take the color of the line as an input argument. "
   ]
  },
  {
   "cell_type": "code",
   "execution_count": 3,
   "id": "c6f1f806-03ee-4a3f-abf6-81c98cd4ad36",
   "metadata": {},
   "outputs": [
    {
     "data": {
      "image/png": "[encoded data removed]",
      "text/plain": [
       "<Figure size 432x288 with 1 Axes>"
      ]
     },
     "metadata": {
      "needs_background": "light"
     },
     "output_type": "display_data"
    }
   ],
   "source": [
    "def plot_line(alpha, color='g'):\n",
    "    L = 20\n",
    "    x = L / 2 * np.cos(np.deg2rad(alpha))\n",
    "    y = L / 2 * np.sin(np.deg2rad(alpha))\n",
    "    plt.plot([-x, x], [-y, y], color)\n",
    "    plt.axis('scaled')\n",
    "    plt.xlim(-20, 20)\n",
    "    plt.ylim(-20, 20)\n",
    "    \n",
    "plot_line(45)"
   ]
  },
  {
   "cell_type": "markdown",
   "id": "9128e0a8-bd80-44bb-9e54-792883f9b2cf",
   "metadata": {},
   "source": [
    "The `interact` function can be used to both change the value of $\\alpha$ and the color of the line. Provide all the possible colors as a list, which will appear as a dropdown box when executing the code. "
   ]
  },
  {
   "cell_type": "code",
   "execution_count": 5,
   "id": "76c79c5c-132f-4214-8716-d41a5f1caf73",
   "metadata": {},
   "outputs": [
    {
     "data": {
      "application/vnd.jupyter.widget-view+json": {
       "model_id": "775defbe838a4e2dabdbe39476ce3d6f",
       "version_major": 2,
       "version_minor": 0
      },
      "text/plain": [
       "interactive(children=(Dropdown(description='alpha', options=(-180, 180, 5), value=-180), Dropdown(description=…"
      ]
     },
     "metadata": {},
     "output_type": "display_data"
    },
    {
     "data": {
      "application/vnd.jupyter.widget-view+json": {
       "model_id": "dfe3756cfdef42859b48e81fb56efd99",
       "version_major": 2,
       "version_minor": 0
      },
      "text/plain": [
       "Dropdown(description='Number:', index=1, options=('1', '2', '3'), value='2')"
      ]
     },
     "metadata": {},
     "output_type": "display_data"
    }
   ],
   "source": [
    "from ipywidgets import interact, widgets\n",
    "interact(plot_line, alpha=[-180, 180, 5], color=['orange', 'brown', 'fuchsia']);"
   ]
  },
  {
   "cell_type": "code",
   "execution_count": 20,
   "id": "905f3ecd-9706-4712-9aaf-d3b5acb40c4d",
   "metadata": {},
   "outputs": [
    {
     "ename": "TypeError",
     "evalue": "get_state() missing 1 required positional argument: 'self'",
     "output_type": "error",
     "traceback": [
      "\u001b[1;31m---------------------------------------------------------------------------\u001b[0m",
      "\u001b[1;31mTypeError\u001b[0m                                 Traceback (most recent call last)",
      "\u001b[1;32mC:\\Users\\NMC_CO~1\\AppData\\Local\\Temp/ipykernel_16244/1845244099.py\u001b[0m in \u001b[0;36m<module>\u001b[1;34m\u001b[0m\n\u001b[1;32m----> 1\u001b[1;33m \u001b[0mwidgets\u001b[0m\u001b[1;33m.\u001b[0m\u001b[0mDropdown\u001b[0m\u001b[1;33m.\u001b[0m\u001b[0mget_state\u001b[0m\u001b[1;33m(\u001b[0m\u001b[1;33m)\u001b[0m\u001b[1;33m\u001b[0m\u001b[1;33m\u001b[0m\u001b[0m\n\u001b[0m",
      "\u001b[1;31mTypeError\u001b[0m: get_state() missing 1 required positional argument: 'self'"
     ]
    }
   ],
   "source": [
    "widgets.Dropdown.get_state()"
   ]
  },
  {
   "cell_type": "markdown",
   "id": "fe15c738-ecbb-4d1d-8be8-eade188bec62",
   "metadata": {
    "tags": []
   },
   "source": [
    "### Exercise 1. <a name=\"back0\"></a> Steps for creating a function\n",
    "\n",
    "Given the price of a rectangular field, as well as the measurements of two adjacent sides, it is intended to know whether its price, per square meter, is above or below the average price in the area."
   ]
  },
  {
   "cell_type": "markdown",
   "id": "60222eb4-e96a-4248-ba6c-0d1255538692",
   "metadata": {
    "tags": []
   },
   "source": [
    "#### Solution planning (step 1)\n",
    "The most imediate and abstract way to plan the solution to the problem.\n",
    "\n",
    "Advantage: organize solution"
   ]
  },
  {
   "cell_type": "markdown",
   "id": "c10c9127-06c5-45d3-a76f-e30d985efd2a",
   "metadata": {},
   "source": [
    "Data:\n",
    "- 6 `float` vars: price, price_m2, price_mean_m2, length, width\n",
    "\n",
    "Result:\n",
    "- Field price per square meter is above or below\n",
    "\n",
    "Relations:\n",
    "- area = length x width\n",
    "- price_m2 = price / area\n",
    "- if,  price_m2 > price_mean_m2, then, “price superior”\n",
    "- else, if price_m2 < price_mean_m2, then, “below mean”\n",
    "- else, “price are the same”"
   ]
  },
  {
   "cell_type": "markdown",
   "id": "eb2e6fb1-7332-4024-a605-c6197fef2cbe",
   "metadata": {
    "tags": []
   },
   "source": [
    "#### Peseucode(step 2)\n",
    "The most imediate and abstract way to plan the code.\n",
    "\n",
    "Advantage: organize code"
   ]
  },
  {
   "cell_type": "code",
   "execution_count": 14,
   "id": "e8cce206-b39e-43da-af2c-d8372bc6b7f4",
   "metadata": {},
   "outputs": [
    {
     "ename": "SyntaxError",
     "evalue": "invalid syntax (Temp/ipykernel_20148/2665437585.py, line 2)",
     "output_type": "error",
     "traceback": [
      "\u001b[1;36m  File \u001b[1;32m\"C:\\Users\\NMC_CO~1\\AppData\\Local\\Temp/ipykernel_20148/2665437585.py\"\u001b[1;36m, line \u001b[1;32m2\u001b[0m\n\u001b[1;33m    Vars:price, price_m2, price_mean_m2, length, width\u001b[0m\n\u001b[1;37m              ^\u001b[0m\n\u001b[1;31mSyntaxError\u001b[0m\u001b[1;31m:\u001b[0m invalid syntax\n"
     ]
    }
   ],
   "source": [
    "Algorithm: price_m2_rectangle\n",
    "Vars:price, price_m2, price_mean_m2, length, width\n",
    "\n",
    "start\n",
    "    read(price, price_mean_m2, length, width)\n",
    "    area=length*width #m2 \n",
    "    price_m2=price / area #euros/m2\n",
    "    if price_m2 > price_mean_m2, then:\n",
    "        write(“price superior”)\n",
    "    else if price_m2 < price_mean_m2, then:\n",
    "        write(“below mean”)\n",
    "    else, then:\n",
    "        write(“price are the same”)\n",
    "end"
   ]
  },
  {
   "cell_type": "markdown",
   "id": "bd735219-4f9b-496e-b033-7e088ede531f",
   "metadata": {},
   "source": [
    "#### Simple Representation (step 3)\n",
    "The most simple way to represent code.\n",
    "\n",
    "Advantage: simple and easy writing."
   ]
  },
  {
   "cell_type": "code",
   "execution_count": 16,
   "id": "d5feb257-f8b7-4dab-9f52-f32bd26db09e",
   "metadata": {},
   "outputs": [
    {
     "name": "stdin",
     "output_type": "stream",
     "text": [
      "Insert the price in euros! 50000\n"
     ]
    },
    {
     "name": "stdout",
     "output_type": "stream",
     "text": [
      "price_m2:  5.0 ;  price_mean_m2:  4.0\n",
      "Mean price is inferior!\n"
     ]
    }
   ],
   "source": [
    "#Atribute values: (you can declare variables while atributing values)\n",
    "price = input(\"Insert the price in euros!\") #input() returns string value\n",
    "price = float(price) #euros  #convert the string to integer using the function int()\n",
    "price_mean_m2= float(4) #euros/m2\n",
    "length = float(100) #m\n",
    "width = float(100) #m\n",
    "area=length*width #m2 \n",
    "price_m2=price / area #euros/m2\n",
    "print('price_m2: ',price_m2, ';',' price_mean_m2: ', price_mean_m2) #for debug\n",
    "#Condicoes:\n",
    "if price_m2 < price_mean_m2:\n",
    "    print(\"Mean price is superior!\")\n",
    "else:\n",
    "    if price_m2 > price_mean_m2:\n",
    "        print(\"Mean price is inferior!\")\n",
    "    else:\n",
    "        print(\"Price are the same!\")"
   ]
  },
  {
   "cell_type": "markdown",
   "id": "f2a699e6-8f8b-4c6d-b943-c0e022393a24",
   "metadata": {},
   "source": [
    "#### Function Representation (step 4)\n",
    "The way to reuse code. We are basically incapsulating the code inside of a function.\n",
    "After doing the simple representation and the algorithm is working, the best practice to save our algorithm is to put inside of a function. This will help to organize our code as the lines of code become bigger, and we can call our algorithm whenever we want. (Next lessons will detail this further)\n",
    "\n",
    "Advantage: \n",
    "- Easy maintance of code.\n",
    "- Reuse code whenever we want.\n",
    "- Debug is easier.\n",
    "- The code is better structured."
   ]
  },
  {
   "cell_type": "code",
   "execution_count": null,
   "id": "d39405e2-4633-4a5d-b7e9-236bb696f01b",
   "metadata": {},
   "outputs": [],
   "source": []
  },
  {
   "cell_type": "markdown",
   "id": "c5c1552a-871c-497b-afb1-003a2996d52c",
   "metadata": {},
   "source": [
    "<a href=\"#ex0answer\">Answer to Exercise 1</a>"
   ]
  },
  {
   "cell_type": "markdown",
   "id": "55e34819-ef02-4032-9a29-c65ac9d0057c",
   "metadata": {
    "tags": []
   },
   "source": [
    "### Exercise 2. <a name=\"back1\"></a>First function\n",
    "Write a Python function for the following function:\n",
    "\n",
    "$f(x)=e^{-\\alpha x}\\cos(x)$\n",
    "\n",
    "The function should take `x` and `alpha` as input arguments and return the function value. Give your function a unique name (if you also call it `func` it will overwrite the `func` function that we defined above). Make a plot of $f(x)$ vs. $x$ for $x$ going from 0 to $10\\pi$ using two different values of $\\alpha$: 0.1 and 0.2. Add a legend and label the axes."
   ]
  },
  {
   "cell_type": "markdown",
   "id": "baf541c7-89b0-4d0c-8d85-75d1f823aa6c",
   "metadata": {},
   "source": [
    "<a href=\"#ex1answer\">Answer to Exercise 2</a>"
   ]
  },
  {
   "cell_type": "markdown",
   "id": "2997df05-5788-444b-a709-55aea2a7a161",
   "metadata": {},
   "source": [
    "### Exercise 3. <a name=\"back7\"></a> First wiget"
   ]
  },
  {
   "cell_type": "markdown",
   "id": "696686f5-b0d7-43cc-9be5-8412b785e1e2",
   "metadata": {},
   "source": [
    "Write a function that plots $a\\cos(x)$ and $b\\sin(x)$ on the same graph for $x$ going from $0$ to $4\\pi$. Set the limits of the vertical axis from -5 to +5. Input arguments of the function are the amplitudes $a$ and $b$, the color of the cosine function, and the color of the sine function (so 4 input arguments in total). Use the interact function to allow $a$ and $b$ to vary from 0 to 5, the color of the cosine function to be orange, pink or red, and the colors of the sine function to be blue, grey or black. "
   ]
  },
  {
   "cell_type": "code",
   "execution_count": null,
   "id": "344a2a92-10fd-421c-b6a6-4f9743307eb4",
   "metadata": {},
   "outputs": [],
   "source": []
  },
  {
   "cell_type": "markdown",
   "id": "1901ae5c-364d-43d0-8dc4-1da276f38675",
   "metadata": {},
   "source": [
    "<a href=\"#ex7answer\">Answer to Exercise 3</a>"
   ]
  },
  {
   "cell_type": "markdown",
   "id": "6a570355-ad52-4a26-8b68-6f0c35fcd1dc",
   "metadata": {},
   "source": [
    "### Answers to the exercises"
   ]
  },
  {
   "cell_type": "markdown",
   "id": "caa124c2-68c5-46ea-8b48-08c19689857c",
   "metadata": {},
   "source": [
    "<a name=\"ex0answer\">Answer to Exercise 1</a>"
   ]
  },
  {
   "cell_type": "code",
   "execution_count": 62,
   "id": "f429879e-c61a-4cd7-9579-967ab5f97a1d",
   "metadata": {},
   "outputs": [],
   "source": [
    "def price_m2_rectangle(price, price_mean_m2, length=float(100), width=float(100)):\n",
    "    \"\"\"\n",
    "    Price per m2 of a rectangular field.\n",
    "\n",
    "    Parameters\n",
    "    ----------\n",
    "    price : float\n",
    "        Total price of the rectangle\n",
    "    price_mean_m2 : float\n",
    "        Mean m2 of rectangle in the area of Braga\n",
    "    length : float\n",
    "        Rectangle length. default 100.0 m\n",
    "    width : float\n",
    "        Rectangle width. default 100.0 m\n",
    "\n",
    "    Returns\n",
    "    -------\n",
    "    price_m2 : float\n",
    "        Price per m2 of the rectangle\n",
    "    \"\"\"\n",
    "    area=length*width #m2 #Local variable\n",
    "    price_m2=price / area *a #euros/m2 #Local variable\n",
    "    print('price_m2: ',price_m2, ';',' price_mean_m2: ', price_mean_m2) #for debug\n",
    "    #Condicoes:\n",
    "    if price_m2 < price_mean_m2:\n",
    "        print(\"Mean price is superior!\")\n",
    "    else:\n",
    "        if price_m2 > price_mean_m2:\n",
    "            print(\"Mean price is inferior!\")\n",
    "        else:\n",
    "            print(\"Price are the same!\")\n",
    "            \n",
    "    return price_m2 "
   ]
  },
  {
   "cell_type": "code",
   "execution_count": 13,
   "id": "f21753d2-6623-43ca-86ab-027673d49be5",
   "metadata": {},
   "outputs": [
    {
     "name": "stdin",
     "output_type": "stream",
     "text": [
      "Insert the total price in euros! 50000\n",
      "Insert the price per m2 in euros! 4\n"
     ]
    },
    {
     "name": "stdout",
     "output_type": "stream",
     "text": [
      "price_m2:  5.0 ;  price_mean_m2:  4.0\n",
      "Mean price is inferior!\n"
     ]
    }
   ],
   "source": [
    "price1 = float(input(\"Insert the total price in euros!\")) #GLOBAL variable pass \n",
    "price_mean_m2_1 = float(input(\"Insert the price per m2 in euros!\")) #GLOBAL variable pass \n",
    "price_m2 = price_m2_rectangle(price1, price_mean_m2_1) #execute function and return price_m2"
   ]
  },
  {
   "cell_type": "markdown",
   "id": "7d2f27ec-1581-4f40-9c72-a7f135694a3e",
   "metadata": {},
   "source": [
    "<a name=\"ex1answer\">Answer to Exercise 2</a>"
   ]
  },
  {
   "cell_type": "code",
   "execution_count": 63,
   "id": "8035bacc-d0b0-424f-8086-2a14549b4deb",
   "metadata": {},
   "outputs": [
    {
     "data": {
      "image/png": "[encoded data removed]",
      "text/plain": [
       "<Figure size 432x288 with 1 Axes>"
      ]
     },
     "metadata": {
      "needs_background": "light"
     },
     "output_type": "display_data"
    }
   ],
   "source": [
    "def test(x, alpha):\n",
    "    return np.exp(-alpha * x) * np.cos(x)\n",
    "\n",
    "def exp(x, alpha):\n",
    "    return np.exp(-alpha * x) \n",
    "\n",
    "x = np.linspace(0, 10 * np.pi, 100) #Array: Return evenly spaced numbers over a specified interval.\n",
    "y1 = test(x, 0.1)  # This function can be called with an array\n",
    "y2 = test(x, 0.2)\n",
    "y3 = exp(x, 0.1)\n",
    "plt.plot(x, y1, label=r'$\\alpha$=0.1')\n",
    "plt.plot(x, y2, label=r'$\\alpha$=0.2')\n",
    "plt.plot(x, y3, label=r'exp_$\\alpha$=0.1')\n",
    "plt.xlabel('x')\n",
    "plt.ylabel('f(x)')\n",
    "plt.legend();"
   ]
  },
  {
   "cell_type": "markdown",
   "id": "843fd658-2d4e-4801-88a9-2b3dcf85823f",
   "metadata": {},
   "source": [
    " <a href=\"#back1\">Back to Exercise 2</a>\n",
    "\n",
    "<a name=\"ex7answer\">Answer to Exercise 3</a>"
   ]
  },
  {
   "cell_type": "code",
   "execution_count": 64,
   "id": "c94c7564-9f4e-44b8-b332-8cb61df0bfbb",
   "metadata": {},
   "outputs": [
    {
     "data": {
      "application/vnd.jupyter.widget-view+json": {
       "model_id": "e325fcc8b822497388a746b2e28d72f7",
       "version_major": 2,
       "version_minor": 0
      },
      "text/plain": [
       "interactive(children=(FloatSlider(value=1.0, description='acos', max=5.0, step=0.5), FloatSlider(value=1.0, de…"
      ]
     },
     "metadata": {},
     "output_type": "display_data"
    }
   ],
   "source": [
    "def plot_func2(acos=1, asin=1, colorcos='C0', colorsin='C1'):\n",
    "    x = np.linspace(0, 4 * np.pi)\n",
    "    plt.plot(x, acos * np.cos(x), colorcos)\n",
    "    plt.plot(x, asin * np.sin(x), colorsin)\n",
    "    plt.ylim(-5, 5)\n",
    "    \n",
    "interact(plot_func2, acos=(0, 5, 0.5), asin=(0, 5, 0.5), \n",
    "         colorcos=['orange', 'pink', 'red'], \n",
    "         colorsin=['blue', 'grey', 'black']);"
   ]
  },
  {
   "cell_type": "markdown",
   "id": "68236810-2e26-4112-962b-30d079899374",
   "metadata": {},
   "source": [
    "<a href=\"#back7\">Back to Exercise 3</a>"
   ]
  },
  {
   "cell_type": "code",
   "execution_count": null,
   "id": "002fdcc0-7423-461c-a19b-7583a14b02b9",
   "metadata": {},
   "outputs": [],
   "source": []
  }
 ],
 "metadata": {
  "kernelspec": {
   "display_name": "Python 3 (ipykernel)",
   "language": "python",
   "name": "python3"
  },
  "language_info": {
   "codemirror_mode": {
    "name": "ipython",
    "version": 3
   },
   "file_extension": ".py",
   "mimetype": "text/x-python",
   "name": "python",
   "nbconvert_exporter": "python",
   "pygments_lexer": "ipython3",
   "version": "3.9.7"
  }
 },
 "nbformat": 4,
 "nbformat_minor": 5
}
