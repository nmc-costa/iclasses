{
 "cells": [
  {
   "cell_type": "markdown",
   "id": "1b013bb4-7e59-4204-99a9-7da43c3b71aa",
   "metadata": {
    "tags": []
   },
   "source": [
    "# Conditional expressions If and else/if statements\n",
    "*Developed by Nuno M.C. da Costa*\n",
    "\n",
    "info: \n",
    "- https://docs.python.org/3/tutorial/controlflow.html\n",
    "- https://docs.python.org/3/tutorial/errors.html#handling-exceptions (advanced conditional expression)"
   ]
  },
  {
   "cell_type": "markdown",
   "id": "75dd6a94-661c-4af1-b52b-2ca9a229551f",
   "metadata": {},
   "source": [
    "### The `if` statement\n",
    "An `if` statement lets you perform a task only when the outcome of the `if` statement is true. For example"
   ]
  },
  {
   "cell_type": "markdown",
   "id": "079b4259-9376-4fc7-88b8-8ef5b289f95b",
   "metadata": {},
   "source": [
    "![image.png](https://cdn.guru99.com/images/r_programming/032818_1241_IFELSEELIF1.png)"
   ]
  },
  {
   "cell_type": "code",
   "execution_count": 21,
   "id": "6f514cef-8816-4f9d-8e27-5354bf3784d0",
   "metadata": {},
   "outputs": [
    {
     "name": "stdin",
     "output_type": "stream",
     "text": [
      "Please enter an integer:  -1\n"
     ]
    },
    {
     "name": "stdout",
     "output_type": "stream",
     "text": [
      "<class 'int'>\n",
      "Negative integer\n"
     ]
    }
   ],
   "source": [
    "x = int(input(\"Please enter an integer: \"))\n",
    "print(type(x))\n",
    "if x < 0:\n",
    "    print('Negative integer')\n",
    "else: # same as saying x >= 0\n",
    "    print('positive integer')\n",
    "    "
   ]
  },
  {
   "cell_type": "markdown",
   "id": "7b8e6563-44ee-495b-9a45-4db47554f822",
   "metadata": {},
   "source": [
    "Rather than specifying the value of a variable at the top of the code cell, you can ask the user to enter a value and store that value in the variable using the `input` function. The `input` function returns a string that can be converted into a number with the `float` function. Run the code cell below and test that it works when the entered value is larger than 4, smaller than 4, or equal to 4."
   ]
  },
  {
   "cell_type": "code",
   "execution_count": 23,
   "id": "81136981-67fb-41f5-9b0c-156590650308",
   "metadata": {},
   "outputs": [
    {
     "name": "stdout",
     "output_type": "stream",
     "text": [
      "starting value: 21\n",
      "value after the first if-statement: 21\n",
      "changing value in the second if-statement\n",
      "value after the second if-statement: 200\n"
     ]
    }
   ],
   "source": [
    "value = 21\n",
    "print('starting value:', value)\n",
    "if value < 6:\n",
    "    print('changing value in the first if-statement')\n",
    "    value = value + 2\n",
    "print('value after the first if-statement:', value)\n",
    "if value > 20:\n",
    "    print('changing value in the second if-statement')\n",
    "    value = 200\n",
    "print('value after the second if-statement:', value)  # value hasn't changed as value is not larger than 20"
   ]
  },
  {
   "cell_type": "markdown",
   "id": "479f4ae0-b1bc-49fe-96cc-c8f02e1e4377",
   "metadata": {},
   "source": [
    "Note the syntax of the `if` statement: It starts with `if` followed by a statement that is either `True` or `False` and then a colon. After the colon, you need to indent and the entire indented code block (in this case 2 lines of code) is executed if the statement is `True`. The `if` statement is completed when you stop indenting. Recall from Notebook 2 that you can use larger than `>`, larger than or equal `>=`, equal `==`, smaller than or equal `<=`, smaller than `<` or not equal `!=`."
   ]
  },
  {
   "cell_type": "markdown",
   "id": "040fe4f6-790e-4031-892b-7b8d84235131",
   "metadata": {},
   "source": [
    "### The `if`/`else` statement\n",
    "The `if` statement may be followed by an `else` statement, which is executed when the condition after `if` is `False`. For example"
   ]
  },
  {
   "cell_type": "code",
   "execution_count": 5,
   "id": "e14fda59-5592-4124-a474-0fb5ccf4c2ba",
   "metadata": {},
   "outputs": [
    {
     "name": "stdout",
     "output_type": "stream",
     "text": [
      "a is not smaller than 3\n"
     ]
    }
   ],
   "source": [
    "a = 4\n",
    "if a < 3:\n",
    "    print('a is smaller than 3')\n",
    "else:\n",
    "    print('a is not smaller than 3')"
   ]
  },
  {
   "cell_type": "markdown",
   "id": "5fee6fb4-ec98-48b3-a955-4038e7b8180a",
   "metadata": {},
   "source": [
    "You can even extend the `else` by adding one or more conditions with the `elif` command which is short for 'else if'. An if … elif … elif … sequence is a substitute for the `switch` or `case` statements found in other languages."
   ]
  },
  {
   "cell_type": "code",
   "execution_count": 3,
   "id": "1a3cfe2f-ad7b-4907-aaa1-909551b3ae2e",
   "metadata": {},
   "outputs": [
    {
     "name": "stdout",
     "output_type": "stream",
     "text": [
      "one\n"
     ]
    }
   ],
   "source": [
    "if x < 0:\n",
    "    print('Negative integer')\n",
    "else if x == 0: #another if condition, short for 'else if'\n",
    "    print('Zero')\n",
    "else if x == 1:\n",
    "    print('one')\n",
    "else: #same as \n",
    "    print('More')"
   ]
  },
  {
   "cell_type": "markdown",
   "id": "ad49cebc-6370-41d5-984a-c07bc3d4dc87",
   "metadata": {
    "tags": []
   },
   "source": [
    "### Exercise 1 <a name=\"back1\"></a> \n",
    "\n",
    "Read 3 `int` values, and print the highest value."
   ]
  },
  {
   "cell_type": "markdown",
   "id": "4e951023-f287-40b5-bb81-5a5770e3cdcb",
   "metadata": {
    "tags": []
   },
   "source": [
    "#(STEP 1) SOLUTION PLANING"
   ]
  },
  {
   "cell_type": "markdown",
   "id": "f7daecd7-0110-4f08-b532-0f772b44c588",
   "metadata": {},
   "source": [
    "#(STEP 2) Pseudocode"
   ]
  },
  {
   "cell_type": "code",
   "execution_count": 4,
   "id": "3fae527b-af9a-4864-be1a-d0a2a49aa30e",
   "metadata": {},
   "outputs": [],
   "source": [
    "#(STEP 3) code"
   ]
  },
  {
   "cell_type": "code",
   "execution_count": 3,
   "id": "ef2849f4-1ed3-442e-a247-9e705d8d2a1a",
   "metadata": {},
   "outputs": [],
   "source": [
    "#(STEP 4) code inside function"
   ]
  },
  {
   "cell_type": "markdown",
   "id": "5feddadf-e476-4bf9-b3dd-2b0071f5e38c",
   "metadata": {},
   "source": [
    "<a href=\"#ex1answer\">Answer for Exercise 1</a>"
   ]
  },
  {
   "cell_type": "markdown",
   "id": "a8dd84e9-48a5-4041-b4fc-3ccee4a5e850",
   "metadata": {
    "tags": []
   },
   "source": [
    "### Exercise 2 <a name=\"back2\"></a> \n",
    "Develop a program that can classify a triangle depending on the dimensions of its sides:\n",
    "- Equilateral: all equal\n",
    "- Isosceles: two equal\n",
    "- Scalene triangle: all diferent"
   ]
  },
  {
   "cell_type": "markdown",
   "id": "6b0ab3d5-d26a-4b8b-a323-32ab639822ee",
   "metadata": {},
   "source": [
    "#(STEP 1) SOLUTION PLANING"
   ]
  },
  {
   "cell_type": "markdown",
   "id": "bd8585ba-e389-4a28-b0fc-a79d1a56b041",
   "metadata": {},
   "source": [
    "#(STEP 2) Pseudocode"
   ]
  },
  {
   "cell_type": "code",
   "execution_count": null,
   "id": "371de62d-6e10-42a9-ae36-93892f5e04fa",
   "metadata": {},
   "outputs": [],
   "source": [
    "#(STEP 3) code"
   ]
  },
  {
   "cell_type": "code",
   "execution_count": null,
   "id": "69248723-ba38-4024-8883-d3f3fe34e546",
   "metadata": {},
   "outputs": [],
   "source": [
    "#(STEP 4) code inside function"
   ]
  },
  {
   "cell_type": "markdown",
   "id": "f72b5951-efa9-493b-b786-4159d1b21bb1",
   "metadata": {
    "tags": []
   },
   "source": [
    "### Exercise 3 <a name=\"back3\"></a> \n",
    "Develope an algorithm to calculate the ideal weight of a person, considering the gender and height. Use `elif`. Note that to calculate the wheight you have the following conditions:\n",
    "- Gender Masculine: wheight = (72,7 * height) – 58\n",
    "- Gender Feminine: wheight = (62,1* height) – 44,7"
   ]
  },
  {
   "cell_type": "markdown",
   "id": "b6f3f080-0a33-4bf7-b433-fb13bf876966",
   "metadata": {},
   "source": [
    "#(STEP 1) SOLUTION PLANING"
   ]
  },
  {
   "cell_type": "markdown",
   "id": "75302e14-9ff3-43d4-a6ce-39981353c0d8",
   "metadata": {},
   "source": [
    "#(STEP 2) Pseudocode"
   ]
  },
  {
   "cell_type": "code",
   "execution_count": 20,
   "id": "8cf6a7dc-7b1d-4207-804b-6b27e2804e0f",
   "metadata": {},
   "outputs": [
    {
     "name": "stdin",
     "output_type": "stream",
     "text": [
      "Gender: masculine/feminine opitons? femine\n"
     ]
    },
    {
     "name": "stdout",
     "output_type": "stream",
     "text": [
      "10512.3\n"
     ]
    }
   ],
   "source": [
    "#(STEP 3) code"
   ]
  },
  {
   "cell_type": "code",
   "execution_count": null,
   "id": "52a538e4-ce92-4ffb-b34b-a6184961d952",
   "metadata": {},
   "outputs": [],
   "source": [
    "#(STEP 4) code inside function"
   ]
  },
  {
   "cell_type": "markdown",
   "id": "04eef72e-06bd-44e5-95c8-83ccb81c1ef1",
   "metadata": {
    "tags": []
   },
   "source": [
    "### Answers to the exercises"
   ]
  },
  {
   "cell_type": "markdown",
   "id": "397a54d4-a80d-4eaa-94c7-67a5eb5aecbc",
   "metadata": {},
   "source": [
    "<a name=\"ex1answer\">Answer to Exercise 1</a>"
   ]
  },
  {
   "cell_type": "markdown",
   "id": "dba68a6a-7b61-4a16-96c1-854bbc8463d5",
   "metadata": {},
   "source": [
    "#(STEP 1) SOLUTION PLANING\n",
    "\n",
    "Data:\n",
    "- 3 `int` values: V1, V2, V3\n",
    "\n",
    "Result:\n",
    "- Highest value\n",
    "\n",
    "Relations:\n",
    "- If V1 > V2 and V1 > V3, then: V1\n",
    "- Else if V2 > V3 and V2 > V1, then: V2\n",
    "- Else, then: V3"
   ]
  },
  {
   "cell_type": "code",
   "execution_count": null,
   "id": "30cc6856-12cc-4a4a-ba9f-84e2221fe618",
   "metadata": {},
   "outputs": [],
   "source": [
    "#(STEP 2) Pseudocode\n",
    "Algorithm: highest_value\n",
    "Vars:V1, V2, V3\n",
    "\n",
    "start\n",
    "    read(V1,V2,V3)\n",
    "    if V1>V2 and V1>V3, then:\n",
    "        write(V1)\n",
    "    else if V2>V3 and V1>V3, then:\n",
    "        write(V2)\n",
    "    else, then:\n",
    "        write(V3)\n",
    "end"
   ]
  },
  {
   "cell_type": "code",
   "execution_count": 14,
   "id": "5eb6e276-fd48-4724-a61d-a134a2b87221",
   "metadata": {},
   "outputs": [
    {
     "name": "stdin",
     "output_type": "stream",
     "text": [
      "Value? 3\n"
     ]
    },
    {
     "name": "stdout",
     "output_type": "stream",
     "text": [
      "6\n"
     ]
    }
   ],
   "source": [
    "#(STEP 3) code\n",
    "V1=int(input('Value?'))\n",
    "V2=4\n",
    "V3=6\n",
    "if V1>V2 and V1>V3:\n",
    "    print(V1)\n",
    "elif V2>V3 and V1>V3:\n",
    "    print(V2)\n",
    "else:\n",
    "    print(V3)"
   ]
  },
  {
   "cell_type": "code",
   "execution_count": 10,
   "id": "f3ebdf56-7f69-4030-adc4-a011fbe63b54",
   "metadata": {},
   "outputs": [],
   "source": [
    "#(STEP 4) code inside function\n",
    "def highest_value():\n",
    "    V1=int(input('Value?'))\n",
    "    V2=4\n",
    "    V3=6\n",
    "    if V1>V2 and V1>V3:\n",
    "        print(V1)\n",
    "    elif V2>V3 and V1>V3:\n",
    "        print(V2)\n",
    "    else:\n",
    "        print(V3)\n",
    "        \n",
    "    return"
   ]
  },
  {
   "cell_type": "code",
   "execution_count": 11,
   "id": "d50193d5-a521-498d-b6bd-4f6b463c0828",
   "metadata": {},
   "outputs": [
    {
     "name": "stdin",
     "output_type": "stream",
     "text": [
      "Value? 7\n"
     ]
    },
    {
     "name": "stdout",
     "output_type": "stream",
     "text": [
      "7\n"
     ]
    }
   ],
   "source": [
    "highest_value()"
   ]
  },
  {
   "cell_type": "markdown",
   "id": "39469a79-5b5a-4b59-ace4-4f708f12b649",
   "metadata": {},
   "source": [
    "<a href=\"#back1\">Back to Exercise 1</a>\n",
    "\n",
    "<a name=\"ex2answer\">Answer to Exercise 2</a>"
   ]
  },
  {
   "cell_type": "markdown",
   "id": "5b44fa01-d303-4025-847f-d2168aa57ac7",
   "metadata": {},
   "source": [
    "Data:\n",
    "- 3 `int` value: S1, S2, S3 (Sides)\n",
    "\n",
    "Result:\n",
    "- triangle\n",
    "\n",
    "Relations:\n",
    "- if S1==S2 and S1==S3, then: Equilateral\n",
    "- else if S1!=S2 and S1!=S3, then: scalene\n",
    "- else, then: isosceles"
   ]
  },
  {
   "cell_type": "code",
   "execution_count": null,
   "id": "b99c6260-6187-4314-bc27-78e6129d760d",
   "metadata": {},
   "outputs": [],
   "source": [
    "#(STEP 2) Pseudocode\n",
    "\n",
    "Algorithm: triangle\n",
    "Vars:S1, S2, S3\n",
    "\n",
    "start\n",
    "    read(S1, S2, S3)\n",
    "    if S1==S2 and S1==S3, then: \n",
    "        write(\"Equilateral\")\n",
    "    else if S1!=S2 and S1!=S3, then:\n",
    "        write(\"Scalene\")\n",
    "    else:\n",
    "        write(\"Isosceles\")\n",
    "end"
   ]
  },
  {
   "cell_type": "code",
   "execution_count": 4,
   "id": "8b27f381-3fc0-42f3-a625-4250be255245",
   "metadata": {},
   "outputs": [
    {
     "name": "stdin",
     "output_type": "stream",
     "text": [
      "Side 1? 10\n",
      "Side 2? 10\n"
     ]
    },
    {
     "name": "stdout",
     "output_type": "stream",
     "text": [
      "Equilateral\n"
     ]
    }
   ],
   "source": [
    "#(STEP 3) code\n",
    "#WARNING: assign values to all vars\n",
    "S1=int(input(\"Side 1?\")) \n",
    "S2=int(input(\"Side 2?\"))  \n",
    "S3=10\n",
    "\n",
    "if S1==S2 and S1==S3: \n",
    "    print(\"Equilateral\")\n",
    "elif S1!=S2 and S1!=S3:\n",
    "    print(\"Scalene\")\n",
    "else:\n",
    "    print(\"Isosceles\")"
   ]
  },
  {
   "cell_type": "markdown",
   "id": "97dbf40e-bee9-4866-a8e8-d7595d79d417",
   "metadata": {},
   "source": [
    "<a href=\"#back2\">Back to Exercise 2</a>\n",
    "\n",
    "<a name=\"ex3answer\">Answer to Exercise 3</a>"
   ]
  },
  {
   "cell_type": "markdown",
   "id": "38796602-ef0c-44ee-96eb-052c1b800dff",
   "metadata": {},
   "source": [
    "Data:\n",
    "- 1 `string` value: gender, \n",
    "- 2 `float` values:  ideal_weight, height\n",
    "\n",
    "Result:\n",
    "- ideal_weight\n",
    "\n",
    "Relations:\n",
    "- If gender = masculine, then: ideal_wheight = (72,7 * height) – 58\n",
    "- else, then: ideal_wheight = (62,1* height) – 44,7"
   ]
  },
  {
   "cell_type": "code",
   "execution_count": null,
   "id": "53cbb3d7-9be4-4f14-98ea-bfeddc551122",
   "metadata": {},
   "outputs": [],
   "source": [
    "#(STEP 2) Pseudocode\n",
    "\n",
    "Algorithm: ideal_weight\n",
    "Vars:gender, ideal_weight, height\n",
    "\n",
    "start\n",
    "    read(gender, height)\n",
    "    if gender == \"masculine\": \n",
    "        ideal_wheight = (72,7 * height) – 58 \n",
    "    else if gender == \"feminine\": :\n",
    "        ideal_wheight = (62,1* height) – 44,7\n",
    "    print(ideal_wheight)\n",
    "end"
   ]
  },
  {
   "cell_type": "code",
   "execution_count": 2,
   "id": "cfe66322-90d4-4208-8d95-73e494db4853",
   "metadata": {},
   "outputs": [
    {
     "name": "stdin",
     "output_type": "stream",
     "text": [
      "Gender: masculine/feminine opitons? m\n",
      "Height in cm? 170\n"
     ]
    },
    {
     "name": "stdout",
     "output_type": "stream",
     "text": [
      "0.0\n",
      "Try again! Use only masculine and feminine words!\n"
     ]
    }
   ],
   "source": [
    "#(STEP 3) code\n",
    "#WARNING: assign values to all vars\n",
    "gender= input(\"Gender: masculine/feminine opitons?\")\n",
    "h= float(input(\"Height in cm?\")) #WARNING: use simple vars\n",
    "ideal_w=float() #declare the variable empty, this will help to debug to see if we updated the variable \n",
    "\n",
    "if gender == \"masculine\": \n",
    "    ideal_w = (72.7 * h) - 58 \n",
    "elif gender == \"femine\": #necessary to force the options to be only \n",
    "    ideal_w = (62.1* h) - 44.7\n",
    "    \n",
    "print(ideal_w)\n",
    "\n",
    "if not ideal_w: #if a variable is empty\n",
    "    print(\"Try again! Use only masculine and feminine words!\")"
   ]
  },
  {
   "cell_type": "code",
   "execution_count": null,
   "id": "58e20fc0-5e8b-4b0f-9867-276c00e17333",
   "metadata": {},
   "outputs": [],
   "source": []
  }
 ],
 "metadata": {
  "kernelspec": {
   "display_name": "Python 3 (ipykernel)",
   "language": "python",
   "name": "python3"
  },
  "language_info": {
   "codemirror_mode": {
    "name": "ipython",
    "version": 3
   },
   "file_extension": ".py",
   "mimetype": "text/x-python",
   "name": "python",
   "nbconvert_exporter": "python",
   "pygments_lexer": "ipython3",
   "version": "3.9.7"
  }
 },
 "nbformat": 4,
 "nbformat_minor": 5
}
