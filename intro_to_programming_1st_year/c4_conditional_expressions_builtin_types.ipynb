{
 "cells": [
  {
   "cell_type": "markdown",
   "id": "1b013bb4-7e59-4204-99a9-7da43c3b71aa",
   "metadata": {
    "tags": []
   },
   "source": [
    "# Conditional expressions and handling exceptions built-in types\n",
    "*Developed by Nuno M.C. da Costa*\n",
    "\n",
    "info: \n",
    "- https://docs.python.org/3/tutorial/controlflow.html\n",
    "- https://docs.python.org/3/tutorial/errors.html#handling-exceptions"
   ]
  },
  {
   "cell_type": "code",
   "execution_count": null,
   "id": "5b3d516c-ae1c-4444-8626-1f7bf87fe7a1",
   "metadata": {},
   "outputs": [],
   "source": []
  }
 ],
 "metadata": {
  "kernelspec": {
   "display_name": "Python 3 (ipykernel)",
   "language": "python",
   "name": "python3"
  },
  "language_info": {
   "codemirror_mode": {
    "name": "ipython",
    "version": 3
   },
   "file_extension": ".py",
   "mimetype": "text/x-python",
   "name": "python",
   "nbconvert_exporter": "python",
   "pygments_lexer": "ipython3",
   "version": "3.9.7"
  }
 },
 "nbformat": 4,
 "nbformat_minor": 5
}
