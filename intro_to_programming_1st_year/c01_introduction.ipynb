{
 "cells": [
  {
   "cell_type": "markdown",
   "id": "a577f89a-5a90-4c20-b5f8-72bb3eb8759c",
   "metadata": {
    "tags": []
   },
   "source": [
    "# Introduction to programming\n",
    "*Developed by Nuno M.C. da Costa*\n",
    "\n",
    "info: https://docs.python.org/3/tutorial/introduction.html"
   ]
  },
  {
   "cell_type": "markdown",
   "id": "623c3e9e-7726-4663-abc9-87433b763692",
   "metadata": {
    "tags": []
   },
   "source": [
    "## Class 1 - Introduction"
   ]
  },
  {
   "cell_type": "markdown",
   "id": "831a4d04-c4ae-4f72-b292-29db5500bcc3",
   "metadata": {
    "tags": []
   },
   "source": [
    "### 1. What is programming?"
   ]
  },
  {
   "cell_type": "markdown",
   "id": "7a8ddb5c-4fa4-408d-985e-feaddfb432f7",
   "metadata": {},
   "source": [
    "The process or activity of \"writing\" computer programs."
   ]
  },
  {
   "cell_type": "markdown",
   "id": "3d31d371-1fb3-4a44-a690-d70ec9337fcf",
   "metadata": {
    "tags": []
   },
   "source": [
    "#### 1.1 For 'writing' we need what?"
   ]
  },
  {
   "cell_type": "markdown",
   "id": "0b0bab12-a957-4bcb-a6a4-50a180a44d0c",
   "metadata": {},
   "source": [
    "A language, a pen (keyboard) and a paper (text editor). "
   ]
  },
  {
   "cell_type": "markdown",
   "id": "7c7f28c5-8b8a-4e3d-a97d-99f9b3f72c3b",
   "metadata": {
    "tags": []
   },
   "source": [
    "##### 1.1.2 Languages"
   ]
  },
  {
   "cell_type": "markdown",
   "id": "20f43c1b-ffdc-4089-9016-30cc76247205",
   "metadata": {},
   "source": [
    "In Programming there are many languages, C/C++, Python, Java, etc. It all depends on 'how'(high or low level) and 'what'(hardware) we need to write on.  "
   ]
  },
  {
   "cell_type": "markdown",
   "id": "f5e155a6-2981-435d-9621-ca2065ccbac6",
   "metadata": {},
   "source": [
    "In this course we will be mainly using python as is a high level language and the most \"Portable, powerful, and a breeze to use\". Python can be used to do pretty much anything, scripting applications and standalone programs. "
   ]
  },
  {
   "cell_type": "markdown",
   "id": "5d3b3858-2e20-423e-918a-f9c27ff8285b",
   "metadata": {},
   "source": [
    "But we will also compare the same code with C language to understand how different languages behave (semantics and syntax). Has this one is a more low level language that is general-purpose and provides constructs that map efficiently to typical machine instructions. Applications include operating systems and various application software for computer architectures that range from supercomputers to PLCs and embedded systems."
   ]
  },
  {
   "cell_type": "markdown",
   "id": "f0ee8799-050f-4c71-869e-7b9aebcd8743",
   "metadata": {
    "tags": []
   },
   "source": [
    "##### 1.1.1 Text editor & IDE (SETUP)"
   ]
  },
  {
   "cell_type": "markdown",
   "id": "1f66929e-36ef-495d-8066-1f38bb1c6133",
   "metadata": {},
   "source": [
    "Text editor or an IDE an integrated development environment: \n",
    "- write, \n",
    "- save, \n",
    "- interpret/compile \n",
    "- and debug the language, like this jupyter notebook."
   ]
  },
  {
   "cell_type": "markdown",
   "id": "07264515-7efc-4a37-9b1d-24c3ab75883b",
   "metadata": {},
   "source": [
    "<details open>\n",
    "<summary>Install</summary>\n",
    "    \n",
    "Please first install [miniconda](https://docs.conda.io/en/latest/miniconda.html) and [git](https://git-scm.com/book/en/v2/Getting-Started-Installing-Git).\n",
    "<!-- $ sudo apt update && apt install -y libgl1-mesa-glx libsm6 libxext6 libxrender-dev -->\n",
    "\n",
    "```bash\n",
    "$ conda create -n iclasses python=3 -y\n",
    "$ conda activate iclasses\n",
    "$ git clone https://github.com/nmc-costa/iclasses.git\n",
    "$ cd iclasses\n",
    "$ conda install numpy scipy matplotlib pandas jupyterlab -y \n",
    "$ jupyter lab\n",
    "```\n",
    "\n",
    "After installing you can use start_jupyterlab_iclasses.bat for faster deployment.\n",
    "\n",
    "</details>"
   ]
  },
  {
   "cell_type": "markdown",
   "id": "3c25d462-da76-4b8d-846b-86ddae1fac75",
   "metadata": {
    "tags": []
   },
   "source": [
    "### 2. Writing Basics: Variables and functions"
   ]
  },
  {
   "cell_type": "markdown",
   "id": "bb9a509b-f1e5-40f0-87d0-0a3ceb67736d",
   "metadata": {
    "tags": []
   },
   "source": [
    "#### 2.1 Calculate numbers. \n",
    "Position your cursor in the code cell below and hit [shift][enter]."
   ]
  },
  {
   "cell_type": "code",
   "execution_count": 1,
   "id": "950feae4-67d7-4c12-b52c-c48015ccf6c6",
   "metadata": {
    "tags": []
   },
   "outputs": [
    {
     "data": {
      "text/plain": [
       "12"
      ]
     },
     "execution_count": 1,
     "metadata": {},
     "output_type": "execute_result"
    }
   ],
   "source": [
    "10 + 2"
   ]
  },
  {
   "cell_type": "code",
   "execution_count": 2,
   "id": "d3109a5b-21c9-4650-957e-50e1403a0a90",
   "metadata": {},
   "outputs": [
    {
     "data": {
      "text/plain": [
       "20"
      ]
     },
     "execution_count": 2,
     "metadata": {},
     "output_type": "execute_result"
    }
   ],
   "source": [
    "10 * 2"
   ]
  },
  {
   "cell_type": "code",
   "execution_count": 6,
   "id": "539c158b-11e8-4a0a-b3ee-115b96361bf4",
   "metadata": {},
   "outputs": [
    {
     "data": {
      "text/plain": [
       "3"
      ]
     },
     "execution_count": 6,
     "metadata": {},
     "output_type": "execute_result"
    }
   ],
   "source": [
    "10 // 3"
   ]
  },
  {
   "cell_type": "code",
   "execution_count": 7,
   "id": "713edc2b-2777-4708-90e7-0969250751db",
   "metadata": {},
   "outputs": [
    {
     "data": {
      "text/plain": [
       "3.3333333333333335"
      ]
     },
     "execution_count": 7,
     "metadata": {},
     "output_type": "execute_result"
    }
   ],
   "source": [
    "10 / 3"
   ]
  },
  {
   "cell_type": "code",
   "execution_count": 8,
   "id": "00d96ac9-ec09-4513-ab8e-8e908a493d65",
   "metadata": {},
   "outputs": [
    {
     "data": {
      "text/plain": [
       "8"
      ]
     },
     "execution_count": 8,
     "metadata": {},
     "output_type": "execute_result"
    }
   ],
   "source": [
    "10 - 2"
   ]
  },
  {
   "cell_type": "markdown",
   "id": "c688d83b-903d-400c-b0d0-701b7fb0a49b",
   "metadata": {},
   "source": [
    "Operators: +(sum), - (subtraction), * (multiplication), // (integer division), / (float division)"
   ]
  },
  {
   "cell_type": "markdown",
   "id": "ee4211b3-9213-4c3a-9d70-f42e98c3838d",
   "metadata": {
    "tags": []
   },
   "source": [
    "#### 2.2 What is a variable?"
   ]
  },
  {
   "cell_type": "markdown",
   "id": "29050548-b598-4f35-9581-ceef3a5981db",
   "metadata": {},
   "source": [
    "When you are programming, you want to store your values in variables (memory allocation) for a period of time inside the program."
   ]
  },
  {
   "cell_type": "code",
   "execution_count": 3,
   "id": "de222dc2-49fd-4fca-8e9b-5c82ed82a9b7",
   "metadata": {},
   "outputs": [],
   "source": [
    "variable_1 = 10\n",
    "variable_2 = 2"
   ]
  },
  {
   "cell_type": "code",
   "execution_count": 10,
   "id": "6ea9395c-3501-48eb-9e04-ea22559dd773",
   "metadata": {},
   "outputs": [
    {
     "data": {
      "text/plain": [
       "10"
      ]
     },
     "execution_count": 10,
     "metadata": {},
     "output_type": "execute_result"
    }
   ],
   "source": [
    "variable_1"
   ]
  },
  {
   "cell_type": "code",
   "execution_count": 11,
   "id": "ef3aa650-32b8-4b3a-b7aa-d110683371cf",
   "metadata": {},
   "outputs": [
    {
     "data": {
      "text/plain": [
       "2"
      ]
     },
     "execution_count": 11,
     "metadata": {},
     "output_type": "execute_result"
    }
   ],
   "source": [
    "variable_2"
   ]
  },
  {
   "cell_type": "code",
   "execution_count": 12,
   "id": "8ecf9462-301f-4208-8331-0f763cf4d750",
   "metadata": {},
   "outputs": [
    {
     "data": {
      "text/plain": [
       "12"
      ]
     },
     "execution_count": 12,
     "metadata": {},
     "output_type": "execute_result"
    }
   ],
   "source": [
    "variable_1 + variable_2"
   ]
  },
  {
   "cell_type": "code",
   "execution_count": 16,
   "id": "6058236a-2ce8-4e8d-9dfd-d1a80611fa21",
   "metadata": {},
   "outputs": [
    {
     "data": {
      "text/plain": [
       "120"
      ]
     },
     "execution_count": 16,
     "metadata": {},
     "output_type": "execute_result"
    }
   ],
   "source": [
    "variable_1 * (variable_2 + 10)"
   ]
  },
  {
   "cell_type": "markdown",
   "id": "c1abab97-eece-4ed9-9d3f-fd8862e2e362",
   "metadata": {},
   "source": [
    "A variable can be raised to a power by using `**` \n",
    "(a hat `^`, as used in some other languages, doesn't work)."
   ]
  },
  {
   "cell_type": "code",
   "execution_count": 17,
   "id": "40040582-9c10-49b3-aba1-cac05702d707",
   "metadata": {},
   "outputs": [
    {
     "data": {
      "text/plain": [
       "100"
      ]
     },
     "execution_count": 17,
     "metadata": {},
     "output_type": "execute_result"
    }
   ],
   "source": [
    "variable_1 ** variable_2"
   ]
  },
  {
   "cell_type": "markdown",
   "id": "fb39c809-fac5-4d37-adf1-c52f71854cf5",
   "metadata": {
    "tags": []
   },
   "source": [
    "#### 2.2 What is a function?"
   ]
  },
  {
   "cell_type": "markdown",
   "id": "c5521b6f-1011-47e2-8db5-a6ce4f191cea",
   "metadata": {},
   "source": [
    "A function is a set of code that solves a determinated problem. \n",
    "Functions receive input parameters and return results."
   ]
  },
  {
   "cell_type": "markdown",
   "id": "4d08908c-a781-4aae-a563-0827ef2d4be0",
   "metadata": {},
   "source": [
    "In this case we will be using `print` function that solves the problem of print our results to the console whenever we want."
   ]
  },
  {
   "cell_type": "code",
   "execution_count": 18,
   "id": "0779ce1c-6773-4f78-93b9-c41715ae00c6",
   "metadata": {},
   "outputs": [
    {
     "name": "stdout",
     "output_type": "stream",
     "text": [
      "12\n",
      "20\n"
     ]
    }
   ],
   "source": [
    "print(variable_1 + variable_2) # print(): a function to print the value to the console \n",
    "print(variable_1 * variable_2) # print(): a function to print the value to the console"
   ]
  },
  {
   "cell_type": "markdown",
   "id": "3f26ddc0-e4c5-450d-a494-4db0eedca2db",
   "metadata": {},
   "source": [
    "It also solves the problem of adding text to the print result. If you input more parameters"
   ]
  },
  {
   "cell_type": "code",
   "execution_count": 4,
   "id": "04277497-652b-4a2d-939c-1fb6b5c683df",
   "metadata": {},
   "outputs": [
    {
     "name": "stdout",
     "output_type": "stream",
     "text": [
      "Before parameter_1 20 parameter_3  after\n"
     ]
    }
   ],
   "source": [
    "a = \"parameter_1\"\n",
    "b = variable_1 * variable_2\n",
    "c = \"parameter_3\"\n",
    "print(\"Before\", a, b, c, \" after\")"
   ]
  },
  {
   "cell_type": "markdown",
   "id": "674f23ee-37c6-4f7f-bbfa-40a4c22b17ca",
   "metadata": {
    "tags": []
   },
   "source": [
    "### <a name=\"ex1\"></a> Exercise 1\n",
    "Compute the value of the polynomial $y=ax^2+bx+c$ at $x=1$, $x=2$, and $x=3$ using $a=1$, $b=1$, $c=6$ and print the results to the screen."
   ]
  },
  {
   "cell_type": "code",
   "execution_count": null,
   "id": "77b288e6-cf91-4ffd-a9ad-dfc64529ae0a",
   "metadata": {},
   "outputs": [],
   "source": []
  },
  {
   "cell_type": "markdown",
   "id": "9e9d47e2-a1d1-4b67-9fe2-8e8119de4e4b",
   "metadata": {},
   "source": [
    "<a href=\"#ex1answer\">Answer to Exercise 1</a>"
   ]
  },
  {
   "cell_type": "markdown",
   "id": "6e6698ce-a8be-4e65-9a61-43ec7979b46f",
   "metadata": {
    "tags": []
   },
   "source": [
    "### 3. Potential"
   ]
  },
  {
   "cell_type": "markdown",
   "id": "6aa9c510-1412-448b-922c-44f9755d3954",
   "metadata": {},
   "source": [
    "https://github.com/bycloudai/StyleCLIP-e4e-colab"
   ]
  },
  {
   "cell_type": "markdown",
   "id": "b57e3315-f924-4399-a619-fb5fcabc0119",
   "metadata": {},
   "source": [
    "### Answers for the exercises"
   ]
  },
  {
   "cell_type": "markdown",
   "id": "85b63299-ec33-4c97-926a-118fac9bce99",
   "metadata": {},
   "source": [
    "<a name=\"ex1answer\">Answer to Exercise 1</a>"
   ]
  },
  {
   "cell_type": "code",
   "execution_count": 6,
   "id": "fde6eabb-bfdd-41d3-8acb-2d0a44a208f2",
   "metadata": {},
   "outputs": [
    {
     "name": "stdout",
     "output_type": "stream",
     "text": [
      "y evaluated at x = 1 is 8\n",
      "y evaluated at x = 2 is 12\n",
      "y evaluated at x = 3 is 18\n"
     ]
    }
   ],
   "source": [
    "a = 1\n",
    "b = 1\n",
    "c = 6\n",
    "x = 1\n",
    "y = a * x ** 2 + b * x + c\n",
    "print('y evaluated at x = 1 is', y)\n",
    "x = 2 \n",
    "y = a * x ** 2 + b * x + c\n",
    "print('y evaluated at x = 2 is', y)\n",
    "x = 3\n",
    "y = a * x ** 2 + b * x + c\n",
    "print('y evaluated at x = 3 is', y)"
   ]
  },
  {
   "cell_type": "markdown",
   "id": "55d71618-ed21-4016-a52d-eb09064509e0",
   "metadata": {},
   "source": [
    "Other way to represent the results :"
   ]
  },
  {
   "cell_type": "code",
   "execution_count": 7,
   "id": "6424a0af-b58c-478c-b56a-fc57202742fd",
   "metadata": {},
   "outputs": [
    {
     "name": "stdout",
     "output_type": "stream",
     "text": [
      "8\n",
      "12\n",
      "18\n",
      "8 12 18\n"
     ]
    }
   ],
   "source": [
    "a = 1\n",
    "b = 1\n",
    "c = 6\n",
    "#3 different results\n",
    "x1 = 1\n",
    "x2 = 2\n",
    "x3 = 3\n",
    "\n",
    "y1 = a * x1 ** 2 + b*x1  + c #print em x1=-2\n",
    "print(y1)\n",
    "y2 = a * x2 ** 2 + b*x2 + c #print em x2=-2\n",
    "print(y2)\n",
    "y3 = a * x3 ** 2 + b*x3 + c #print em x3=-2\n",
    "print(y3)\n",
    "print(y1, y2, y3)"
   ]
  },
  {
   "cell_type": "markdown",
   "id": "c52fd200-d112-47fc-aefb-4ca80a250d2a",
   "metadata": {},
   "source": [
    "Represent the results in a plot::"
   ]
  },
  {
   "cell_type": "code",
   "execution_count": 8,
   "id": "9cb79b87-b7c1-4778-ace0-c3379f7aa470",
   "metadata": {},
   "outputs": [
    {
     "data": {
      "text/plain": [
       "[<matplotlib.lines.Line2D at 0x2b01657ee50>]"
      ]
     },
     "execution_count": 8,
     "metadata": {},
     "output_type": "execute_result"
    },
    {
     "data": {
      "image/png": "[encoded data removed]",
      "text/plain": [
       "<Figure size 432x288 with 1 Axes>"
      ]
     },
     "metadata": {
      "needs_background": "light"
     },
     "output_type": "display_data"
    }
   ],
   "source": [
    "%matplotlib inline\n",
    "import matplotlib.pyplot as plt\n",
    "plt.plot([x1, x2, x3], [y1, y2, y3],  '--bo')"
   ]
  },
  {
   "cell_type": "markdown",
   "id": "a7c03e56-0b47-4217-a699-f7e94ec8fa9a",
   "metadata": {},
   "source": [
    "How to know how a function works:"
   ]
  },
  {
   "cell_type": "code",
   "execution_count": 9,
   "id": "7f13060e-f657-4ea7-9dd7-3b82f94957ce",
   "metadata": {},
   "outputs": [
    {
     "name": "stdout",
     "output_type": "stream",
     "text": [
      "Help on built-in function print in module builtins:\n",
      "\n",
      "print(...)\n",
      "    print(value, ..., sep=' ', end='\\n', file=sys.stdout, flush=False)\n",
      "    \n",
      "    Prints the values to a stream, or to sys.stdout by default.\n",
      "    Optional keyword arguments:\n",
      "    file:  a file-like object (stream); defaults to the current sys.stdout.\n",
      "    sep:   string inserted between values, default a space.\n",
      "    end:   string appended after the last value, default a newline.\n",
      "    flush: whether to forcibly flush the stream.\n",
      "\n"
     ]
    }
   ],
   "source": [
    "help(print) "
   ]
  },
  {
   "cell_type": "markdown",
   "id": "245210b9-c774-4e7d-916e-be37eb7699f1",
   "metadata": {},
   "source": [
    "<a href=\"#ex1\">Back to Exercise 1</a>"
   ]
  },
  {
   "cell_type": "markdown",
   "id": "a38dd94d-4c8d-4e70-a092-42b2bcc57f36",
   "metadata": {},
   "source": [
    "<a name=\"ex1answer\">Answer to Exercise 1</a>"
   ]
  },
  {
   "cell_type": "code",
   "execution_count": null,
   "id": "335fd099-2fd0-4aeb-acfd-15b8b98c2d5b",
   "metadata": {},
   "outputs": [],
   "source": [
    "a = 1\n",
    "b = 1\n",
    "c = -6\n",
    "x = -2\n",
    "y = a * x ** 2 + b * x + c\n",
    "print('y evaluated at x = -2 is', y)\n",
    "x = 0 \n",
    "y = a * x ** 2 + b * x + c\n",
    "print('y evaluated at x = 0 is', y)\n",
    "x = 2.1\n",
    "y = a * x ** 2 + b * x + c\n",
    "print('y evaluated at x = 2 is', y)"
   ]
  },
  {
   "cell_type": "markdown",
   "id": "8a76f0b7-ce1a-4d56-ad1a-70bde1f108a7",
   "metadata": {},
   "source": [
    "<a href=\"#ex1\">Back to Exercise 1</a>"
   ]
  },
  {
   "cell_type": "markdown",
   "id": "51410f93-ea5d-48fc-95c2-6d0ed1d67d25",
   "metadata": {
    "tags": []
   },
   "source": [
    "## Extra Resources"
   ]
  },
  {
   "cell_type": "markdown",
   "id": "d35eb37a-d592-497c-a5ef-b7f8588676e8",
   "metadata": {},
   "source": [
    "Some good resources for learning jupyter in notebooks:\n",
    "\n",
    "https://jupyter.brynmawr.edu/hub/login\n",
    "\n",
    "Some good resources on learning Python in notebooks:\n",
    "\n",
    "http://mbakker7.github.io/exploratory_computing_with_python/"
   ]
  }
 ],
 "metadata": {
  "kernelspec": {
   "display_name": "Python 3 (ipykernel)",
   "language": "python",
   "name": "python3"
  },
  "language_info": {
   "codemirror_mode": {
    "name": "ipython",
    "version": 3
   },
   "file_extension": ".py",
   "mimetype": "text/x-python",
   "name": "python",
   "nbconvert_exporter": "python",
   "pygments_lexer": "ipython3",
   "version": "3.9.7"
  }
 },
 "nbformat": 4,
 "nbformat_minor": 5
}
