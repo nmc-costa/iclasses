{
 "cells": [
  {
   "cell_type": "markdown",
   "id": "bef6fe71-761b-4ecb-8559-3cf9ad7bc771",
   "metadata": {
    "tags": []
   },
   "source": [
    "# Sequence Types - lists and tuples builtin types; Arrays and mathematical attributes\n",
    "*Developed by Nuno M.C. da Costa*\n",
    "\n",
    "info:\n",
    "- https://docs.python.org/3/tutorial/controlflow.html\n",
    "- http://mbakker7.github.io/exploratory_computing_with_python/"
   ]
  },
  {
   "cell_type": "markdown",
   "id": "71b0436d-2094-4bf5-9e9d-416878fa1879",
   "metadata": {
    "tags": []
   },
   "source": [
    "### Lists and Tuples\n",
    "Python has several data types that can store a sequence of values. The first one is called a `list` and is entered between square brackets. The second one is a tuple, and it is entered with parentheses. The difference is that you can change the values in a list after you create them, and you can not do that with a tuple. Also you *cannot* do math with either lists or tuples. When you do `2 * alist`, where `alist` is a list, you don't multiply all values in `alist` with the number 2. What happens is that you create a new list that contains `alist` twice (so it adds them back to back). The same holds for tuples. That can be very useful, but not when your intent is to multiply all values by 2. In the example below, the first value in a list is modified. Try to modify one of the values in `btuple` below and you will see that you get an error message:"
   ]
  },
  {
   "cell_type": "code",
   "execution_count": 3,
   "id": "db3e3b6c-b886-4108-9172-9a12e61eb463",
   "metadata": {},
   "outputs": [
    {
     "name": "stdout",
     "output_type": "stream",
     "text": [
      "alist [1, 2, 3]\n",
      "2 * alist [1, 2, 3, 1, 2, 3]\n",
      "btuple (10, 20, 30)\n",
      "2 * btuple (10, 20, 30, 10, 20, 30)\n"
     ]
    }
   ],
   "source": [
    "alist = [1, 2, 3]\n",
    "print('alist', alist)\n",
    "print('2 * alist', 2 * alist)\n",
    "btuple = (10, 20, 30)\n",
    "print('btuple', btuple)\n",
    "print('2 * btuple', 2 * btuple)"
   ]
  },
  {
   "cell_type": "code",
   "execution_count": 5,
   "id": "9052644c-7185-4497-8a65-4d87d10b0db3",
   "metadata": {},
   "outputs": [
    {
     "name": "stdout",
     "output_type": "stream",
     "text": [
      "modified alist [7, 2, 3]\n",
      "3\n"
     ]
    }
   ],
   "source": [
    "#lists can be modified\n",
    "alist[0] = 7  # Since alist is a list, you can change values \n",
    "print('modified alist', alist)\n",
    "print(alist[2])"
   ]
  },
  {
   "cell_type": "code",
   "execution_count": 6,
   "id": "b42ef345-da49-4998-99ee-4dbc6cc90433",
   "metadata": {},
   "outputs": [
    {
     "ename": "TypeError",
     "evalue": "'tuple' object does not support item assignment",
     "output_type": "error",
     "traceback": [
      "\u001b[1;31m---------------------------------------------------------------------------\u001b[0m",
      "\u001b[1;31mTypeError\u001b[0m                                 Traceback (most recent call last)",
      "\u001b[1;32mC:\\Users\\NMC_CO~1\\AppData\\Local\\Temp/ipykernel_25560/1187905125.py\u001b[0m in \u001b[0;36m<module>\u001b[1;34m\u001b[0m\n\u001b[0;32m      1\u001b[0m \u001b[1;31m#tuples can't be modified (stay allways the same - for debug they are better)\u001b[0m\u001b[1;33m\u001b[0m\u001b[1;33m\u001b[0m\u001b[0m\n\u001b[1;32m----> 2\u001b[1;33m \u001b[0mbtuple\u001b[0m\u001b[1;33m[\u001b[0m\u001b[1;36m0\u001b[0m\u001b[1;33m]\u001b[0m \u001b[1;33m=\u001b[0m \u001b[1;36m100\u001b[0m  \u001b[1;31m# Will give an error\u001b[0m\u001b[1;33m\u001b[0m\u001b[1;33m\u001b[0m\u001b[0m\n\u001b[0m",
      "\u001b[1;31mTypeError\u001b[0m: 'tuple' object does not support item assignment"
     ]
    }
   ],
   "source": [
    "#tuples can't be modified (stay allways the same - for debug they are better)\n",
    "btuple[0] = 100  # Will give an error"
   ]
  },
  {
   "cell_type": "markdown",
   "id": "6abd1f6c-d705-4db1-a03e-f9615aeb30be",
   "metadata": {},
   "source": [
    "### Arrays and mathematical attributes"
   ]
  },
  {
   "cell_type": "markdown",
   "id": "6822a3cc-4855-4f29-831f-4fa4305fcea4",
   "metadata": {},
   "source": [
    "We will do math on arrays using functions of the `numpy` package.  We will also make plots. We start by telling the Jupyter Notebooks to put all graphs inline. Then we import the `numpy` package and call it `np`, and we import the plotting part of the `matplotlib` package and call it `plt`. \n",
    "\n",
    "For an overview of `numpy` functionality can be found [here](https://docs.scipy.org/doc/numpy/user/quickstart.html).\n",
    "\n",
    "For an overview of `matplotlib.pyplot` functionality can be found [here](https://matplotlib.org/stable/tutorials/introductory/pyplot.html#sphx-glr-tutorials-introductory-pyplot-py)."
   ]
  },
  {
   "cell_type": "code",
   "execution_count": 19,
   "id": "4bf3ecd1-4c9d-405d-a56e-1041fdf7aacc",
   "metadata": {},
   "outputs": [],
   "source": [
    "%matplotlib inline\n",
    "import numpy as np\n",
    "import matplotlib.pyplot as plt"
   ]
  },
  {
   "cell_type": "markdown",
   "id": "6e1d5c04-d95e-4c9d-ab60-31091d06d908",
   "metadata": {},
   "source": [
    "### One-dimesional lists and arrays\n",
    "There are many ways to create arrays. For example, you can enter the individual elements of an array\n",
    "\n",
    "Note: the `array` function takes one sequence of points, a list, between square brackets."
   ]
  },
  {
   "cell_type": "code",
   "execution_count": 9,
   "id": "879e14b0-6db3-4c12-891b-dc7081c2c2c5",
   "metadata": {},
   "outputs": [
    {
     "name": "stdout",
     "output_type": "stream",
     "text": [
      "list1 [1, 7, 2, 12]\n",
      "2 * list1 [1, 7, 2, 12, 1, 7, 2, 12]\n",
      "array1 [ 1  7  2 12]\n",
      "2 * array1 [ 2 14  4 24]\n"
     ]
    }
   ],
   "source": [
    "list1=[1, 7, 2, 12]\n",
    "array1=np.array(list1)\n",
    "print('list1', list1)\n",
    "print('2 * list1', 2 * list1)\n",
    "print('array1', array1)\n",
    "print('2 * array1', 2 * array1)"
   ]
  },
  {
   "cell_type": "markdown",
   "id": "9ba473d9-fcc8-4181-a2c0-d3ed0d278ce6",
   "metadata": {},
   "source": [
    "Arrays have a dimension. So far we have only used one-dimensional arrays. \n",
    "Hence the dimension is 1. \n",
    "For one-dimensional arrays, you can also compute the length (which is part of Python and not `numpy`), which returns the number of values in the array"
   ]
  },
  {
   "cell_type": "code",
   "execution_count": 13,
   "id": "0f7be400-a7d6-4515-875e-a353a58e1717",
   "metadata": {},
   "outputs": [
    {
     "name": "stdout",
     "output_type": "stream",
     "text": [
      "number of dimensions of x: 1\n",
      "length of x: 3\n",
      "[1 2 2]\n"
     ]
    }
   ],
   "source": [
    "x = np.array([1, 2, 2])\n",
    "print('number of dimensions of x:', np.ndim(x))\n",
    "print('length of x:', len(x))\n",
    "print(x)"
   ]
  },
  {
   "cell_type": "markdown",
   "id": "60bd8c40-9441-4e4a-87f3-559c0aafb330",
   "metadata": {},
   "source": [
    "The individual elements of an list and a array can be accessed with their index. Indices start at 0. \n",
    "The first value in the array has index 0. The index of an array is specified using square brackets."
   ]
  },
  {
   "cell_type": "code",
   "execution_count": 15,
   "id": "67e57c2d-6278-45d7-aaeb-0d53799f36ca",
   "metadata": {},
   "outputs": [
    {
     "name": "stdout",
     "output_type": "stream",
     "text": [
      "list with index 0: 1\n",
      "array with index 0: 1\n"
     ]
    }
   ],
   "source": [
    "list1=[1, 7, 2, 12]\n",
    "array1=np.array(list1)\n",
    "print('list with index 0:', list1[0])\n",
    "print('array with index 0:', array1[0])"
   ]
  },
  {
   "cell_type": "markdown",
   "id": "8bdd96d8-258b-4a52-b688-5b0a53ee1c92",
   "metadata": {},
   "source": [
    "A range of indices may be specified using the colon syntax:\n",
    "`x[start:end_before]` or `x[start:end_before:step]`. If the `start` isn't specified, 0 will be used. If the step isn't specified, 1 will be used. "
   ]
  },
  {
   "cell_type": "code",
   "execution_count": 25,
   "id": "1060633f-1743-4c8d-a1cf-9de3d4f31aa4",
   "metadata": {},
   "outputs": [
    {
     "name": "stdout",
     "output_type": "stream",
     "text": [
      "[1, 7, 2, 12]\n",
      "[1, 7, 2, 12]\n",
      "[12, 18]\n",
      "[1, 12]\n",
      "5\n",
      "[2, 12, 18]\n"
     ]
    }
   ],
   "source": [
    "list1=[1, 7, 2, 12, 18]\n",
    "print(list1[0:4])\n",
    "print(list1[:4])  # same as previous one\n",
    "print(list1[3:5])\n",
    "print(list1[0:5:3])  # step is 2\n",
    "print(len(list1))\n",
    "print(list1[-3:len(list1)])  # last value"
   ]
  },
  {
   "cell_type": "code",
   "execution_count": 26,
   "id": "d8f28d1e-4f59-4239-92c7-320ecf2a061a",
   "metadata": {},
   "outputs": [
    {
     "name": "stdout",
     "output_type": "stream",
     "text": [
      "[ 1  7  2 12 18]\n",
      "[ 1  7  2 12 18]\n",
      "[12 18]\n",
      "[ 2 18]\n"
     ]
    }
   ],
   "source": [
    "array1=np.array(list1)\n",
    "print(array1[0:5])\n",
    "print(array1[:5])  # same as previous one\n",
    "print(array1[3:5])\n",
    "print(array1[2:5:2])  # step is 2"
   ]
  },
  {
   "cell_type": "markdown",
   "id": "1ea91661-f7bb-420c-84be-b771944feaa0",
   "metadata": {},
   "source": [
    "You can also start at the end and count back. Generally, the index of the end is not known. You can find out how long the array is and access the last value by typing `x[len(x) - 1]` but it would be inconvenient to have to type `len(arrayname)` all the time. Luckily, there is a shortcut: `x[-1]` is the same as `x[len(x) - 1]` and represents the last value in the array. For example:"
   ]
  },
  {
   "cell_type": "code",
   "execution_count": 3,
   "id": "23c1fe4b-8145-40cc-9721-419acfd61fa0",
   "metadata": {},
   "outputs": [
    {
     "name": "stdout",
     "output_type": "stream",
     "text": [
      "[1, 7, 2, 12, 18]\n",
      "18\n",
      "18\n",
      "18\n"
     ]
    }
   ],
   "source": [
    "xvalues = [1, 7, 2, 12, 18]\n",
    "print(xvalues)\n",
    "print(xvalues[len(xvalues) - 1])  # last value in array\n",
    "print(xvalues[-1])  # much shorter\n",
    "print(xvalues[-1])  # start at the end and go back with steps of -1"
   ]
  },
  {
   "cell_type": "markdown",
   "id": "9c17d492-8cfe-4da7-a840-f1c1d3bfd18b",
   "metadata": {},
   "source": [
    "However, lists replacements are diferent from arrays, as we can only replace one by one:"
   ]
  },
  {
   "cell_type": "code",
   "execution_count": 40,
   "id": "b050f90e-d64e-4548-9650-727c934d4bf5",
   "metadata": {},
   "outputs": [
    {
     "name": "stdout",
     "output_type": "stream",
     "text": [
      "[ 1  0  0 12  0]\n",
      "[1, 0, 0, 12, 0]\n",
      "[1, 0, 0, 12, 0]\n",
      "[1, 0, 0, 12, 0]\n"
     ]
    }
   ],
   "source": [
    "l=xvalues\n",
    "a=np.array(xvalues)\n",
    "#replace only one value\n",
    "l[4]=0\n",
    "a[4]=0\n",
    "\n",
    "\n",
    "#replace more than one value\n",
    "#l[1:3]=0 #gives error\n",
    "a[1:3]=0\n",
    "print(a)\n",
    "\n",
    "#so to do the same we need to add an list instead of a constant:\n",
    "l1=xvalues\n",
    "l1[1:3]=[0,0]\n",
    "print(l1)\n",
    "\n",
    "#Or use a loop:\n",
    "l2=xvalues\n",
    "for i in range(len(l2)):\n",
    "    if i>=1 and i<3:\n",
    "        l2[i]=0\n",
    "print(l2)\n",
    "\n",
    "#Or we can create slices of the list\n",
    "l3=xvalues\n",
    "l3 = l3[:1] + [0,0] + l3[3:]\n",
    "print(l3)"
   ]
  },
  {
   "cell_type": "code",
   "execution_count": 46,
   "id": "e5241e2f-108b-42bb-b1f9-002c3e9ae5e1",
   "metadata": {},
   "outputs": [
    {
     "data": {
      "text/plain": [
       "range(0, 3)"
      ]
     },
     "metadata": {},
     "output_type": "display_data"
    },
    {
     "name": "stdout",
     "output_type": "stream",
     "text": [
      "[0, 0, 0, 0, 0, 12, 14, 16, 18, 20, 22, 24, 26, 28, 30, 0, 0, 0, 0, 0]\n"
     ]
    }
   ],
   "source": [
    "l = [0] * 20\n",
    "l[5:15] = range(12, 31, 2)\n",
    "print(l)"
   ]
  },
  {
   "cell_type": "markdown",
   "id": "98743e8c-8eb8-47c3-9a02-f122ab72de9b",
   "metadata": {},
   "source": [
    "Another important aspect is that you can easely convert between list and arrays easely:"
   ]
  },
  {
   "cell_type": "code",
   "execution_count": 7,
   "id": "5d0f99b6-f327-4b43-abbb-5426a71dcc7f",
   "metadata": {},
   "outputs": [
    {
     "name": "stdout",
     "output_type": "stream",
     "text": [
      "[1, 7, 2, 12, 18]\n",
      "[ 0  0  0 24 36]\n",
      "[0, 0, 0, 24, 36, 0, 0, 0, 24, 36]\n"
     ]
    }
   ],
   "source": [
    "l=xvalues\n",
    "print(l)\n",
    "a=np.array(l)\n",
    "a[0:3]=0\n",
    "a=2*a\n",
    "print(a)\n",
    "l=a.tolist() #function tolist()\n",
    "print(2*l)"
   ]
  },
  {
   "cell_type": "markdown",
   "id": "732ac79a-5173-4517-bf30-c4cf755277fc",
   "metadata": {
    "tags": []
   },
   "source": [
    "### Exercise 1, <a name=\"back1\"></a> list/arrays and indices\n",
    "1. Create an list of zeros with length 20. Change the first 5 values to 10. Change the next 10 values to a sequence starting at 12 and increasig with steps of 2 to 30 (do this with range()). Set the final 5 values to 30. \n",
    "\n",
    "2. Same thing but using numpy arrays. Change the list to array. Change the first 5 values to 10. Change the next 10 values to a sequence starting at 12 and increasig with steps of 2 to 30 (do this with np.arange() that is similar to range()). Set the final 5 values to 30. \n",
    "\n",
    "3. Convert to array and Plot the value of the array on the $y$-axis vs. the index of the array on the $x$-axis. \n",
    "\n",
    "4. Draw vertical dashed lines at $x=4$ and $x=14$ (i.e., the section between the dashed lines is where the line increases from 10 to 30). \n",
    "\n",
    "5. Set the minimum and maximum values of the $y$-axis to 8 and 32 using the `ylim` command.\n",
    "\n",
    "6. Now, we want to double the values on the array and plot."
   ]
  },
  {
   "cell_type": "code",
   "execution_count": null,
   "id": "dedaa341-85ad-4c82-963f-88503c5c0da6",
   "metadata": {},
   "outputs": [],
   "source": []
  },
  {
   "cell_type": "markdown",
   "id": "2f67de33-15fc-4fb8-96b8-55d9041eb0f5",
   "metadata": {},
   "source": [
    "<a href=\"#ex1answer\">Answer for Exercise 1</a>"
   ]
  },
  {
   "cell_type": "markdown",
   "id": "2911b829-369e-4b7d-a59c-1077bfaf982e",
   "metadata": {
    "tags": []
   },
   "source": [
    "### Multidimensional nested lists and arrays\n",
    "Python doesn't have a built-in type for matrices. However, we can treat a list of a list (nested list)as a matrice, same for arrays. "
   ]
  },
  {
   "cell_type": "code",
   "execution_count": 28,
   "id": "518b7d1e-6892-4a58-a80f-b021a6b5d408",
   "metadata": {},
   "outputs": [
    {
     "name": "stdout",
     "output_type": "stream",
     "text": [
      "[0, 0, 0, 0, 0]\n",
      "[0, 0, 0, 0, 0]\n",
      "[0, 0, 0, 0, 0]\n",
      "[0, 0, 0, 0, 0]\n",
      "2\n"
     ]
    }
   ],
   "source": [
    "A = [[0,0,0,0,0],\n",
    "     [0,0,0,0,0],\n",
    "     [0,0,0,0,0],\n",
    "     [0,0,0,0,0]]\n",
    "for a in A: #this is needed to print like a matrix with lists\n",
    "    print(a)\n",
    "A_a=np.array(A)\n",
    "print(np.ndim(A_a))"
   ]
  },
  {
   "cell_type": "code",
   "execution_count": 110,
   "id": "bf684c83-5723-43ad-b5fd-8058f69f131d",
   "metadata": {},
   "outputs": [
    {
     "name": "stdout",
     "output_type": "stream",
     "text": [
      "[0, 0, 0, 0, 0]\n",
      "[0, 0, 0, 0, 0]\n",
      "[0, 0, 0, 0, 0]\n",
      "[0, 0, 0, 0, 0]\n"
     ]
    }
   ],
   "source": [
    "#OR\n",
    "A=[[0]*5, \n",
    "   [0]*5, \n",
    "   [0]*5, \n",
    "   [0]*5] \n",
    "for a in A: #this is needed to print like a matrix with lists\n",
    "    print(a)"
   ]
  },
  {
   "cell_type": "code",
   "execution_count": 29,
   "id": "a0f36bad-cd5e-42d4-9f7a-16d8b306a8a8",
   "metadata": {},
   "outputs": [
    {
     "name": "stdout",
     "output_type": "stream",
     "text": [
      "[0, 0, 0, 0, 0]\n",
      "[0, 0, 0, 0, 0]\n",
      "[0, 0, 0, 0, 0]\n",
      "[0, 0, 0, 0, 0]\n"
     ]
    }
   ],
   "source": [
    "#WARNING - Don't attribute values like this.\n",
    "#Without getting into detail, this makes all the sublists to have the same address in memory and will misbehave.\n",
    "A_WARNING=[[0]*5]*4  \n",
    "for a in A_WARNING: \n",
    "    print(a)\n",
    "#TEST this and you will see why!"
   ]
  },
  {
   "cell_type": "markdown",
   "id": "80f89688-e0b2-435e-b1f5-a97ad1355066",
   "metadata": {},
   "source": [
    "Arrays and list may have arbitrary dimensions (as long as they fit in your computer's memory)."
   ]
  },
  {
   "cell_type": "markdown",
   "id": "3e0a6dcd-813a-46d9-9e6f-41ae8c9b4e3a",
   "metadata": {},
   "source": [
    "Arrays may be defined by specifying all the values in the array. The `array` function gets passed one list consisting of separate lists for each row of the array."
   ]
  },
  {
   "cell_type": "code",
   "execution_count": 30,
   "id": "34d7f805-2d26-4893-86ce-c93a45be912a",
   "metadata": {},
   "outputs": [
    {
     "name": "stdout",
     "output_type": "stream",
     "text": [
      "[[0 0 0 0 0]\n",
      " [0 0 0 0 0]\n",
      " [0 0 0 0 0]\n",
      " [0 0 0 0 0]]\n"
     ]
    }
   ],
   "source": [
    "A_a = np.array(A)\n",
    "print(A_a)"
   ]
  },
  {
   "cell_type": "markdown",
   "id": "ae04e00c-3cfd-4072-a85f-4ae41921b03e",
   "metadata": {},
   "source": [
    "The index of a two-dimensional array is specified with two values, first the row index, then the column index."
   ]
  },
  {
   "cell_type": "code",
   "execution_count": 33,
   "id": "b5a04d6c-b27b-4d0a-89dc-f1de11f16083",
   "metadata": {},
   "outputs": [
    {
     "name": "stdout",
     "output_type": "stream",
     "text": [
      "[100, 0, 0, 0, 0]\n",
      "[200, 200, 200, 200, 200]\n",
      "[0, 0, 0, 400, 400]\n",
      "[0, 0, 0, 0, 0]\n",
      "Array: \n",
      " [[100  10   0   0   0]\n",
      " [200  10 200 200 200]\n",
      " [  0  10   0 400 400]\n",
      " [  0  10   0   0   0]]\n"
     ]
    }
   ],
   "source": [
    "#check the differences\n",
    "#list\n",
    "A[0][0] = 100 #you can replace one value\n",
    "A[1][:] = [200] * len(A[1][:]) #you can replace full \"line\" list\n",
    "A[2][-2:] = [400] * len(A[2][-2:]) #you can also replace parts of a \"\"line\n",
    "A[:][1] = [10] * len(A[:][1]) #WARNING can't change columns, this needs to be done programatically using loop sequences (in the next class)\n",
    "for a in A: #this is needed to print like a matrix with lists\n",
    "    print(a)\n",
    "    \n",
    "#array\n",
    "A_a[0, 0] = 100\n",
    "A_a[1, :] = 200  # Row with index 1, columns starting with 4 to the end\n",
    "A_a[2, -2:] = 400  # Row with index 2, columns counting back from the end with steps of 1 and stop before reaching index 4\n",
    "A_a[:,1] = 10 # Column with index 1\n",
    "print(\"Array: \\n\", A_a)"
   ]
  },
  {
   "cell_type": "markdown",
   "id": "735723c1-189b-4485-be80-f22cddb4b443",
   "metadata": {},
   "source": [
    "`NOTE` Take home message: for multidimensional operations is easier to use numpy arrays."
   ]
  },
  {
   "cell_type": "markdown",
   "id": "5ee83c62-dadf-46bc-baa9-9fd6c17af404",
   "metadata": {
    "tags": []
   },
   "source": [
    "#### Arrays and lists are not matrices\n",
    "However an array and nested list are not matrices, the math-oriented reader may think that arrays are matrices, or that one-dimensional arrays are vectors. It is crucial to understand that *arrays are not vectors or matrices*. The multiplication and division of two arrays is term by term, like the sum and subtraction."
   ]
  },
  {
   "cell_type": "code",
   "execution_count": 36,
   "id": "b0d1df90-2203-4630-81e5-903dbaa211dc",
   "metadata": {},
   "outputs": [
    {
     "name": "stdout",
     "output_type": "stream",
     "text": [
      "array a: [ 4  8 12 16]\n",
      "array b: [2 2 4 4]\n",
      "array a + b: [ 6 10 16 20]\n",
      "a * b  : [ 8 16 48 64]\n",
      "a / b  : [2. 4. 3. 4.]\n"
     ]
    }
   ],
   "source": [
    "a = np.arange(4, 20, 4)\n",
    "b = np.array([2, 2, 4, 4])\n",
    "print('array a:', a)\n",
    "print('array b:', b)\n",
    "print('array a + b:', a + b)\n",
    "print('a * b  :', a * b)  # term by term multiplication\n",
    "print('a / b  :', a / b)  # term by term division"
   ]
  },
  {
   "cell_type": "markdown",
   "id": "20745678-ffcd-4b50-a4ac-ded63034f4e1",
   "metadata": {},
   "source": [
    "As such we need to program matrice operations:"
   ]
  },
  {
   "cell_type": "code",
   "execution_count": 39,
   "id": "61ed9056-3edd-48f4-b561-ab1016d2385e",
   "metadata": {},
   "outputs": [
    {
     "name": "stdout",
     "output_type": "stream",
     "text": [
      "[17, 15, 4]\n",
      "[10, 12, 9]\n",
      "[11, 13, 18]\n",
      "[12, 7, 3]\n",
      "[4, 5, 6]\n",
      "[7, 8, 9]\n",
      "[5, 8, 1]\n",
      "[6, 7, 3]\n",
      "[4, 5, 9]\n"
     ]
    }
   ],
   "source": [
    "# Program to add two matrices using nested loop\n",
    "\n",
    "X = [[12,7,3],\n",
    "    [4 ,5,6],\n",
    "    [7 ,8,9]]\n",
    "\n",
    "Y = [[5,8,1],\n",
    "    [6,7,3],\n",
    "    [4,5,9]]\n",
    "\n",
    "result = [[0,0,0],\n",
    "         [0,0,0],\n",
    "         [0,0,0]]\n",
    "\n",
    "# iterate through rows\n",
    "for r in range(len(X)):\n",
    "   # iterate through columns\n",
    "   for c in range(len(X[0])):\n",
    "        result[r][c] = X[r][c] + Y[r][c]\n",
    "\n",
    "for res in result: #this is needed to print like a matrix\n",
    "    print(res)\n",
    "    \n",
    "W = X + Y\n",
    "for w in W: #this is needed to print like a matrix\n",
    "    print(w)"
   ]
  },
  {
   "cell_type": "code",
   "execution_count": 69,
   "id": "904564bf-681c-42d7-8cde-5782609e4181",
   "metadata": {},
   "outputs": [
    {
     "name": "stdout",
     "output_type": "stream",
     "text": [
      "[114, 160, 60, 27]\n",
      "[74, 97, 73, 14]\n",
      "[119, 157, 112, 23]\n"
     ]
    }
   ],
   "source": [
    "# Program to multiply two matrices using nested loops\n",
    "\n",
    "# 3x3 matrix\n",
    "Xm = [[12,7,3],\n",
    "    [4 ,5,6],\n",
    "    [7 ,8,9]]\n",
    "# 3x4 matrix\n",
    "Ym = [[5,8,1,2],\n",
    "    [6,7,3,0],\n",
    "    [4,5,9,1]]\n",
    "# result is 3x4\n",
    "result = [[0,0,0,0],\n",
    "         [0,0,0,0],\n",
    "         [0,0,0,0]]\n",
    "\n",
    "# iterate through rows of X\n",
    "for i in range(len(Xm)):\n",
    "   # iterate through columns of Y\n",
    "   for j in range(len(Ym[0])):\n",
    "       # iterate through rows of Y\n",
    "       for k in range(len(Ym)):\n",
    "            result[i][j] += Xm[i][k] * Ym[k][j]\n",
    "\n",
    "for r in result:\n",
    "    print(r)"
   ]
  },
  {
   "cell_type": "code",
   "execution_count": 75,
   "id": "6cbbe24f-1edf-43aa-a644-abc226771385",
   "metadata": {},
   "outputs": [
    {
     "name": "stdout",
     "output_type": "stream",
     "text": [
      "[17 15  4]\n",
      "[10 12  9]\n",
      "[11 13 18]\n"
     ]
    }
   ],
   "source": [
    "# Program to add two matrices using nested loop\n",
    "\n",
    "X_a = np.array(X)\n",
    "\n",
    "Y_a = np.array(Y)\n",
    "\n",
    "result_a = np.array(result)\n",
    "\n",
    "# iterate through rows\n",
    "for r in range(len(X_a)):\n",
    "    result_a[r] = X_a[r] + Y_a[r] #difference\n",
    "    # OR iterate through columns like nested lists\n",
    "    #for c in range(len(X_a[0])):\n",
    "    #    result_a[r,c] = X_a[r,c] + Y_a[r,c] #difference\n",
    "\n",
    "for res in result_a: #this is needed to print like a matrix\n",
    "    print(res)"
   ]
  },
  {
   "cell_type": "markdown",
   "id": "1ab1eb49-25c3-414c-9e50-bd5067d9e247",
   "metadata": {
    "tags": []
   },
   "source": [
    "### Exercise 2, <a name=\"back2\"></a> Two-dimensional array indices\n",
    "For the array `x` shown below, write code to print: \n",
    "\n",
    "* the first row of `x`\n",
    "* the first column of `x`\n",
    "* the third row of `x`\n",
    "* the last two columns of `x`\n",
    "* the 2 by 2 block of values in the upper right-hand corner of `x`\n",
    "* the 2 by 2 block of values at the center of `x`\n",
    "\n",
    "x = np.array([[4, 2, 3, 2],\n",
    "               [2, 4, 3, 1],\n",
    "               [2, 4, 1, 3],\n",
    "               [4, 1, 2, 3]])\n"
   ]
  },
  {
   "cell_type": "code",
   "execution_count": null,
   "id": "295cbcb7-8e11-4b75-8b36-530836b54f92",
   "metadata": {},
   "outputs": [],
   "source": []
  },
  {
   "cell_type": "markdown",
   "id": "7df7fd69-aa51-43d9-9bc4-23eda4591a34",
   "metadata": {},
   "source": [
    "### Answers to the exercises"
   ]
  },
  {
   "cell_type": "markdown",
   "id": "24c8bb95-b9e2-410f-910a-9a5a14c23f45",
   "metadata": {},
   "source": [
    "<a name=\"ex1answer\">Answer to Exercise 1</a>"
   ]
  },
  {
   "cell_type": "code",
   "execution_count": null,
   "id": "b8e5cea3-4ec3-41ef-ad06-859c15b461b0",
   "metadata": {},
   "outputs": [
    {
     "name": "stdout",
     "output_type": "stream",
     "text": [
      "[0, 0, 0, 0, 0, 12, 14, 16, 18, 20, 22, 24, 26, 28, 30, 30, 30, 30, 30, 30]\n",
      "[0. 0. 0. 0. 0. 0. 0. 0. 0. 0. 0. 0. 0. 0. 0. 0. 0. 0. 0. 0.]\n",
      "[10. 10. 10. 10. 10.  0.  0.  0.  0.  0.  0.  0.  0.  0.  0.  0.  0.  0.\n",
      "  0.  0.]\n",
      "[10. 10. 10. 10. 10. 12. 14. 16. 18. 20. 22. 24. 26. 28. 30.  0.  0.  0.\n",
      "  0.  0.]\n",
      "[10. 10. 10. 10. 10. 12. 14. 16. 18. 20. 22. 24. 26. 28. 30. 30. 30. 30.\n",
      " 30. 30.]\n"
     ]
    },
    {
     "ename": "RuntimeError",
     "evalue": "No active exception to reraise",
     "output_type": "error",
     "traceback": [
      "\u001b[1;31m---------------------------------------------------------------------------\u001b[0m",
      "\u001b[1;31mRuntimeError\u001b[0m                              Traceback (most recent call last)",
      "\u001b[1;32mC:\\Users\\NMC_CO~1\\AppData\\Local\\Temp/ipykernel_24348/3908263547.py\u001b[0m in \u001b[0;36m<module>\u001b[1;34m\u001b[0m\n\u001b[0;32m     21\u001b[0m \u001b[1;32mimport\u001b[0m \u001b[0mmatplotlib\u001b[0m\u001b[1;33m.\u001b[0m\u001b[0mpyplot\u001b[0m \u001b[1;32mas\u001b[0m \u001b[0mplt\u001b[0m \u001b[1;31m#module to import and use for plotting\u001b[0m\u001b[1;33m\u001b[0m\u001b[1;33m\u001b[0m\u001b[0m\n\u001b[0;32m     22\u001b[0m \u001b[0mplt\u001b[0m\u001b[1;33m.\u001b[0m\u001b[0mplot\u001b[0m\u001b[1;33m(\u001b[0m\u001b[0ma\u001b[0m\u001b[1;33m,\u001b[0m\u001b[0ma\u001b[0m\u001b[1;33m,\u001b[0m \u001b[1;34m'k.'\u001b[0m\u001b[1;33m)\u001b[0m\u001b[1;33m\u001b[0m\u001b[1;33m\u001b[0m\u001b[0m\n\u001b[1;32m---> 23\u001b[1;33m \u001b[1;32mraise\u001b[0m\u001b[1;33m\u001b[0m\u001b[1;33m\u001b[0m\u001b[0m\n\u001b[0m\u001b[0;32m     24\u001b[0m \u001b[1;31m#4.\u001b[0m\u001b[1;33m\u001b[0m\u001b[1;33m\u001b[0m\u001b[0m\n\u001b[0;32m     25\u001b[0m \u001b[0mplt\u001b[0m\u001b[1;33m.\u001b[0m\u001b[0mplot\u001b[0m\u001b[1;33m(\u001b[0m\u001b[1;33m[\u001b[0m\u001b[1;36m4\u001b[0m\u001b[1;33m,\u001b[0m \u001b[1;36m4\u001b[0m\u001b[1;33m]\u001b[0m\u001b[1;33m,\u001b[0m \u001b[1;33m[\u001b[0m\u001b[1;36m8\u001b[0m\u001b[1;33m,\u001b[0m \u001b[1;36m32\u001b[0m\u001b[1;33m]\u001b[0m\u001b[1;33m,\u001b[0m\u001b[1;34m'k--'\u001b[0m\u001b[1;33m)\u001b[0m\u001b[1;33m\u001b[0m\u001b[1;33m\u001b[0m\u001b[0m\n",
      "\u001b[1;31mRuntimeError\u001b[0m: No active exception to reraise"
     ]
    },
    {
     "data": {
      "image/png": "[encoded data removed]",
      "text/plain": [
       "<Figure size 432x288 with 1 Axes>"
      ]
     },
     "metadata": {
      "needs_background": "light"
     },
     "output_type": "display_data"
    }
   ],
   "source": [
    "#1.\n",
    "l = [0] * 20\n",
    "#print(l)\n",
    "l[10-1:15-1] = [10] * 5\n",
    "#print(l)\n",
    "l[5:15] = range(12, 31, 2)\n",
    "#print(l)\n",
    "l[-5:] = [30] * 5\n",
    "print(l)\n",
    "#2.\n",
    "a = np.zeros(20)\n",
    "print(a)\n",
    "a[:5] = 10\n",
    "print(a)\n",
    "a[5:15] = np.arange(12, 31, 2)\n",
    "print(a)\n",
    "a[-5:] = 30 #or l[15:] = 30\n",
    "print(a)\n",
    "#3.plot\n",
    "%matplotlib inline\n",
    "import matplotlib.pyplot as plt #module to import and use for plotting\n",
    "plt.plot(a,a, 'k.')\n",
    "\n",
    "#4.\n",
    "plt.plot([4, 4], [8, 32],'k--')\n",
    "plt.plot([14, 14], [8, 32],'k--')\n",
    "#5.\n",
    "plt.ylim(8, 32)\n",
    "\n",
    "#6.\n",
    "b=2*a\n",
    "plt.plot(b)\n",
    "plt.plot([4, 4], [2*8, 2*32],'k--')\n",
    "plt.plot([14, 14], [2*8, 2*32],'k--')\n",
    "plt.ylim(2*8, 2*32)"
   ]
  },
  {
   "cell_type": "code",
   "execution_count": 23,
   "id": "ff5d4a3c-f0c9-4e94-a2a9-8f86ef91c4fe",
   "metadata": {
    "collapsed": true,
    "jupyter": {
     "outputs_hidden": true
    },
    "tags": []
   },
   "outputs": [
    {
     "name": "stdout",
     "output_type": "stream",
     "text": [
      "Help on function plot in module matplotlib.pyplot:\n",
      "\n",
      "plot(*args, scalex=True, scaley=True, data=None, **kwargs)\n",
      "    Plot y versus x as lines and/or markers.\n",
      "    \n",
      "    Call signatures::\n",
      "    \n",
      "        plot([x], y, [fmt], *, data=None, **kwargs)\n",
      "        plot([x], y, [fmt], [x2], y2, [fmt2], ..., **kwargs)\n",
      "    \n",
      "    The coordinates of the points or line nodes are given by *x*, *y*.\n",
      "    \n",
      "    The optional parameter *fmt* is a convenient way for defining basic\n",
      "    formatting like color, marker and linestyle. It's a shortcut string\n",
      "    notation described in the *Notes* section below.\n",
      "    \n",
      "    >>> plot(x, y)        # plot x and y using default line style and color\n",
      "    >>> plot(x, y, 'bo')  # plot x and y using blue circle markers\n",
      "    >>> plot(y)           # plot y using x as index array 0..N-1\n",
      "    >>> plot(y, 'r+')     # ditto, but with red plusses\n",
      "    \n",
      "    You can use `.Line2D` properties as keyword arguments for more\n",
      "    control on the appearance. Line properties and *fmt* can be mixed.\n",
      "    The following two calls yield identical results:\n",
      "    \n",
      "    >>> plot(x, y, 'go--', linewidth=2, markersize=12)\n",
      "    >>> plot(x, y, color='green', marker='o', linestyle='dashed',\n",
      "    ...      linewidth=2, markersize=12)\n",
      "    \n",
      "    When conflicting with *fmt*, keyword arguments take precedence.\n",
      "    \n",
      "    \n",
      "    **Plotting labelled data**\n",
      "    \n",
      "    There's a convenient way for plotting objects with labelled data (i.e.\n",
      "    data that can be accessed by index ``obj['y']``). Instead of giving\n",
      "    the data in *x* and *y*, you can provide the object in the *data*\n",
      "    parameter and just give the labels for *x* and *y*::\n",
      "    \n",
      "    >>> plot('xlabel', 'ylabel', data=obj)\n",
      "    \n",
      "    All indexable objects are supported. This could e.g. be a `dict`, a\n",
      "    `pandas.DataFrame` or a structured numpy array.\n",
      "    \n",
      "    \n",
      "    **Plotting multiple sets of data**\n",
      "    \n",
      "    There are various ways to plot multiple sets of data.\n",
      "    \n",
      "    - The most straight forward way is just to call `plot` multiple times.\n",
      "      Example:\n",
      "    \n",
      "      >>> plot(x1, y1, 'bo')\n",
      "      >>> plot(x2, y2, 'go')\n",
      "    \n",
      "    - If *x* and/or *y* are 2D arrays a separate data set will be drawn\n",
      "      for every column. If both *x* and *y* are 2D, they must have the\n",
      "      same shape. If only one of them is 2D with shape (N, m) the other\n",
      "      must have length N and will be used for every data set m.\n",
      "    \n",
      "      Example:\n",
      "    \n",
      "      >>> x = [1, 2, 3]\n",
      "      >>> y = np.array([[1, 2], [3, 4], [5, 6]])\n",
      "      >>> plot(x, y)\n",
      "    \n",
      "      is equivalent to:\n",
      "    \n",
      "      >>> for col in range(y.shape[1]):\n",
      "      ...     plot(x, y[:, col])\n",
      "    \n",
      "    - The third way is to specify multiple sets of *[x]*, *y*, *[fmt]*\n",
      "      groups::\n",
      "    \n",
      "      >>> plot(x1, y1, 'g^', x2, y2, 'g-')\n",
      "    \n",
      "      In this case, any additional keyword argument applies to all\n",
      "      datasets. Also this syntax cannot be combined with the *data*\n",
      "      parameter.\n",
      "    \n",
      "    By default, each line is assigned a different style specified by a\n",
      "    'style cycle'. The *fmt* and line property parameters are only\n",
      "    necessary if you want explicit deviations from these defaults.\n",
      "    Alternatively, you can also change the style cycle using\n",
      "    :rc:`axes.prop_cycle`.\n",
      "    \n",
      "    \n",
      "    Parameters\n",
      "    ----------\n",
      "    x, y : array-like or scalar\n",
      "        The horizontal / vertical coordinates of the data points.\n",
      "        *x* values are optional and default to ``range(len(y))``.\n",
      "    \n",
      "        Commonly, these parameters are 1D arrays.\n",
      "    \n",
      "        They can also be scalars, or two-dimensional (in that case, the\n",
      "        columns represent separate data sets).\n",
      "    \n",
      "        These arguments cannot be passed as keywords.\n",
      "    \n",
      "    fmt : str, optional\n",
      "        A format string, e.g. 'ro' for red circles. See the *Notes*\n",
      "        section for a full description of the format strings.\n",
      "    \n",
      "        Format strings are just an abbreviation for quickly setting\n",
      "        basic line properties. All of these and more can also be\n",
      "        controlled by keyword arguments.\n",
      "    \n",
      "        This argument cannot be passed as keyword.\n",
      "    \n",
      "    data : indexable object, optional\n",
      "        An object with labelled data. If given, provide the label names to\n",
      "        plot in *x* and *y*.\n",
      "    \n",
      "        .. note::\n",
      "            Technically there's a slight ambiguity in calls where the\n",
      "            second label is a valid *fmt*. ``plot('n', 'o', data=obj)``\n",
      "            could be ``plt(x, y)`` or ``plt(y, fmt)``. In such cases,\n",
      "            the former interpretation is chosen, but a warning is issued.\n",
      "            You may suppress the warning by adding an empty format string\n",
      "            ``plot('n', 'o', '', data=obj)``.\n",
      "    \n",
      "    Returns\n",
      "    -------\n",
      "    list of `.Line2D`\n",
      "        A list of lines representing the plotted data.\n",
      "    \n",
      "    Other Parameters\n",
      "    ----------------\n",
      "    scalex, scaley : bool, default: True\n",
      "        These parameters determine if the view limits are adapted to the\n",
      "        data limits. The values are passed on to `autoscale_view`.\n",
      "    \n",
      "    **kwargs : `.Line2D` properties, optional\n",
      "        *kwargs* are used to specify properties like a line label (for\n",
      "        auto legends), linewidth, antialiasing, marker face color.\n",
      "        Example::\n",
      "    \n",
      "        >>> plot([1, 2, 3], [1, 2, 3], 'go-', label='line 1', linewidth=2)\n",
      "        >>> plot([1, 2, 3], [1, 4, 9], 'rs', label='line 2')\n",
      "    \n",
      "        If you specify multiple lines with one plot call, the kwargs apply\n",
      "        to all those lines. In case the label object is iterable, each\n",
      "        element is used as labels for each set of data.\n",
      "    \n",
      "        Here is a list of available `.Line2D` properties:\n",
      "    \n",
      "        Properties:\n",
      "        agg_filter: a filter function, which takes a (m, n, 3) float array and a dpi value, and returns a (m, n, 3) array\n",
      "        alpha: scalar or None\n",
      "        animated: bool\n",
      "        antialiased or aa: bool\n",
      "        clip_box: `.Bbox`\n",
      "        clip_on: bool\n",
      "        clip_path: Patch or (Path, Transform) or None\n",
      "        color or c: color\n",
      "        contains: unknown\n",
      "        dash_capstyle: `.CapStyle` or {'butt', 'projecting', 'round'}\n",
      "        dash_joinstyle: `.JoinStyle` or {'miter', 'round', 'bevel'}\n",
      "        dashes: sequence of floats (on/off ink in points) or (None, None)\n",
      "        data: (2, N) array or two 1D arrays\n",
      "        drawstyle or ds: {'default', 'steps', 'steps-pre', 'steps-mid', 'steps-post'}, default: 'default'\n",
      "        figure: `.Figure`\n",
      "        fillstyle: {'full', 'left', 'right', 'bottom', 'top', 'none'}\n",
      "        gid: str\n",
      "        in_layout: bool\n",
      "        label: object\n",
      "        linestyle or ls: {'-', '--', '-.', ':', '', (offset, on-off-seq), ...}\n",
      "        linewidth or lw: float\n",
      "        marker: marker style string, `~.path.Path` or `~.markers.MarkerStyle`\n",
      "        markeredgecolor or mec: color\n",
      "        markeredgewidth or mew: float\n",
      "        markerfacecolor or mfc: color\n",
      "        markerfacecoloralt or mfcalt: color\n",
      "        markersize or ms: float\n",
      "        markevery: None or int or (int, int) or slice or list[int] or float or (float, float) or list[bool]\n",
      "        path_effects: `.AbstractPathEffect`\n",
      "        picker: float or callable[[Artist, Event], tuple[bool, dict]]\n",
      "        pickradius: float\n",
      "        rasterized: bool\n",
      "        sketch_params: (scale: float, length: float, randomness: float)\n",
      "        snap: bool or None\n",
      "        solid_capstyle: `.CapStyle` or {'butt', 'projecting', 'round'}\n",
      "        solid_joinstyle: `.JoinStyle` or {'miter', 'round', 'bevel'}\n",
      "        transform: `matplotlib.transforms.Transform`\n",
      "        url: str\n",
      "        visible: bool\n",
      "        xdata: 1D array\n",
      "        ydata: 1D array\n",
      "        zorder: float\n",
      "    \n",
      "    See Also\n",
      "    --------\n",
      "    scatter : XY scatter plot with markers of varying size and/or color (\n",
      "        sometimes also called bubble chart).\n",
      "    \n",
      "    Notes\n",
      "    -----\n",
      "    **Format Strings**\n",
      "    \n",
      "    A format string consists of a part for color, marker and line::\n",
      "    \n",
      "        fmt = '[marker][line][color]'\n",
      "    \n",
      "    Each of them is optional. If not provided, the value from the style\n",
      "    cycle is used. Exception: If ``line`` is given, but no ``marker``,\n",
      "    the data will be a line without markers.\n",
      "    \n",
      "    Other combinations such as ``[color][marker][line]`` are also\n",
      "    supported, but note that their parsing may be ambiguous.\n",
      "    \n",
      "    **Markers**\n",
      "    \n",
      "    =============   ===============================\n",
      "    character       description\n",
      "    =============   ===============================\n",
      "    ``'.'``         point marker\n",
      "    ``','``         pixel marker\n",
      "    ``'o'``         circle marker\n",
      "    ``'v'``         triangle_down marker\n",
      "    ``'^'``         triangle_up marker\n",
      "    ``'<'``         triangle_left marker\n",
      "    ``'>'``         triangle_right marker\n",
      "    ``'1'``         tri_down marker\n",
      "    ``'2'``         tri_up marker\n",
      "    ``'3'``         tri_left marker\n",
      "    ``'4'``         tri_right marker\n",
      "    ``'8'``         octagon marker\n",
      "    ``'s'``         square marker\n",
      "    ``'p'``         pentagon marker\n",
      "    ``'P'``         plus (filled) marker\n",
      "    ``'*'``         star marker\n",
      "    ``'h'``         hexagon1 marker\n",
      "    ``'H'``         hexagon2 marker\n",
      "    ``'+'``         plus marker\n",
      "    ``'x'``         x marker\n",
      "    ``'X'``         x (filled) marker\n",
      "    ``'D'``         diamond marker\n",
      "    ``'d'``         thin_diamond marker\n",
      "    ``'|'``         vline marker\n",
      "    ``'_'``         hline marker\n",
      "    =============   ===============================\n",
      "    \n",
      "    **Line Styles**\n",
      "    \n",
      "    =============    ===============================\n",
      "    character        description\n",
      "    =============    ===============================\n",
      "    ``'-'``          solid line style\n",
      "    ``'--'``         dashed line style\n",
      "    ``'-.'``         dash-dot line style\n",
      "    ``':'``          dotted line style\n",
      "    =============    ===============================\n",
      "    \n",
      "    Example format strings::\n",
      "    \n",
      "        'b'    # blue markers with default shape\n",
      "        'or'   # red circles\n",
      "        '-g'   # green solid line\n",
      "        '--'   # dashed line with default color\n",
      "        '^k:'  # black triangle_up markers connected by a dotted line\n",
      "    \n",
      "    **Colors**\n",
      "    \n",
      "    The supported color abbreviations are the single letter codes\n",
      "    \n",
      "    =============    ===============================\n",
      "    character        color\n",
      "    =============    ===============================\n",
      "    ``'b'``          blue\n",
      "    ``'g'``          green\n",
      "    ``'r'``          red\n",
      "    ``'c'``          cyan\n",
      "    ``'m'``          magenta\n",
      "    ``'y'``          yellow\n",
      "    ``'k'``          black\n",
      "    ``'w'``          white\n",
      "    =============    ===============================\n",
      "    \n",
      "    and the ``'CN'`` colors that index into the default property cycle.\n",
      "    \n",
      "    If the color is the only part of the format string, you can\n",
      "    additionally use any  `matplotlib.colors` spec, e.g. full names\n",
      "    (``'green'``) or hex strings (``'#008000'``).\n",
      "\n"
     ]
    }
   ],
   "source": [
    "help(plt.plot)"
   ]
  },
  {
   "cell_type": "markdown",
   "id": "1c9dcd73-68e7-4630-9072-8790741a97b1",
   "metadata": {
    "jupyter": {
     "source_hidden": true
    },
    "tags": []
   },
   "source": [
    "<a href=\"#back1\">Back to Exercise 1</a>\n",
    "\n",
    "<a name=\"ex2answer\">Answer to Exercise 2</a>"
   ]
  },
  {
   "cell_type": "code",
   "execution_count": 4,
   "id": "649ce612-db21-42c3-baa2-037015c0d8e4",
   "metadata": {},
   "outputs": [
    {
     "name": "stdout",
     "output_type": "stream",
     "text": [
      "the first row of x\n",
      "[4 2 3 2]\n",
      "the first column of x\n",
      "[4 2 2 4]\n",
      "the third row of x\n",
      "[2 4 1 3]\n",
      "the last two columns of x\n",
      "[[3 2]\n",
      " [3 1]\n",
      " [1 3]\n",
      " [2 3]]\n",
      "the four values in the upper right hand corner\n",
      "[[3 2]\n",
      " [3 1]]\n",
      "the four values at the center of x\n",
      "[[4 3]\n",
      " [4 1]]\n"
     ]
    }
   ],
   "source": [
    "import numpy as np\n",
    "x = np.array([[4, 2, 3, 2],\n",
    "              [2, 4, 3, 1],\n",
    "              [2, 4, 1, 3],\n",
    "              [4, 1, 2, 3]])\n",
    "print('the first row of x')\n",
    "print(x[0])\n",
    "print('the first column of x')\n",
    "print(x[:, 0])\n",
    "print('the third row of x')\n",
    "print(x[2])\n",
    "print('the last two columns of x')\n",
    "print(x[:, -2:])\n",
    "print('the four values in the upper right hand corner')\n",
    "print(x[:2, 2:])\n",
    "print('the four values at the center of x')\n",
    "print(x[1:3, 1:3])"
   ]
  },
  {
   "cell_type": "markdown",
   "id": "17d72f41-f8ad-480f-99ee-6c93952494ba",
   "metadata": {},
   "source": [
    "<a href=\"#back2\">Back to Exercise 2</a>\n",
    "\n",
    "<a name=\"ex3answer\">Answer to Exercise 3</a>"
   ]
  }
 ],
 "metadata": {
  "kernelspec": {
   "display_name": "Python 3 (ipykernel)",
   "language": "python",
   "name": "python3"
  },
  "language_info": {
   "codemirror_mode": {
    "name": "ipython",
    "version": 3
   },
   "file_extension": ".py",
   "mimetype": "text/x-python",
   "name": "python",
   "nbconvert_exporter": "python",
   "pygments_lexer": "ipython3",
   "version": "3.9.7"
  }
 },
 "nbformat": 4,
 "nbformat_minor": 5
}
