{
 "cells": [
  {
   "cell_type": "markdown",
   "id": "bef6fe71-761b-4ecb-8559-3cf9ad7bc771",
   "metadata": {
    "tags": []
   },
   "source": [
    "# Sequence Types - lists and tuples builtin types; Arrays and mathematical attributes\n",
    "*Developed by Nuno M.C. da Costa*\n",
    "\n",
    "info: https://docs.python.org/3/tutorial/controlflow.html"
   ]
  },
  {
   "cell_type": "markdown",
   "id": "71b0436d-2094-4bf5-9e9d-416878fa1879",
   "metadata": {
    "tags": []
   },
   "source": [
    "### Lists and Tuples\n",
    "Python has several data types that can store a sequence of values. The first one is called a `list` and is entered between square brackets. The second one is a tuple, and it is entered with parentheses. The difference is that you can change the values in a list after you create them, and you can not do that with a tuple. Also you *cannot* do math with either lists or tuples. When you do `2 * alist`, where `alist` is a list, you don't multiply all values in `alist` with the number 2. What happens is that you create a new list that contains `alist` twice (so it adds them back to back). The same holds for tuples. That can be very useful, but not when your intent is to multiply all values by 2. In the example below, the first value in a list is modified. Try to modify one of the values in `btuple` below and you will see that you get an error message:"
   ]
  },
  {
   "cell_type": "code",
   "execution_count": 4,
   "id": "db3e3b6c-b886-4108-9172-9a12e61eb463",
   "metadata": {},
   "outputs": [
    {
     "name": "stdout",
     "output_type": "stream",
     "text": [
      "alist [1, 2, 3]\n",
      "2 * alist [1, 2, 3, 1, 2, 3]\n",
      "btuple (10, 20, 30)\n",
      "2 * btuple (10, 20, 30, 10, 20, 30)\n"
     ]
    }
   ],
   "source": [
    "alist = [1, 2, 3]\n",
    "        print('alist', alist)\n",
    "        print('2 * alist', 2 * alist)\n",
    "btuple = (10, 20, 30)\n",
    "print('btuple', btuple)\n",
    "print('2 * btuple', 2 * btuple)"
   ]
  },
  {
   "cell_type": "code",
   "execution_count": 5,
   "id": "9052644c-7185-4497-8a65-4d87d10b0db3",
   "metadata": {},
   "outputs": [
    {
     "name": "stdout",
     "output_type": "stream",
     "text": [
      "modified alist [7, 2, 3]\n"
     ]
    }
   ],
   "source": [
    "#lists can be modified\n",
    "alist[0] = 7  # Since alist is a list, you can change values \n",
    "print('modified alist', alist)"
   ]
  },
  {
   "cell_type": "code",
   "execution_count": 8,
   "id": "b42ef345-da49-4998-99ee-4dbc6cc90433",
   "metadata": {},
   "outputs": [
    {
     "ename": "TypeError",
     "evalue": "'tuple' object does not support item assignment",
     "output_type": "error",
     "traceback": [
      "\u001b[1;31m---------------------------------------------------------------------------\u001b[0m",
      "\u001b[1;31mTypeError\u001b[0m                                 Traceback (most recent call last)",
      "\u001b[1;32mC:\\Users\\NMC_CO~1\\AppData\\Local\\Temp/ipykernel_6444/1187905125.py\u001b[0m in \u001b[0;36m<module>\u001b[1;34m\u001b[0m\n\u001b[0;32m      1\u001b[0m \u001b[1;31m#tuples can't be modified (stay allways the same - for debug they are better)\u001b[0m\u001b[1;33m\u001b[0m\u001b[1;33m\u001b[0m\u001b[0m\n\u001b[1;32m----> 2\u001b[1;33m \u001b[0mbtuple\u001b[0m\u001b[1;33m[\u001b[0m\u001b[1;36m0\u001b[0m\u001b[1;33m]\u001b[0m \u001b[1;33m=\u001b[0m \u001b[1;36m100\u001b[0m  \u001b[1;31m# Will give an error\u001b[0m\u001b[1;33m\u001b[0m\u001b[1;33m\u001b[0m\u001b[0m\n\u001b[0m",
      "\u001b[1;31mTypeError\u001b[0m: 'tuple' object does not support item assignment"
     ]
    }
   ],
   "source": [
    "#tuples can't be modified (stay allways the same - for debug they are better)\n",
    "btuple[0] = 100  # Will give an error"
   ]
  },
  {
   "cell_type": "markdown",
   "id": "6abd1f6c-d705-4db1-a03e-f9615aeb30be",
   "metadata": {},
   "source": [
    "### Arrays and mathematical attributes"
   ]
  },
  {
   "cell_type": "markdown",
   "id": "6822a3cc-4855-4f29-831f-4fa4305fcea4",
   "metadata": {},
   "source": [
    "We will do math on arrays using functions of the `numpy` package.  We will also make plots. We start by telling the Jupyter Notebooks to put all graphs inline. Then we import the `numpy` package and call it `np`, and we import the plotting part of the `matplotlib` package and call it `plt`. \n",
    "\n",
    "For an overview of `numpy` functionality can be found [here](https://docs.scipy.org/doc/numpy/user/quickstart.html).\n",
    "\n",
    "For an overview of `matplotlib.pyplot` functionality can be found [here](https://matplotlib.org/stable/tutorials/introductory/pyplot.html#sphx-glr-tutorials-introductory-pyplot-py)."
   ]
  },
  {
   "cell_type": "code",
   "execution_count": 2,
   "id": "4bf3ecd1-4c9d-405d-a56e-1041fdf7aacc",
   "metadata": {},
   "outputs": [],
   "source": [
    "%matplotlib inline\n",
    "import numpy as np\n",
    "import matplotlib.pyplot as plt"
   ]
  },
  {
   "cell_type": "markdown",
   "id": "6e1d5c04-d95e-4c9d-ab60-31091d06d908",
   "metadata": {},
   "source": [
    "### One-dimesional lists and arrays\n",
    "There are many ways to create arrays. For example, you can enter the individual elements of an array\n",
    "\n",
    "Note: the `array` function takes one sequence of points, a list, between square brackets."
   ]
  },
  {
   "cell_type": "code",
   "execution_count": 14,
   "id": "879e14b0-6db3-4c12-891b-dc7081c2c2c5",
   "metadata": {},
   "outputs": [
    {
     "name": "stdout",
     "output_type": "stream",
     "text": [
      "list1 [1, 7, 2, 12]\n",
      "2 * list1 [1, 7, 2, 12, 1, 7, 2, 12]\n",
      "array1 [ 1  7  2 12]\n",
      "2 * array1 [ 2 14  4 24]\n"
     ]
    }
   ],
   "source": [
    "list1=[1, 7, 2, 12]\n",
    "array1=np.array(list1)\n",
    "print('list1', list1)\n",
    "print('2 * list1', 2 * list1)\n",
    "print('array1', array1)\n",
    "print('2 * array1', 2 * array1)"
   ]
  },
  {
   "cell_type": "markdown",
   "id": "9ba473d9-fcc8-4181-a2c0-d3ed0d278ce6",
   "metadata": {},
   "source": [
    "Arrays have a dimension. So far we have only used one-dimensional arrays. \n",
    "Hence the dimension is 1. \n",
    "For one-dimensional arrays, you can also compute the length (which is part of Python and not `numpy`), which returns the number of values in the array"
   ]
  },
  {
   "cell_type": "code",
   "execution_count": 13,
   "id": "0f7be400-a7d6-4515-875e-a353a58e1717",
   "metadata": {},
   "outputs": [
    {
     "name": "stdout",
     "output_type": "stream",
     "text": [
      "number of dimensions of x: 1\n",
      "length of x: 4\n"
     ]
    }
   ],
   "source": [
    "x = np.array([1, 7, 2, 12])\n",
    "print('number of dimensions of x:', np.ndim(x))\n",
    "print('length of x:', len(x))"
   ]
  },
  {
   "cell_type": "markdown",
   "id": "60bd8c40-9441-4e4a-87f3-559c0aafb330",
   "metadata": {},
   "source": [
    "The individual elements of an list and a array can be accessed with their index. Indices start at 0. \n",
    "The first value in the array has index 0. The index of an array is specified using square brackets."
   ]
  },
  {
   "cell_type": "code",
   "execution_count": 16,
   "id": "67e57c2d-6278-45d7-aaeb-0d53799f36ca",
   "metadata": {},
   "outputs": [
    {
     "name": "stdout",
     "output_type": "stream",
     "text": [
      "list with index 0: 7\n",
      "array with index 0: 7\n"
     ]
    }
   ],
   "source": [
    "list1=[1, 7, 2, 12]\n",
    "array1=np.array(list1)\n",
    "print('list with index 0:', list1[1])\n",
    "print('array with index 0:', array1[1])"
   ]
  },
  {
   "cell_type": "markdown",
   "id": "8bdd96d8-258b-4a52-b688-5b0a53ee1c92",
   "metadata": {},
   "source": [
    "A range of indices may be specified using the colon syntax:\n",
    "`x[start:end_before]` or `x[start:end_before:step]`. If the `start` isn't specified, 0 will be used. If the step isn't specified, 1 will be used. "
   ]
  },
  {
   "cell_type": "code",
   "execution_count": 26,
   "id": "1060633f-1743-4c8d-a1cf-9de3d4f31aa4",
   "metadata": {},
   "outputs": [
    {
     "name": "stdout",
     "output_type": "stream",
     "text": [
      "[1, 7, 2, 12, 18]\n",
      "[1, 7, 2, 12, 18]\n",
      "[12, 18]\n",
      "[2, 18]\n"
     ]
    }
   ],
   "source": [
    "list1=[1, 7, 2, 12, 18]\n",
    "print(list1[0:5])\n",
    "print(list1[:5])  # same as previous one\n",
    "print(list1[3:5])\n",
    "print(list1[2:5:2])  # step is 2"
   ]
  },
  {
   "cell_type": "code",
   "execution_count": 20,
   "id": "d8f28d1e-4f59-4239-92c7-320ecf2a061a",
   "metadata": {},
   "outputs": [
    {
     "name": "stdout",
     "output_type": "stream",
     "text": [
      "[ 1  7  2 12 18]\n",
      "[ 1  7  2 12 18]\n",
      "[12 18]\n",
      "[ 2 18]\n"
     ]
    }
   ],
   "source": [
    "array1=np.array(list1)\n",
    "print(array1[0:5])\n",
    "print(array1[:5])  # same as previous one\n",
    "print(array1[3:5])\n",
    "print(array1[2:5:2])  # step is 2"
   ]
  },
  {
   "cell_type": "markdown",
   "id": "1ea91661-f7bb-420c-84be-b771944feaa0",
   "metadata": {},
   "source": [
    "You can also start at the end and count back. Generally, the index of the end is not known. You can find out how long the array is and access the last value by typing `x[len(x) - 1]` but it would be inconvenient to have to type `len(arrayname)` all the time. Luckily, there is a shortcut: `x[-1]` is the same as `x[len(x) - 1]` and represents the last value in the array. For example:"
   ]
  },
  {
   "cell_type": "code",
   "execution_count": 36,
   "id": "23c1fe4b-8145-40cc-9721-419acfd61fa0",
   "metadata": {},
   "outputs": [
    {
     "name": "stdout",
     "output_type": "stream",
     "text": [
      "[1, 7, 2, 12, 18]\n",
      "18\n",
      "18\n",
      "[18, 12, 2, 7, 1]\n"
     ]
    }
   ],
   "source": [
    "xvalues = [1, 7, 2, 12, 18]\n",
    "print(xvalues)\n",
    "print(xvalues[len(xvalues) - 1])  # last value in array\n",
    "print(xvalues[-1])  # much shorter\n",
    "print(xvalues[-1::-1])  # start at the end and go back with steps of -1"
   ]
  },
  {
   "cell_type": "markdown",
   "id": "9c17d492-8cfe-4da7-a840-f1c1d3bfd18b",
   "metadata": {},
   "source": [
    "However, lists replacements are diferent from arrays, as we can only replace one by one:"
   ]
  },
  {
   "cell_type": "code",
   "execution_count": 44,
   "id": "b050f90e-d64e-4548-9650-727c934d4bf5",
   "metadata": {},
   "outputs": [
    {
     "name": "stdout",
     "output_type": "stream",
     "text": [
      "[ 1  0  0 12  0]\n",
      "[1, 0, 0, 12, 0]\n",
      "[1, 0, 0, 12, 0]\n",
      "[1, 0, 0, 12, 0]\n"
     ]
    }
   ],
   "source": [
    "l=xvalues\n",
    "a=np.array(xvalues)\n",
    "#replace only one value\n",
    "l[4]=0\n",
    "a[4]=0\n",
    "\n",
    "\n",
    "#replace more than one value\n",
    "#l[1:3]=0 #gives error\n",
    "a[1:3]=0\n",
    "print(a)\n",
    "\n",
    "#so to do the same we need to add an list instead of a constant:\n",
    "l1=xvalues\n",
    "l1[1:3]=[0]*2\n",
    "print(l1)\n",
    "\n",
    "#Or use a loop:\n",
    "l2=xvalues\n",
    "for i in range(len(l2)):\n",
    "    if i>=1 and i<3:\n",
    "        l2[i]=0\n",
    "print(l2)\n",
    "\n",
    "#Or we can create slices of the list\n",
    "l3=xvalues\n",
    "l3 = l3[:1] + [0,0] + l3[3:]\n",
    "print(l3)"
   ]
  },
  {
   "cell_type": "code",
   "execution_count": 43,
   "id": "e5241e2f-108b-42bb-b1f9-002c3e9ae5e1",
   "metadata": {},
   "outputs": [
    {
     "data": {
      "text/plain": [
       "[0, 0, 0, 0, 0, 12, 14, 16, 18, 20, 22, 24, 26, 28, 30, 0, 0, 0, 0, 0]"
      ]
     },
     "execution_count": 43,
     "metadata": {},
     "output_type": "execute_result"
    }
   ],
   "source": [
    "l = [0] * 20\n",
    "l[5:15] = range(12, 31, 2)\n",
    "l"
   ]
  },
  {
   "cell_type": "markdown",
   "id": "98743e8c-8eb8-47c3-9a02-f122ab72de9b",
   "metadata": {},
   "source": [
    "Another important aspect is that you can easely convert between list and arrays easely:"
   ]
  },
  {
   "cell_type": "code",
   "execution_count": 39,
   "id": "5d0f99b6-f327-4b43-abbb-5426a71dcc7f",
   "metadata": {},
   "outputs": [
    {
     "name": "stdout",
     "output_type": "stream",
     "text": [
      "[1, 0, 0, 12, 18]\n",
      "[ 0  0  0 12 18]\n",
      "[0, 0, 0, 12, 18]\n"
     ]
    }
   ],
   "source": [
    "l=xvalues\n",
    "print(l)\n",
    "a=np.array(l)\n",
    "a[0:3]=0\n",
    "print(a)\n",
    "l=a.tolist() #function tolist()\n",
    "print(l)"
   ]
  },
  {
   "cell_type": "markdown",
   "id": "732ac79a-5173-4517-bf30-c4cf755277fc",
   "metadata": {
    "tags": []
   },
   "source": [
    "### Exercise 1, <a name=\"back1\"></a> list/arrays and indices\n",
    "1. Create an list of zeros with length 20. Change the first 5 values to 10. Change the next 10 values to a sequence starting at 12 and increasig with steps of 2 to 30 (do this with range()). Set the final 5 values to 30. \n",
    "\n",
    "2. Same thing but using numpy arrays. Change the list to array. Change the first 5 values to 10. Change the next 10 values to a sequence starting at 12 and increasig with steps of 2 to 30 (do this with np.arange() that is similar to range()). Set the final 5 values to 30. \n",
    "\n",
    "3. Convert to array and Plot the value of the array on the $y$-axis vs. the index of the array on the $x$-axis. \n",
    "\n",
    "4. Draw vertical dashed lines at $x=4$ and $x=14$ (i.e., the section between the dashed lines is where the line increases from 10 to 30). \n",
    "\n",
    "5. Set the minimum and maximum values of the $y$-axis to 8 and 32 using the `ylim` command.\n",
    "\n",
    "6. Now, we want to double the values on the array and plot."
   ]
  },
  {
   "cell_type": "code",
   "execution_count": null,
   "id": "dedaa341-85ad-4c82-963f-88503c5c0da6",
   "metadata": {},
   "outputs": [],
   "source": []
  },
  {
   "cell_type": "markdown",
   "id": "2f67de33-15fc-4fb8-96b8-55d9041eb0f5",
   "metadata": {},
   "source": [
    "<a href=\"#ex1answer\">Answer for Exercise 1</a>"
   ]
  },
  {
   "cell_type": "markdown",
   "id": "2911b829-369e-4b7d-a59c-1077bfaf982e",
   "metadata": {
    "tags": []
   },
   "source": [
    "### Multidimensional nested lists and arrays\n",
    "Python doesn't have a built-in type for matrices. However, we can treat a list of a list (nested list)as a matrice, same for arrays. "
   ]
  },
  {
   "cell_type": "code",
   "execution_count": 97,
   "id": "518b7d1e-6892-4a58-a80f-b021a6b5d408",
   "metadata": {},
   "outputs": [
    {
     "name": "stdout",
     "output_type": "stream",
     "text": [
      "[1, 0, 0]\n",
      "[0, 2, 0]\n",
      "[0, 0, 3]\n"
     ]
    }
   ],
   "source": [
    "A = [[1,0,0],\n",
    "     [0,2,0],\n",
    "     [0,0,3]]\n",
    "\n",
    "for a in A: #this is needed to print like a matrix with lists\n",
    "    print(a)"
   ]
  },
  {
   "cell_type": "markdown",
   "id": "80f89688-e0b2-435e-b1f5-a97ad1355066",
   "metadata": {},
   "source": [
    "Arrays and list may have arbitrary dimensions (as long as they fit in your computer's memory)."
   ]
  },
  {
   "cell_type": "markdown",
   "id": "3e0a6dcd-813a-46d9-9e6f-41ae8c9b4e3a",
   "metadata": {},
   "source": [
    "Arrays may be defined by specifying all the values in the array. The `array` function gets passed one list consisting of separate lists for each row of the array."
   ]
  },
  {
   "cell_type": "code",
   "execution_count": 98,
   "id": "34d7f805-2d26-4893-86ce-c93a45be912a",
   "metadata": {},
   "outputs": [
    {
     "name": "stdout",
     "output_type": "stream",
     "text": [
      "[[1 0 0]\n",
      " [0 2 0]\n",
      " [0 0 3]]\n"
     ]
    }
   ],
   "source": [
    "A_a = np.array(A)\n",
    "print(A_a)"
   ]
  },
  {
   "cell_type": "markdown",
   "id": "ae04e00c-3cfd-4072-a85f-4ae41921b03e",
   "metadata": {},
   "source": [
    "The index of a two-dimensional array is specified with two values, first the row index, then the column index."
   ]
  },
  {
   "cell_type": "code",
   "execution_count": 99,
   "id": "b5a04d6c-b27b-4d0a-89dc-f1de11f16083",
   "metadata": {},
   "outputs": [
    {
     "name": "stdout",
     "output_type": "stream",
     "text": [
      "[100, 0, 0]\n",
      "[200, 200, 200]\n",
      "[0, 400, 400]\n",
      "[[100   0   0]\n",
      " [200 200 200]\n",
      " [  0 400 400]]\n"
     ]
    }
   ],
   "source": [
    "#Differences\n",
    "#list\n",
    "A[0][0] = 100\n",
    "A[1][:] = [200] * len(A[1][:])\n",
    "A[2][-2:] = [400] * len(A[1][-2:])\n",
    "for a in A: #this is needed to print like a matrix with lists\n",
    "    print(a)\n",
    "#array\n",
    "A_a[0, 0] = 100\n",
    "A_a[1, :] = 200  # Row with index 1, columns starting with 4 to the end\n",
    "A_a[2, -2:] = 400  # Row with index 2, columns counting back from the end with steps of 1 and stop before reaching index 4\n",
    "print(A_a)"
   ]
  },
  {
   "cell_type": "markdown",
   "id": "5ee83c62-dadf-46bc-baa9-9fd6c17af404",
   "metadata": {
    "tags": []
   },
   "source": [
    "#### Arrays and lists are not matrices\n",
    "However an array and nested list are not matrices, the math-oriented reader may think that arrays are matrices, or that one-dimensional arrays are vectors. It is crucial to understand that *arrays are not vectors or matrices*. The multiplication and division of two arrays is term by term, like the sum and subtraction."
   ]
  },
  {
   "cell_type": "code",
   "execution_count": 74,
   "id": "b0d1df90-2203-4630-81e5-903dbaa211dc",
   "metadata": {},
   "outputs": [
    {
     "name": "stdout",
     "output_type": "stream",
     "text": [
      "array a: [ 4  8 12 16]\n",
      "array b: [2 2 4 4]\n",
      "array a + b: [ 6 10 16 20]\n",
      "a * b  : [ 8 16 48 64]\n",
      "a / b  : [2. 4. 3. 4.]\n"
     ]
    }
   ],
   "source": [
    "a = np.arange(4, 20, 4)\n",
    "b = np.array([2, 2, 4, 4])\n",
    "print('array a:', a)\n",
    "print('array b:', b)\n",
    "print('array a + b:', a+b)\n",
    "print('a * b  :', a * b)  # term by term multiplication\n",
    "print('a / b  :', a / b)  # term by term division"
   ]
  },
  {
   "cell_type": "markdown",
   "id": "20745678-ffcd-4b50-a4ac-ded63034f4e1",
   "metadata": {},
   "source": [
    "As such we need to program matrice operations:"
   ]
  },
  {
   "cell_type": "code",
   "execution_count": 72,
   "id": "61ed9056-3edd-48f4-b561-ab1016d2385e",
   "metadata": {},
   "outputs": [
    {
     "name": "stdout",
     "output_type": "stream",
     "text": [
      "[17, 15, 4]\n",
      "[10, 12, 9]\n",
      "[11, 13, 18]\n"
     ]
    }
   ],
   "source": [
    "# Program to add two matrices using nested loop\n",
    "\n",
    "X = [[12,7,3],\n",
    "    [4 ,5,6],\n",
    "    [7 ,8,9]]\n",
    "\n",
    "Y = [[5,8,1],\n",
    "    [6,7,3],\n",
    "    [4,5,9]]\n",
    "\n",
    "result = [[0,0,0],\n",
    "         [0,0,0],\n",
    "         [0,0,0]]\n",
    "\n",
    "# iterate through rows\n",
    "for r in range(len(X)):\n",
    "   # iterate through columns\n",
    "   for c in range(len(X[0])):\n",
    "        result[r][c] = X[r][c] + Y[r][c]\n",
    "\n",
    "for res in result: #this is needed to print like a matrix\n",
    "    print(res)"
   ]
  },
  {
   "cell_type": "code",
   "execution_count": 69,
   "id": "904564bf-681c-42d7-8cde-5782609e4181",
   "metadata": {},
   "outputs": [
    {
     "name": "stdout",
     "output_type": "stream",
     "text": [
      "[114, 160, 60, 27]\n",
      "[74, 97, 73, 14]\n",
      "[119, 157, 112, 23]\n"
     ]
    }
   ],
   "source": [
    "# Program to multiply two matrices using nested loops\n",
    "\n",
    "# 3x3 matrix\n",
    "Xm = [[12,7,3],\n",
    "    [4 ,5,6],\n",
    "    [7 ,8,9]]\n",
    "# 3x4 matrix\n",
    "Ym = [[5,8,1,2],\n",
    "    [6,7,3,0],\n",
    "    [4,5,9,1]]\n",
    "# result is 3x4\n",
    "result = [[0,0,0,0],\n",
    "         [0,0,0,0],\n",
    "         [0,0,0,0]]\n",
    "\n",
    "# iterate through rows of X\n",
    "for i in range(len(Xm)):\n",
    "   # iterate through columns of Y\n",
    "   for j in range(len(Ym[0])):\n",
    "       # iterate through rows of Y\n",
    "       for k in range(len(Ym)):\n",
    "            result[i][j] += Xm[i][k] * Ym[k][j]\n",
    "\n",
    "for r in result:\n",
    "    print(r)"
   ]
  },
  {
   "cell_type": "code",
   "execution_count": 75,
   "id": "6cbbe24f-1edf-43aa-a644-abc226771385",
   "metadata": {},
   "outputs": [
    {
     "name": "stdout",
     "output_type": "stream",
     "text": [
      "[17 15  4]\n",
      "[10 12  9]\n",
      "[11 13 18]\n"
     ]
    }
   ],
   "source": [
    "# Program to add two matrices using nested loop\n",
    "\n",
    "X_a = np.array(X)\n",
    "\n",
    "Y_a = np.array(Y)\n",
    "\n",
    "result_a = np.array(result)\n",
    "\n",
    "# iterate through rows\n",
    "for r in range(len(X_a)):\n",
    "    result_a[r] = X_a[r] + Y_a[r] #difference\n",
    "    # OR iterate through columns like nested lists\n",
    "    #for c in range(len(X_a[0])):\n",
    "    #    result_a[r,c] = X_a[r,c] + Y_a[r,c] #difference\n",
    "\n",
    "for res in result_a: #this is needed to print like a matrix\n",
    "    print(res)"
   ]
  },
  {
   "cell_type": "markdown",
   "id": "1ab1eb49-25c3-414c-9e50-bd5067d9e247",
   "metadata": {
    "tags": []
   },
   "source": [
    "### Exercise 2, <a name=\"back2\"></a> Two-dimensional array indices\n",
    "For the array `x` shown below, write code to print: \n",
    "\n",
    "* the first row of `x`\n",
    "* the first column of `x`\n",
    "* the third row of `x`\n",
    "* the last two columns of `x`\n",
    "* the 2 by 2 block of values in the upper right-hand corner of `x`\n",
    "* the 2 by 2 block of values at the center of `x`\n",
    "\n",
    "`x = np.array([[4, 2, 3, 2],\n",
    "               [2, 4, 3, 1],\n",
    "               [2, 4, 1, 3],\n",
    "               [4, 1, 2, 3]])`\n"
   ]
  },
  {
   "cell_type": "code",
   "execution_count": null,
   "id": "295cbcb7-8e11-4b75-8b36-530836b54f92",
   "metadata": {},
   "outputs": [],
   "source": []
  },
  {
   "cell_type": "markdown",
   "id": "7df7fd69-aa51-43d9-9bc4-23eda4591a34",
   "metadata": {},
   "source": [
    "### Answers to the exercises"
   ]
  },
  {
   "cell_type": "markdown",
   "id": "24c8bb95-b9e2-410f-910a-9a5a14c23f45",
   "metadata": {},
   "source": [
    "<a name=\"ex1answer\">Answer to Exercise 1</a>"
   ]
  },
  {
   "cell_type": "code",
   "execution_count": 49,
   "id": "84f55e52-bceb-44a2-bbac-317f3821c12d",
   "metadata": {},
   "outputs": [
    {
     "name": "stdout",
     "output_type": "stream",
     "text": [
      "[10, 10, 10, 10, 0, 12, 14, 16, 18, 20, 22, 24, 26, 28, 30, 30, 30, 30, 30]\n",
      "[10. 10. 10. 10. 10. 12. 14. 16. 18. 20. 22. 24. 26. 28. 30. 30. 30. 30.\n",
      " 30. 30.]\n"
     ]
    },
    {
     "data": {
      "text/plain": [
       "(8.0, 32.0)"
      ]
     },
     "execution_count": 49,
     "metadata": {},
     "output_type": "execute_result"
    },
    {
     "data": {
      "image/png": "[encoded data removed]",
      "text/plain": [
       "<Figure size 432x288 with 1 Axes>"
      ]
     },
     "metadata": {
      "needs_background": "light"
     },
     "output_type": "display_data"
    }
   ],
   "source": [
    "#1.\n",
    "l = [0] * 20\n",
    "l[:5] = [10] * 4\n",
    "l[5:15] = range(12, 31, 2)\n",
    "l[-5:] = [30] * 5\n",
    "print(l)\n",
    "#2.\n",
    "a = np.zeros(20)\n",
    "a[:5] = 10\n",
    "a[5:15] = np.arange(12, 31, 2)\n",
    "a[-5:] = 30 #or l[15:] = 30\n",
    "print(a)\n",
    "#3.plot\n",
    "%matplotlib inline\n",
    "import matplotlib.pyplot as plt #module to import and use for plotting\n",
    "plt.plot(a)\n",
    "#4.\n",
    "plt.plot([4, 4], [8, 32],'k--')\n",
    "plt.plot([14, 14], [8, 32],'k--')\n",
    "#5.\n",
    "plt.ylim(8, 32)"
   ]
  },
  {
   "cell_type": "code",
   "execution_count": 50,
   "id": "2aa4a38c-536f-435b-8f82-5035458fbe76",
   "metadata": {},
   "outputs": [
    {
     "data": {
      "text/plain": [
       "(16.0, 64.0)"
      ]
     },
     "execution_count": 50,
     "metadata": {},
     "output_type": "execute_result"
    },
    {
     "data": {
      "image/png": "[encoded data removed]",
      "text/plain": [
       "<Figure size 432x288 with 1 Axes>"
      ]
     },
     "metadata": {
      "needs_background": "light"
     },
     "output_type": "display_data"
    }
   ],
   "source": [
    "#6.\n",
    "b=2*a\n",
    "plt.plot(b)\n",
    "plt.plot([4, 4], [2*8, 2*32],'k--')\n",
    "plt.plot([14, 14], [2*8, 2*32],'k--')\n",
    "plt.ylim(2*8, 2*32)"
   ]
  },
  {
   "cell_type": "markdown",
   "id": "1c9dcd73-68e7-4630-9072-8790741a97b1",
   "metadata": {
    "tags": []
   },
   "source": [
    "<a href=\"#back1\">Back to Exercise 1</a>\n",
    "\n",
    "<a name=\"ex2answer\">Answer to Exercise 2</a>"
   ]
  },
  {
   "cell_type": "code",
   "execution_count": 4,
   "id": "649ce612-db21-42c3-baa2-037015c0d8e4",
   "metadata": {},
   "outputs": [
    {
     "name": "stdout",
     "output_type": "stream",
     "text": [
      "the first row of x\n",
      "[4 2 3 2]\n",
      "the first column of x\n",
      "[4 2 2 4]\n",
      "the third row of x\n",
      "[2 4 1 3]\n",
      "the last two columns of x\n",
      "[[3 2]\n",
      " [3 1]\n",
      " [1 3]\n",
      " [2 3]]\n",
      "the four values in the upper right hand corner\n",
      "[[3 2]\n",
      " [3 1]]\n",
      "the four values at the center of x\n",
      "[[4 3]\n",
      " [4 1]]\n"
     ]
    }
   ],
   "source": [
    "import numpy as np\n",
    "x = np.array([[4, 2, 3, 2],\n",
    "              [2, 4, 3, 1],\n",
    "              [2, 4, 1, 3],\n",
    "              [4, 1, 2, 3]])\n",
    "print('the first row of x')\n",
    "print(x[0])\n",
    "print('the first column of x')\n",
    "print(x[:, 0])\n",
    "print('the third row of x')\n",
    "print(x[2])\n",
    "print('the last two columns of x')\n",
    "print(x[:, -2:])\n",
    "print('the four values in the upper right hand corner')\n",
    "print(x[:2, 2:])\n",
    "print('the four values at the center of x')\n",
    "print(x[1:3, 1:3])"
   ]
  },
  {
   "cell_type": "markdown",
   "id": "17d72f41-f8ad-480f-99ee-6c93952494ba",
   "metadata": {},
   "source": [
    "<a href=\"#back2\">Back to Exercise 2</a>\n",
    "\n",
    "<a name=\"ex3answer\">Answer to Exercise 3</a>"
   ]
  }
 ],
 "metadata": {
  "kernelspec": {
   "display_name": "Python 3 (ipykernel)",
   "language": "python",
   "name": "python3"
  },
  "language_info": {
   "codemirror_mode": {
    "name": "ipython",
    "version": 3
   },
   "file_extension": ".py",
   "mimetype": "text/x-python",
   "name": "python",
   "nbconvert_exporter": "python",
   "pygments_lexer": "ipython3",
   "version": "3.9.7"
  }
 },
 "nbformat": 4,
 "nbformat_minor": 5
}
