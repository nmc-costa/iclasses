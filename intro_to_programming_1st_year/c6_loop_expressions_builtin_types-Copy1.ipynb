{
 "cells": [
  {
   "cell_type": "markdown",
   "id": "bef6fe71-761b-4ecb-8559-3cf9ad7bc771",
   "metadata": {
    "tags": []
   },
   "source": [
    "# Loop expressions - for, while built-in types\n",
    "*Developed by Nuno M.C. da Costa*\n",
    "\n",
    "info: \n",
    "- https://docs.python.org/3/tutorial/controlflow.html\n",
    "- http://mbakker7.github.io/exploratory_computing_with_python/"
   ]
  },
  {
   "cell_type": "markdown",
   "id": "5f0196b4-6558-43b1-a71b-3d8cc995234a",
   "metadata": {},
   "source": [
    "### The `for` loop\n",
    "Loops are used to execute a command repeatedly. The syntax for a loop is as follows"
   ]
  },
  {
   "cell_type": "code",
   "execution_count": 33,
   "id": "8b2e8263-a4f4-4b07-9ab7-ffc809c426ba",
   "metadata": {},
   "outputs": [
    {
     "name": "stdout",
     "output_type": "stream",
     "text": [
      "The value of i is 0\n",
      "The value of i is 1\n",
      "The value of i is 2\n",
      "The value of i is 3\n"
     ]
    }
   ],
   "source": [
    "for i in [0, 1, 2, 3]:\n",
    "    print('The value of i is', i)"
   ]
  },
  {
   "cell_type": "markdown",
   "id": "e0a0f3f9-2263-4b6b-9705-09b13ef8a0a4",
   "metadata": {},
   "source": [
    "In the code above, the variable `i` loops through the five values in the list `[0, 1, 2, 3]`. The first time through, the value of `i` is equal to `0`, the second time through, its value is `1`, and so on till the last time when its value is `3`. Note the syntax of a `for` loop: At the end of the `for` statement you need to put a colon (`:`) and after that you need to indent. It doesn't matter how many spaces you indent, as long as you keep using the same number of spaces for the entire `for` loop. Jupyter Notebooks automatically indent 4 spaces, which is considered good Python style, so use that. You can have as many lines of code inside the `for` loop as you want. To end the `for` loop, simply stop indenting. "
   ]
  },
  {
   "cell_type": "code",
   "execution_count": 2,
   "id": "18cb370a-c519-4a8f-9d60-c0a150ccad60",
   "metadata": {},
   "outputs": [
    {
     "name": "stdout",
     "output_type": "stream",
     "text": [
      "x, xsquare 0 0\n",
      "x, xsquare 1 1\n",
      "x, xsquare 2 4\n",
      "x, xsquare 3 9\n",
      "We are done with the loop\n"
     ]
    }
   ],
   "source": [
    "for x in [0, 1, 2, 3]: \n",
    "    xsquared = x ** 2\n",
    "    print('x, xsquare', x, xsquared)\n",
    "print('We are done with the loop')"
   ]
  },
  {
   "cell_type": "markdown",
   "id": "216f6f72-466b-4f77-abc0-f3437bafd440",
   "metadata": {},
   "source": [
    "The list of values to loop through can be anything. It doesn't even have to be numbers. The `for` loop simply goes through all the values in the list one by one:"
   ]
  },
  {
   "cell_type": "code",
   "execution_count": 3,
   "id": "52c2e1e5-eaf6-4bac-98e3-6e9d017032ae",
   "metadata": {},
   "outputs": [
    {
     "name": "stdout",
     "output_type": "stream",
     "text": [
      "the value of data is: 20\n",
      "the value of data is: mark\n",
      "the value of data is: 100\n"
     ]
    }
   ],
   "source": [
    "for data in [20, 'mark', 60+40]:\n",
    "    print('the value of data is:', data)"
   ]
  },
  {
   "cell_type": "markdown",
   "id": "9ac6da17-9bc0-4ddb-a0dd-abb42dc0e304",
   "metadata": {},
   "source": [
    "It is, of course, rather inconvenient to have to specify a list to loop through when the list is very long. For example, if you want to do something 100 times, you don't want to type a list of values from 0 up to 100. But Python has a convenient function for that called `range`. You can loop through a `range` just like you can loop through a list. To loop 10 times, starting with the value `0`:"
   ]
  },
  {
   "cell_type": "code",
   "execution_count": 4,
   "id": "0acded23-c85a-4186-be0d-3f4b4e753f77",
   "metadata": {},
   "outputs": [
    {
     "name": "stdout",
     "output_type": "stream",
     "text": [
      "the value of i is: 0\n",
      "the value of i is: 1\n",
      "the value of i is: 2\n",
      "the value of i is: 3\n",
      "the value of i is: 4\n",
      "the value of i is: 5\n",
      "the value of i is: 6\n",
      "the value of i is: 7\n",
      "the value of i is: 8\n",
      "the value of i is: 9\n"
     ]
    }
   ],
   "source": [
    "for i in range(10):\n",
    "    print('the value of i is:', i)"
   ]
  },
  {
   "cell_type": "markdown",
   "id": "156f5adf-457a-432f-bed2-00c97755940e",
   "metadata": {},
   "source": [
    "A `range` can be converted to a list with the `list` function (but we will not use that option very often). You can call `range` with just one argument, in which case it will generate a range from 0 up to but not including the specified number. Note that `range(10)` produces 10 numbers from 0 up to and including 9. You can optionally give a starting value and a step, similar to the `np.arange` function."
   ]
  },
  {
   "cell_type": "code",
   "execution_count": 5,
   "id": "9166ca31-8744-4eef-be5e-e2194974d3dd",
   "metadata": {},
   "outputs": [
    {
     "name": "stdout",
     "output_type": "stream",
     "text": [
      "a range with 10 values: [0, 1, 2, 3, 4, 5, 6, 7, 8, 9]\n",
      "a range from 10 till 20 [10, 11, 12, 13, 14, 15, 16, 17, 18, 19]\n",
      "a range from 10 till 20 with steps of 2: [10, 12, 14, 16, 18]\n"
     ]
    }
   ],
   "source": [
    "print('a range with 10 values:', list(range(10)))\n",
    "print('a range from 10 till 20', list(range(10, 20)))\n",
    "print('a range from 10 till 20 with steps of 2:', list(range(10, 20, 2)))"
   ]
  },
  {
   "cell_type": "markdown",
   "id": "1d3c4892-3994-4bc7-aa43-bd3a559652a0",
   "metadata": {},
   "source": [
    "A loop can be used to fill an array. "
   ]
  },
  {
   "cell_type": "markdown",
   "id": "29154476-aadc-4323-8371-2742bf6b595b",
   "metadata": {},
   "source": [
    "Let's compute $y=\\cos(x)$ where $x$ is an array that varies from 0 to $2\\pi$ with 100 points. We already know, of course, that this can be done with the statement `y = np.cos(x)`. Sometimes this is not possible, however, and we need to fill an array with a loop. First we have to create the array `y` (for example filled with zeros using the `zeros_like` function) and then fill it with the correct values by looping through all values of `x`, so that the index goes from `0` to the length of the `x` array. The counter in the loop (the variable `i` in the code below) is used as the index of the array that is filled."
   ]
  },
  {
   "cell_type": "code",
   "execution_count": 31,
   "id": "357a32bb-48c4-43f8-9d8e-b2771faf2283",
   "metadata": {},
   "outputs": [
    {
     "data": {
      "image/png": "[encoded data removed]",
      "text/plain": [
       "<Figure size 432x288 with 1 Axes>"
      ]
     },
     "metadata": {
      "needs_background": "light"
     },
     "output_type": "display_data"
    }
   ],
   "source": [
    "%matplotlib inline\n",
    "import numpy as np #package for\n",
    "import matplotlib.pyplot as plt\n",
    "x = np.linspace(0, 2 * np.pi, 100) #Return evenly spaced numbers over a specified interval\n",
    "y = np.zeros_like(x)  # similar to zeros(shape(x))\n",
    "for i in range(len(x)):\n",
    "    y[i] = np.cos(x[i])\n",
    "plt.plot(x, y);"
   ]
  },
  {
   "cell_type": "markdown",
   "id": "d1fe5371-74c7-4202-8955-f8b963ef2171",
   "metadata": {},
   "source": [
    "Loops are very useful constructs in a programming script. Whenever you need to do a computation multiple times you should automatically think: *loop!*. "
   ]
  },
  {
   "cell_type": "markdown",
   "id": "2c4d1406-7224-491e-8a1f-8ce7a31ca671",
   "metadata": {
    "tags": []
   },
   "source": [
    "### Looping and summation\n",
    "One application of a loop is to compute the sum of all the values in list (or numpy array). Consider, for example, the array `data` with 8 values. We will compute the sum of all values in `data`. We first define a variable `datasum` and assign it the initial value 0. Next, we loop through all the values in `data` and add each value to `datasum`:"
   ]
  },
  {
   "cell_type": "code",
   "execution_count": 7,
   "id": "c436fd54-0925-403c-8624-93c208eda616",
   "metadata": {},
   "outputs": [
    {
     "name": "stdout",
     "output_type": "stream",
     "text": [
      "i, datasum:  0 1\n",
      "i, datasum:  1 4\n",
      "i, datasum:  2 6\n",
      "i, datasum:  3 11\n",
      "i, datasum:  4 18\n",
      "i, datasum:  5 21\n",
      "i, datasum:  6 25\n",
      "i, datasum:  7 27\n",
      "total sum of data:  27\n"
     ]
    }
   ],
   "source": [
    "data = [1, 3, 2, 5, 7, 3, 4, 2] #using the list; but you can also use np.array(list)\n",
    "datasum = 0\n",
    "for i in range(len(data)):\n",
    "    datasum = datasum + data[i]\n",
    "    print('i, datasum: ', i, datasum)\n",
    "print('total sum of data: ', datasum)"
   ]
  },
  {
   "cell_type": "markdown",
   "id": "993bf2cc-f304-42a7-93f8-10cbab44c02a",
   "metadata": {},
   "source": [
    "Note that the statement \n",
    "\n",
    "`datasum = datasum + data[i]` \n",
    "\n",
    "means that `data[i]` is added to the current value of `datasum` and that the result is assigned to `datasum`. There is actually a shorter syntax for the same statement: \n",
    "\n",
    "`datasum += data[i]`\n",
    "\n",
    "The `+=` command means: add whatever is on the right side of the `+=` sign to whatever is on the left side. You can use whichever syntax you are most comfortable with (although `+=` is considered to be better and in some cases more efficient)."
   ]
  },
  {
   "cell_type": "markdown",
   "id": "a4c590b5-174c-4787-845f-5929ca0fa8c6",
   "metadata": {
    "tags": []
   },
   "source": [
    "### Nested loops\n",
    "It is also possible to have loops inside loops. These are called nested loops. \n",
    "\n",
    "For example, consider the lists shown below. We want to compute the sum of the values in each list and we are going to do this using a double loop. "
   ]
  },
  {
   "cell_type": "code",
   "execution_count": 27,
   "id": "2de04d01-17d0-4c68-9593-cb2d1b83a020",
   "metadata": {},
   "outputs": [
    {
     "name": "stdout",
     "output_type": "stream",
     "text": [
      "[5, 9, 7, 5, 6, 10, 8, 6, 7, 11, 9, 7, 9, 13, 11, 9]\n"
     ]
    }
   ],
   "source": [
    "#EXAMPLE 1: without declaring the list size (easy - but not efficient)\n",
    "list1 = [1, 2, 3, 5]\n",
    "list2 = [4, 8, 6, 4]\n",
    "totalsum = []\n",
    "for l1 in list1: #using the value\n",
    "    for l2 in list2:\n",
    "        totalsum.append(l1+l2) #without declaring we need to use the builtin append function from lists.\n",
    "print(totalsum)"
   ]
  },
  {
   "cell_type": "code",
   "execution_count": 28,
   "id": "21cd1c79-d5b0-4298-ac35-3b72cc53e6aa",
   "metadata": {},
   "outputs": [
    {
     "name": "stdout",
     "output_type": "stream",
     "text": [
      "[5, 9, 7, 5, 6, 10, 8, 6, 7, 11, 9, 7, 9, 13, 11, 9]\n"
     ]
    }
   ],
   "source": [
    "#EXAMPLE 1: declaring the list size (complex - but efficient)\n",
    "list1 = [1, 2, 3, 5]\n",
    "list2 = [4, 8, 6, 4]\n",
    "totalsum = [0] * len(list1) * len(list2) # declaring the list size\n",
    "for i1 in range(len(list1)): #using the index\n",
    "    for i2 in range(len(list2)):\n",
    "        totalsum[i1*len(list2)+i2]=list1[i1]+list2[i2]\n",
    "print(totalsum)"
   ]
  },
  {
   "cell_type": "markdown",
   "id": "039698cc-3a7c-4b6f-ab34-a77ebc53d784",
   "metadata": {},
   "source": [
    "After running the code above, first make sure that the answer is correct. Next, note that it is important to set the values of `rowtotal` to 0 before starting the loops, as we add to these values to compute the sum of each row. In the code, we use two loops, so we indented twice. \n",
    "\n",
    "`numpy` has a `sum` function that can compute the sum of an entire array, or the sum along one of the axes (for example along the rows or columns) by specifying the `axis` keyword. "
   ]
  },
  {
   "cell_type": "code",
   "execution_count": null,
   "id": "40a95a92-565e-4ef3-a639-ece209381a86",
   "metadata": {},
   "outputs": [],
   "source": [
    "print('sum of entire array:', np.sum(data))\n",
    "print('sum rows (axis=0):', np.sum(data, axis=0))\n",
    "print('sum columns (axis=1):', np.sum(data, axis=1))"
   ]
  },
  {
   "cell_type": "markdown",
   "id": "0f4a3a6c-3de2-4395-9d5a-36185f2afd8b",
   "metadata": {},
   "source": [
    "###  The `while` loop\n",
    "A common task is to find the position of a value in a sorted table (e.g., a list or array). \n",
    "For example, determine between which two numbers the number 6 falls in the ordered sequence `[1, 4, 5, 8, 9]`. \n",
    "I know, it is between `5` and `8`, but what if the list is long? \n",
    "To find the position in the list, we need to loop through the list and break out of the loop once we have found the position. For this, Python has the command `break`. Also, we can use the command `continue` to go to the next loop without going to the end of the loop."
   ]
  },
  {
   "cell_type": "code",
   "execution_count": 32,
   "id": "f209c522-1aea-45c0-a61a-0778ce4da930",
   "metadata": {},
   "outputs": [
    {
     "name": "stdout",
     "output_type": "stream",
     "text": [
      "a is between 5 and 8\n"
     ]
    }
   ],
   "source": [
    "x = [1, 4, 5, 8, 9]\n",
    "a = 6\n",
    "for i in range(len(x)):\n",
    "    if a >= x[i]:\n",
    "        continue\n",
    "    if a < x[i]:\n",
    "        break\n",
    "print('a is between', x[i-1], 'and', x[i])"
   ]
  },
  {
   "cell_type": "code",
   "execution_count": null,
   "id": "5212101e-4674-4d91-8a94-b7102c311c1b",
   "metadata": {},
   "outputs": [],
   "source": [
    "x = [1, 4, 5, 8, 9]\n",
    "a = 6\n",
    "for i in range(len(x)):\n",
    "    if a < x[i]:\n",
    "        break\n",
    "print('a is between', x[i-1], 'and', x[i])"
   ]
  },
  {
   "cell_type": "markdown",
   "id": "78f6b711-b992-4b6f-823c-be61c081cd77",
   "metadata": {},
   "source": [
    "There is another way to code this using a `while` loop as shown below"
   ]
  },
  {
   "cell_type": "code",
   "execution_count": null,
   "id": "a9929af8-5088-4641-aeb6-b5ee3f0dd44a",
   "metadata": {},
   "outputs": [],
   "source": [
    "x = [1, 4, 5, 8, 9]\n",
    "a = 6\n",
    "i = 0\n",
    "while a >= x[i]:\n",
    "    i = i + 1\n",
    "print('a is between', x[i-1], 'and', x[i])"
   ]
  },
  {
   "cell_type": "markdown",
   "id": "11cb1424-5fb0-42b8-ba9a-c277430ee5f0",
   "metadata": {},
   "source": [
    "In the `while` loop, the comparison is done at the beginning of the loop, while the counter (in this case `i`) is updated inside the loop. Either a loop with a `break` or a `while` loop with a counter works fine, but `while` loops may be tricky in some cases, as they can result in infinite loops when you have an error in your code. Once you are in an infinite loop (one that never stops), click on the [Kernel] menu item at the top of the window and select [Interrupt Kernel] or [Restart Kernel]. This will end your Python session and start a new one. When you print something to the screen in your `while` loop, it may not be possible to break out of the loop and you may need to end your Jupyter session (and potentially lose some of your work). Because of these problems with errors in `while` loops, it is recommended to use a loop with a break rather than a while loop when possible. "
   ]
  },
  {
   "cell_type": "markdown",
   "id": "68beedfe-3f3c-4bee-91d2-35c905809cb7",
   "metadata": {
    "tags": []
   },
   "source": [
    "### Exercise 1.  <a name=\"back1\"></a>First `for` loop\n",
    "Create a list with the names of the months. Create a second list with the number of days in each month (for a regular year). Create a `for` loop that prints:\n",
    "\n",
    "`The number of days in MONTH is XX days`\n",
    "\n",
    "where, of course, you print the correct name of the month for `MONTH` and the correct number of days for `XX`. Use f-strings."
   ]
  },
  {
   "cell_type": "code",
   "execution_count": null,
   "id": "fa34813f-6166-4349-8d16-7bfaa7865f19",
   "metadata": {},
   "outputs": [],
   "source": []
  },
  {
   "cell_type": "markdown",
   "id": "bebb2fc2-0873-413e-b291-609b87d934b0",
   "metadata": {},
   "source": [
    "<a href=\"#ex1answer\">Answer for Exercise 1</a>"
   ]
  },
  {
   "cell_type": "markdown",
   "id": "0f54c628-cf07-4965-99b3-cd59658437b9",
   "metadata": {},
   "source": [
    "### Exercise 2. <a name=\"back2\"></a>Combination of `for` loop with `if` statement\n",
    "Consider the function\n",
    "\n",
    "$\\begin{split}\n",
    "y &= \\cos(x) \\qquad \\text{for} \\qquad x < 0 \\\\\n",
    "y &= \\exp(-x) \\qquad \\text{for} \\qquad x \\ge 0 \\\\\n",
    "\\end{split}$\n",
    "\n",
    "Compute $y$ for $x$ going from $-2\\pi$ to $2\\pi$ with 100 points and make a graph. Make sure the limits of the $x$-axis are from $-2\\pi$ to $2\\pi$."
   ]
  },
  {
   "cell_type": "code",
   "execution_count": null,
   "id": "387429d0-5fc2-4a26-9b24-708abc878763",
   "metadata": {},
   "outputs": [],
   "source": []
  },
  {
   "cell_type": "markdown",
   "id": "f694362e-087c-46fd-801f-0521dbbc0694",
   "metadata": {},
   "source": [
    "<a href=\"#ex2answer\">Answer for Exercise 2</a>"
   ]
  },
  {
   "cell_type": "markdown",
   "id": "024f550d-868b-4c76-8d0a-3e64bcc85dd3",
   "metadata": {
    "tags": []
   },
   "source": [
    "### Exercise 3.  <a name=\"back3\"></a>Running total\n",
    "For the data of the previous example, compute the running total and store it in an list(or array) using a loop. Hence, the result should be a list with the same length as `data` where item `i` is the sum of all values in the array `data` up to and including `data[i]`. Print both the array `data` and the array with the running total to the screen. Finally, check your answer by using the `cumsum` function of `numpy`, which should give the same answer as your loop."
   ]
  },
  {
   "cell_type": "code",
   "execution_count": null,
   "id": "a5b56606-58b9-4375-a0ee-6bb28efa3cfa",
   "metadata": {},
   "outputs": [],
   "source": []
  },
  {
   "cell_type": "markdown",
   "id": "4f91e190-1765-465d-9f44-14a8e0eb7857",
   "metadata": {},
   "source": [
    "<a href=\"#ex3answer\">Answer for Exercise 3</a>"
   ]
  },
  {
   "cell_type": "markdown",
   "id": "2c23d637-fdc9-4d09-9c8f-0deb30b7e066",
   "metadata": {
    "tags": []
   },
   "source": [
    "### Answers to the exercises"
   ]
  },
  {
   "cell_type": "markdown",
   "id": "9bc561b3-ab10-4b26-9382-6891c3441682",
   "metadata": {},
   "source": [
    "<a name=\"ex1answer\">Answer to Exercise 1</a>"
   ]
  },
  {
   "cell_type": "code",
   "execution_count": 8,
   "id": "a6be0c25-5d14-4616-8e54-3f464140c5eb",
   "metadata": {},
   "outputs": [
    {
     "name": "stdout",
     "output_type": "stream",
     "text": [
      "The number of days in January is 31\n",
      "The number of days in February is 28\n",
      "The number of days in March is 31\n",
      "The number of days in April is 30\n",
      "The number of days in May is 31\n",
      "The number of days in June is 30\n",
      "The number of days in July is 31\n",
      "The number of days in August is 31\n",
      "The number of days in September is 30\n",
      "The number of days in October is 31\n",
      "The number of days in November is 30\n",
      "The number of days in December is 31\n"
     ]
    }
   ],
   "source": [
    "months = ['January', 'February', 'March', 'April',\\\n",
    "          'May','June', 'July', 'August', 'September',\\\n",
    "          'October', 'November', 'December']\n",
    "days = [31, 28, 31, 30, 31, 30, 31, 31, 30, 31, 30, 31]\n",
    "for i in range(12):\n",
    "    print(f'The number of days in {months[i]} is {days[i]}')"
   ]
  },
  {
   "cell_type": "markdown",
   "id": "1b278582-1e4a-40a9-8e1e-e80dfa609d67",
   "metadata": {},
   "source": [
    "<a href=\"#back1\">Back to Exercise 1</a>\n",
    "\n",
    "<a name=\"ex2answer\">Answer to Exercise 2</a>"
   ]
  },
  {
   "cell_type": "code",
   "execution_count": 9,
   "id": "69cf796c-cc91-4e83-a2bb-10865eeed407",
   "metadata": {},
   "outputs": [
    {
     "data": {
      "image/png": "[encoded data removed]",
      "text/plain": [
       "<Figure size 432x288 with 1 Axes>"
      ]
     },
     "metadata": {
      "needs_background": "light"
     },
     "output_type": "display_data"
    }
   ],
   "source": [
    "x = np.linspace(-2 * np.pi, 2 * np.pi, 100)\n",
    "y = np.zeros_like(x)\n",
    "for i in range(100):\n",
    "    if x[i] < 0:\n",
    "        y[i] = np.cos(x[i])\n",
    "    else:\n",
    "        y[i] = np.exp(-x[i])\n",
    "plt.plot(x, y)\n",
    "plt.xlim(-2 * np.pi, 2 * np.pi);"
   ]
  },
  {
   "cell_type": "markdown",
   "id": "9589e894-518f-410d-bbdb-03873c36f142",
   "metadata": {},
   "source": [
    "<a href=\"#back2\">Back to Exercise 2</a>\n",
    "\n",
    "<a name=\"ex3answer\">Answer to Exercise 3</a>"
   ]
  },
  {
   "cell_type": "code",
   "execution_count": 10,
   "id": "1b6cce81-4eed-4130-86be-5932987501ef",
   "metadata": {},
   "outputs": [
    {
     "name": "stdout",
     "output_type": "stream",
     "text": [
      "data values: [1, 3, 2, 5, 7, 3, 4, 2]\n",
      "running total: [1, 4, 6, 11, 18, 21, 25, 27]\n",
      "running total with numpy: [ 1  4  6 11 18 21 25 27]\n"
     ]
    }
   ],
   "source": [
    "#lists version:\n",
    "data = [1, 3, 2, 5, 7, 3, 4, 2]\n",
    "runningtotal = [0] * len(data) #declare size of list at the biggining with zeros\n",
    "runningtotal[0] = data[0]\n",
    "for i in range(1, len(data)):\n",
    "    runningtotal[i] = runningtotal[i-1] + data[i]\n",
    "print('data values:', data)\n",
    "print('running total:', runningtotal)\n",
    "print('running total with numpy:', np.cumsum(data))"
   ]
  },
  {
   "cell_type": "code",
   "execution_count": 11,
   "id": "538357da-27d2-4b2f-828d-6689a5d27a29",
   "metadata": {},
   "outputs": [
    {
     "name": "stdout",
     "output_type": "stream",
     "text": [
      "data values: [1 3 2 5 7 3 4 2]\n",
      "running total: [ 1  4  6 11 18 21 25 27]\n",
      "running total with numpy: [ 1  4  6 11 18 21 25 27]\n"
     ]
    }
   ],
   "source": [
    "#numpy version\n",
    "data = np.array([1, 3, 2, 5, 7, 3, 4, 2])\n",
    "runningtotal = np.zeros_like(data) #declare array at the biggining\n",
    "runningtotal[0] = data[0]\n",
    "for i in range(1, len(data)):\n",
    "    runningtotal[i] = runningtotal[i-1] + data[i]\n",
    "print('data values:', data)\n",
    "print('running total:', runningtotal)\n",
    "print('running total with numpy:', np.cumsum(data))"
   ]
  },
  {
   "cell_type": "markdown",
   "id": "6600497d-5a59-4440-9b72-79efcc13e8cd",
   "metadata": {},
   "source": [
    "<a href=\"#back3\">Back to Exercise 3</a>"
   ]
  },
  {
   "cell_type": "code",
   "execution_count": null,
   "id": "dad2e201-40cb-4ab3-8d7b-cd43b36e8409",
   "metadata": {},
   "outputs": [],
   "source": []
  }
 ],
 "metadata": {
  "kernelspec": {
   "display_name": "Python 3 (ipykernel)",
   "language": "python",
   "name": "python3"
  },
  "language_info": {
   "codemirror_mode": {
    "name": "ipython",
    "version": 3
   },
   "file_extension": ".py",
   "mimetype": "text/x-python",
   "name": "python",
   "nbconvert_exporter": "python",
   "pygments_lexer": "ipython3",
   "version": "3.9.7"
  }
 },
 "nbformat": 4,
 "nbformat_minor": 5
}
