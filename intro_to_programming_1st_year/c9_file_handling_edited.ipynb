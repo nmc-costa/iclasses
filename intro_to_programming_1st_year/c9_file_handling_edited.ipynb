{
 "cells": [
  {
   "cell_type": "markdown",
   "id": "7779703f-9bdf-4de0-9c2f-eb4e76749175",
   "metadata": {
    "tags": []
   },
   "source": [
    "# File handling \n",
    "*Developed by Nuno M.C. da Costa*\n",
    "\n",
    "info: \n",
    "- https://www.w3schools.com/python/python_file_handling.asp"
   ]
  },
  {
   "cell_type": "markdown",
   "id": "d839a45e-56c2-4073-b2b7-3db97dd80cfd",
   "metadata": {
    "tags": []
   },
   "source": [
    "## File handling\n",
    "\n",
    "\n",
    "The key function for working with files in Python is the `open()` function.\n",
    "\n",
    "The open() function takes two parameters; `filename`, and `mode`.\n",
    "\n",
    "\n",
    "There are four different methods (modes) for opening a file:\n",
    "\n",
    "- \"r\" - Read - Default value. Opens a file for reading, error if the file does not exist\n",
    "\n",
    "- \"a\" - Append - Opens a file for appending, creates the file if it does not exist\n",
    "\n",
    "- \"w\" - Write - Opens a file for writing, creates the file if it does not exist\n",
    "\n",
    "- \"x\" - Create - Creates the specified file, returns an error if the file exists\n",
    "\n",
    "\n",
    "In addition you can specify if the file should be handled as binary or text mode\n",
    "\n",
    "- \"t\" - Text - Default value. Text mode\n",
    "\n",
    "- \"b\" - Binary - Binary mode (e.g. images)\n",
    "\n"
   ]
  },
  {
   "cell_type": "markdown",
   "id": "327cbf24-2994-4962-a5d1-24087aa37f46",
   "metadata": {
    "tags": []
   },
   "source": [
    "### Create a new file \n",
    "\n",
    "To create a new file in Python, use the open() method, with one of the following parameters:\n",
    "\n",
    "- \"x\" - Create - will create a file, returns an error if the file exist\n",
    "\n",
    "- \"a\" - Append - will create a file if the specified file does not exist\n",
    "\n",
    "- \"w\" - Write - will create a file if the specified file does not exist\n"
   ]
  },
  {
   "cell_type": "code",
   "execution_count": 1,
   "id": "95277730-c0a1-4ec9-bf5f-7d96a86974a8",
   "metadata": {},
   "outputs": [],
   "source": [
    "f = open(\"demofile.txt\", \"x\")\n",
    "f.close()"
   ]
  },
  {
   "cell_type": "markdown",
   "id": "a394c864-f385-48c7-812b-db91704083ae",
   "metadata": {
    "tags": []
   },
   "source": [
    "### Write to an existing file\n",
    "\n",
    "To write to an existing file, you must add a parameter to the open() function:\n",
    "\n",
    "- \"a\" - Append - will append to the end of the file\n",
    "\n",
    "- \"w\" - Write - will overwrite any existing content\n"
   ]
  },
  {
   "cell_type": "code",
   "execution_count": 5,
   "id": "153a91f7-bf9e-4f01-b99f-e88fa67514e3",
   "metadata": {},
   "outputs": [
    {
     "data": {
      "text/plain": [
       "77"
      ]
     },
     "execution_count": 5,
     "metadata": {},
     "output_type": "execute_result"
    }
   ],
   "source": [
    "f = open(\"demofile.txt\", \"w\")\n",
    "f.write(\"Hello! Welcome to demofile.txt.\\nThis file is for testing purposes.\\nGood Luck!\")"
   ]
  },
  {
   "cell_type": "markdown",
   "id": "63be1ecf-dbde-41d2-bec9-8f56208d24f8",
   "metadata": {},
   "source": [
    "The file needs to be closed after we are finish with it"
   ]
  },
  {
   "cell_type": "code",
   "execution_count": 6,
   "id": "7af5af32-d516-46f4-b524-a02edac36e70",
   "metadata": {},
   "outputs": [],
   "source": [
    "f.close() "
   ]
  },
  {
   "cell_type": "markdown",
   "id": "0103cea6-b1ce-4abf-9194-2dd3f99e8c66",
   "metadata": {},
   "source": [
    "However, if a bug happens before we reach f.close() the file will remain open and we don't want that.\n",
    "\n",
    "As such, the best way to close a file is by using the `with` statement. This ensures that the file is closed when the block inside the with statement is exited.\n",
    "\n",
    "We don't need to explicitly call the close() method. It is done internally."
   ]
  },
  {
   "cell_type": "code",
   "execution_count": 55,
   "id": "4c3229b0-c739-457c-8b9e-f4b1022a7094",
   "metadata": {},
   "outputs": [],
   "source": [
    "with open(\"demofile.txt\", \"w\") as f:\n",
    "    f.write(\"Hello! Welcome to demofile.txt.\\nThis file is for testing purposes.\\nGood Luck!\")"
   ]
  },
  {
   "cell_type": "markdown",
   "id": "e4621ae0-c3ce-4e86-865f-b295ec31b18a",
   "metadata": {},
   "source": [
    "We can also append new information at the end of the file:"
   ]
  },
  {
   "cell_type": "code",
   "execution_count": 9,
   "id": "ad507e61-740d-4734-a6f9-eb0747561e63",
   "metadata": {},
   "outputs": [],
   "source": [
    "with open(\"demofile.txt\", \"a\") as f:\n",
    "    for i in [1,2,3]:\n",
    "        f.write(\"\\nNow the file has more content! \"+str(i))\n",
    "    \n",
    "    "
   ]
  },
  {
   "cell_type": "markdown",
   "id": "d85e3259-b80f-416f-a9a7-928714a3c764",
   "metadata": {
    "tags": []
   },
   "source": [
    "### Read existing files\n",
    "To open the file, use the built-in open() function.\n",
    "\n",
    "The open() function returns a file object, which has a read() method for reading the content of the file:"
   ]
  },
  {
   "cell_type": "code",
   "execution_count": 10,
   "id": "6f358bea-39aa-439b-8eb8-249725d4a03c",
   "metadata": {},
   "outputs": [
    {
     "name": "stdout",
     "output_type": "stream",
     "text": [
      "Hello! Welcome to demofile.txt.\n",
      "This file is for testing purposes.\n",
      "Good Luck!\n",
      "Now the file has more content!\n",
      "Now the file has more content!\n",
      "Now the file has more content! 1\n",
      "Now the file has more content! 2\n",
      "Now the file has more content! 3\n"
     ]
    },
    {
     "data": {
      "text/plain": [
       "<_io.TextIOWrapper name='demofile.txt' mode='r' encoding='cp1252'>"
      ]
     },
     "execution_count": 11,
     "metadata": {},
     "output_type": "execute_result"
    }
   ],
   "source": [
    "f = open(\"demofile.txt\", \"r\")\n",
    "print(f.read())\n",
    "texto=f.read()\n",
    "f.close()"
   ]
  },
  {
   "cell_type": "markdown",
   "id": "3f3111c3-dded-4652-8e0d-517611377ea8",
   "metadata": {
    "tags": []
   },
   "source": [
    "### Read lines\n",
    "You can return one line by using the readline() method:\n",
    "\n",
    "Read two lines of the file:"
   ]
  },
  {
   "cell_type": "code",
   "execution_count": 13,
   "id": "8aa2794b-24eb-4021-bda5-a11a7b313c2a",
   "metadata": {},
   "outputs": [
    {
     "name": "stdout",
     "output_type": "stream",
     "text": [
      "['Hello! Welcome to demofile.txt.\\n', 'This file is for testing purposes.\\n', 'Good Luck!\\n', 'Now the file has more content!\\n', 'Now the file has more content!\\n', 'Now the file has more content! 1\\n', 'Now the file has more content! 2\\n', 'Now the file has more content! 3']\n"
     ]
    }
   ],
   "source": [
    "f = open(\"demofile.txt\", \"r\")\n",
    "#print(f.readline())\n",
    "#print(f.readline())\n",
    "lista=[]\n",
    "num_lines = sum(1 for line in open('myfile.txt'))\n",
    "for line in open(\"demofile.txt\"):\n",
    "    print()\n",
    "for i in range(8):\n",
    "    lista.append(f.readline())\n",
    "f.close()\n",
    "print(lista)"
   ]
  },
  {
   "cell_type": "code",
   "execution_count": 15,
   "id": "ad444edf-5bc1-4029-9cc9-79c22c9a51b5",
   "metadata": {},
   "outputs": [
    {
     "name": "stdout",
     "output_type": "stream",
     "text": [
      "Good Luck!\n",
      "\n"
     ]
    }
   ],
   "source": [
    "print(lista[2])"
   ]
  },
  {
   "cell_type": "code",
   "execution_count": 17,
   "id": "4deb3f47-03b0-404c-9e28-841f11b36699",
   "metadata": {},
   "outputs": [
    {
     "name": "stdout",
     "output_type": "stream",
     "text": [
      "['Hello! Welcome to demofile.txt.\\n', 'This file is for testing purposes.\\n', 'Good Luck!\\n', 'Now the file has more content!\\n', 'Now the file has more content!\\n', 'Now the file has more content! 1\\n', 'Now the file has more content! 2\\n', 'Now the file has more content! 3', 'Hello! Welcome to demofile.txt.\\n', 'This file is for testing purposes.\\n', 'Good Luck!\\n', 'Now the file has more content!\\n', 'Now the file has more content!\\n', 'Now the file has more content! 1\\n', 'Now the file has more content! 2\\n', 'Now the file has more content! 3']\n"
     ]
    }
   ],
   "source": [
    "for line in open(\"demofile.txt\"):\n",
    "    lista.append(line)\n",
    "print(lista)"
   ]
  },
  {
   "cell_type": "markdown",
   "id": "b225fa3f-6dca-4813-9099-056cc4af0bec",
   "metadata": {},
   "source": [
    "Loop through the file line by line:"
   ]
  },
  {
   "cell_type": "code",
   "execution_count": 59,
   "id": "7b887dde-fc4b-4080-b94b-d6e8ad2e9b60",
   "metadata": {},
   "outputs": [
    {
     "name": "stdout",
     "output_type": "stream",
     "text": [
      "Hello! Welcome to demofile.txt.\n",
      "\n",
      "This file is for testing purposes.\n",
      "\n",
      "Good Luck!\n",
      "\n",
      "Now the file has more content!\n"
     ]
    }
   ],
   "source": [
    "f = open(\"demofile.txt\", \"r\")\n",
    "for x in f:\n",
    "    print(x)\n",
    "f.close()"
   ]
  },
  {
   "cell_type": "markdown",
   "id": "7566e48f-1c39-4002-ace9-402b025b96e1",
   "metadata": {
    "tags": []
   },
   "source": [
    "### Delete file\n",
    "To delete a file, you must import the OS module, and run its os.remove() function.\n",
    "You can only remove if the file is closed.\n",
    "\n",
    "Remove the file \"demofile.txt\":"
   ]
  },
  {
   "cell_type": "code",
   "execution_count": null,
   "id": "f4b7db79-de25-4415-a5e8-4aa083c905ff",
   "metadata": {},
   "outputs": [],
   "source": [
    "import os\n",
    "os.remove(\"demofile.txt\")"
   ]
  },
  {
   "cell_type": "markdown",
   "id": "ca96467e-1734-40e2-b0a7-2c890d34c602",
   "metadata": {
    "jp-MarkdownHeadingCollapsed": true,
    "tags": []
   },
   "source": [
    "### Exercise <a name=\"back1\"></a> \n",
    "Modify string = \"String\"\n",
    "\n",
    "1. Create 10 \"String\" with a for loop and add the number of each one at the biggining and append each new string to a list.\n",
    "2. Save the result to a file at the end.\n",
    "3. Read file\n",
    "4. Remove file"
   ]
  },
  {
   "cell_type": "markdown",
   "id": "50815a6c-6a5a-4d83-9cc3-4b86863c713c",
   "metadata": {
    "tags": []
   },
   "source": [
    "### Answers to the exercises"
   ]
  },
  {
   "cell_type": "markdown",
   "id": "3476d1c0-2481-48b1-881e-cb0f4d489e73",
   "metadata": {},
   "source": [
    "<a name=\"ex1answer\">Answer to Exercise</a>"
   ]
  },
  {
   "cell_type": "code",
   "execution_count": 13,
   "id": "e9d05e9a-f2c6-47bf-89ae-4405450c513b",
   "metadata": {},
   "outputs": [
    {
     "name": "stdout",
     "output_type": "stream",
     "text": [
      "['>>String - 1 \\n', '>>String - 2 \\n', '>>String - 3 \\n', '>>String - 4 \\n', '>>String - 5 \\n', '>>String - 6 \\n', '>>String - 7 \\n', '>>String - 8 \\n', '>>String - 9 \\n', '>>String - 10 \\n']\n"
     ]
    }
   ],
   "source": [
    "#1\n",
    "string = \"String\"\n",
    "numbers = range(1,11)\n",
    "list_strings= []\n",
    "for number in numbers:\n",
    "    new_string = f\">>{string} - {number} \\n\"\n",
    "    list_strings.append(new_string)\n",
    "print(list_strings)"
   ]
  },
  {
   "cell_type": "code",
   "execution_count": 10,
   "id": "97e8eede-3df4-42f9-aceb-4db765f1054e",
   "metadata": {},
   "outputs": [],
   "source": [
    "#2\n",
    "f1 = open(\"savefile.txt\", \"w\")\n",
    "for s in list_strings:\n",
    "    f1.write(s)\n",
    "f1.close()"
   ]
  },
  {
   "cell_type": "code",
   "execution_count": 14,
   "id": "0ddebcb7-931b-4720-a4ad-72b7e3c2762c",
   "metadata": {},
   "outputs": [],
   "source": [
    "#2 alternative\n",
    "with open(\"savefile.txt\", \"w\") as f:\n",
    "    for s in list_strings:\n",
    "        f.write(s)"
   ]
  },
  {
   "cell_type": "code",
   "execution_count": 3,
   "id": "74dbda24-f560-4b18-bc0c-3947f965ebc6",
   "metadata": {},
   "outputs": [
    {
     "name": "stdout",
     "output_type": "stream",
     "text": [
      ">>String - 1 \n",
      ">>String - 2 \n",
      ">>String - 3 \n",
      ">>String - 4 \n",
      ">>String - 5 \n",
      ">>String - 6 \n",
      ">>String - 7 \n",
      ">>String - 8 \n",
      ">>String - 9 \n",
      ">>String - 10 \n",
      "\n"
     ]
    }
   ],
   "source": [
    "#3\n",
    "f = open(\"savefile.txt\", \"r\")\n",
    "print(f.read())\n",
    "f.close()"
   ]
  },
  {
   "cell_type": "code",
   "execution_count": 15,
   "id": "193db06a-2177-4e24-bf55-ddb6f5e86a40",
   "metadata": {},
   "outputs": [
    {
     "name": "stdout",
     "output_type": "stream",
     "text": [
      ">>String - 1 \n",
      ">>String - 2 \n",
      ">>String - 3 \n",
      ">>String - 4 \n",
      ">>String - 5 \n",
      ">>String - 6 \n",
      ">>String - 7 \n",
      ">>String - 8 \n",
      ">>String - 9 \n",
      ">>String - 10 \n",
      "\n"
     ]
    }
   ],
   "source": [
    "#3 alternative\n",
    "with open(\"savefile.txt\", \"r\") as f:\n",
    "    print(f.read())"
   ]
  },
  {
   "cell_type": "code",
   "execution_count": 16,
   "id": "590f6adc-7fdb-4dac-8fdb-d196ea3ae364",
   "metadata": {},
   "outputs": [],
   "source": [
    "#4\n",
    "import os\n",
    "os.remove(\"savefile.txt\")"
   ]
  },
  {
   "cell_type": "code",
   "execution_count": 37,
   "id": "8c1d0c1a-bb61-4795-b8fc-b60421cb50ac",
   "metadata": {},
   "outputs": [],
   "source": []
  },
  {
   "cell_type": "code",
   "execution_count": null,
   "id": "c4d92b37-ea07-45e8-b4c1-7a97837f9970",
   "metadata": {},
   "outputs": [],
   "source": []
  }
 ],
 "metadata": {
  "kernelspec": {
   "display_name": "Python 3 (ipykernel)",
   "language": "python",
   "name": "python3"
  },
  "language_info": {
   "codemirror_mode": {
    "name": "ipython",
    "version": 3
   },
   "file_extension": ".py",
   "mimetype": "text/x-python",
   "name": "python",
   "nbconvert_exporter": "python",
   "pygments_lexer": "ipython3",
   "version": "3.9.7"
  }
 },
 "nbformat": 4,
 "nbformat_minor": 5
}
