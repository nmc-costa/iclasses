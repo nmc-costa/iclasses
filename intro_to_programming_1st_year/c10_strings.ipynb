{
 "cells": [
  {
   "cell_type": "markdown",
   "id": "7779703f-9bdf-4de0-9c2f-eb4e76749175",
   "metadata": {
    "tags": []
   },
   "source": [
    "# Python Strings (advanced)\n",
    "*Developed by Nuno M.C. da Costa*\n",
    "\n",
    "info: \n",
    "- https://www.w3schools.com/python/python_strings.asp\n",
    "- https://docs.python.org/3/library/stdtypes.html?highlight=strings#text-sequence-type-str\n",
    "- https://docs.python.org/3/library/string.html?highlight=strings#module-string"
   ]
  },
  {
   "cell_type": "markdown",
   "id": "d839a45e-56c2-4073-b2b7-3db97dd80cfd",
   "metadata": {
    "tags": []
   },
   "source": [
    "## Strings\n",
    "\n",
    "Strings in Python are surrounded by either single quotation marks, or double quotation marks.\n",
    "\n",
    "`'hello'` is the same as `\"hello\"`.\n",
    "\n",
    "\n",
    "## Print to the console\n",
    "\n",
    "You can display a string literal with the print() function:"
   ]
  },
  {
   "cell_type": "code",
   "execution_count": 73,
   "id": "9c1460a6-9b89-47ad-9baa-032a662e2adc",
   "metadata": {},
   "outputs": [
    {
     "name": "stdout",
     "output_type": "stream",
     "text": [
      "hello\n"
     ]
    }
   ],
   "source": [
    "print('hello')"
   ]
  },
  {
   "cell_type": "markdown",
   "id": "f47de610-bceb-4db6-8a0f-365412f6879d",
   "metadata": {},
   "source": [
    "## Assign String to a Variable"
   ]
  },
  {
   "cell_type": "code",
   "execution_count": 74,
   "id": "a29c8d8b-d16e-4b53-9b63-01da9cadd019",
   "metadata": {},
   "outputs": [
    {
     "name": "stdout",
     "output_type": "stream",
     "text": [
      "Hello\n"
     ]
    }
   ],
   "source": [
    "a = \"Hello\"\n",
    "print(a)"
   ]
  },
  {
   "cell_type": "markdown",
   "id": "72a0c1da-5edf-4b9d-a4af-aeff6e6928f1",
   "metadata": {},
   "source": [
    "Other languages, like C, are more verbose and you need to indicate the maximum size (+1 because of the '\\0' carachter) of the string you are assining to the variable. \n",
    "\n",
    "Example: char a[6]=\"Hello\""
   ]
  },
  {
   "cell_type": "markdown",
   "id": "81a5cf2b-3e2d-48ad-9858-1afc8a00598d",
   "metadata": {
    "tags": []
   },
   "source": [
    "### Assign Multiline Strings\n",
    "You can assign a multiline string lines to a variable by using three quotes:"
   ]
  },
  {
   "cell_type": "code",
   "execution_count": 2,
   "id": "d5c83ed7-2465-4bcb-8e7b-824b85e774e6",
   "metadata": {},
   "outputs": [
    {
     "name": "stdout",
     "output_type": "stream",
     "text": [
      "Hello from the other side \n",
      "I must've called a thousand times\n",
      "To tell you I'm sorry for everything that I've done\n",
      "But when I call, you never seem to be home\n"
     ]
    }
   ],
   "source": [
    "a = \"\"\"Hello from the other side\n",
    "I must've called a thousand times\n",
    "To tell you I'm sorry for everything that I've done\n",
    "But when I call, you never seem to be home\"\"\"\n",
    "print(a)"
   ]
  },
  {
   "cell_type": "markdown",
   "id": "536ce9ab-3ecc-4bc6-a5d2-4e1b987ab3ac",
   "metadata": {
    "tags": []
   },
   "source": [
    "## Strings are Arrays of characters\n",
    "Like many other popular programming languages, strings in Python are arrays of bytes representing unicode characters.\n",
    "\n",
    "However, Python does not have a character data type, a single character is simply a string with a length of 1.\n",
    "\n",
    "Square brackets can be used to access elements of the string.\n",
    "\n",
    "#### Example Slicing strings\n",
    "Slice string from position 0 to 5 and 7 to end (remember that the first character has the position 0):"
   ]
  },
  {
   "cell_type": "code",
   "execution_count": 4,
   "id": "1deb4ac4-fe40-4e74-b436-17a1d177f0c8",
   "metadata": {},
   "outputs": [
    {
     "name": "stdout",
     "output_type": "stream",
     "text": [
      "Hello\n",
      "World\n"
     ]
    }
   ],
   "source": [
    "a = \"Hello, World!\"\n",
    "print(a[0:5])\n",
    "print(a[7:-1])"
   ]
  },
  {
   "cell_type": "markdown",
   "id": "12a95ddd-1101-42fc-b39e-10ca9a58e61f",
   "metadata": {
    "tags": []
   },
   "source": [
    "### Looping Through a string\n",
    "Since strings are arrays, we can loop through the characters in a string, with a for loop.\n",
    "\n",
    "#### Example\n",
    "Loop through the letters in the word \"Hello!\":"
   ]
  },
  {
   "cell_type": "code",
   "execution_count": 77,
   "id": "8ec5337a-3e44-49e1-9abf-272211435c66",
   "metadata": {},
   "outputs": [
    {
     "name": "stdout",
     "output_type": "stream",
     "text": [
      "H\n",
      "e\n",
      "l\n",
      "l\n",
      "o\n",
      "!\n"
     ]
    }
   ],
   "source": [
    "c = \"Hello!\"\n",
    "for letter in c:\n",
    "    print(letter)"
   ]
  },
  {
   "cell_type": "markdown",
   "id": "ffd9c4da-8e9f-412b-9173-7bf6eff62502",
   "metadata": {
    "tags": []
   },
   "source": [
    "### String length\n",
    "Since strings are arrays, we can loop through the characters in a string, with a for loop.\n",
    "\n",
    "#### Example\n",
    "The len() function returns the length of a string:"
   ]
  },
  {
   "cell_type": "code",
   "execution_count": 78,
   "id": "9cd56327-6623-4b14-837b-368890a0ab0c",
   "metadata": {},
   "outputs": [
    {
     "name": "stdout",
     "output_type": "stream",
     "text": [
      "13\n"
     ]
    }
   ],
   "source": [
    "a = \"Hello, World!\"\n",
    "print(len(a))"
   ]
  },
  {
   "cell_type": "markdown",
   "id": "785bad27-ddc5-4037-94a3-1890837ac028",
   "metadata": {
    "tags": []
   },
   "source": [
    "### Check string using 'in'\n",
    "Since strings are arrays that work similar to lists, we can check if a certain phrase or character is present in a string using the keyword `in`\n",
    "\n",
    "#### Example\n",
    "Print only if `\"side\"` is present:"
   ]
  },
  {
   "cell_type": "code",
   "execution_count": 79,
   "id": "23d55c91-f41d-4bed-9821-086c98d02fec",
   "metadata": {},
   "outputs": [
    {
     "name": "stdout",
     "output_type": "stream",
     "text": [
      "Yes, 'side' is present.\n"
     ]
    }
   ],
   "source": [
    "txt = \"Hello from the other side!\"\n",
    "msg=\"Yes, 'side' is present.\"\n",
    "if \"side\" in txt:\n",
    "    print(msg)"
   ]
  },
  {
   "cell_type": "markdown",
   "id": "d27898a5-1df2-4781-9f41-fb9825ba8576",
   "metadata": {
    "tags": []
   },
   "source": [
    "#### Example if not\n",
    "Check if \"lol\" is NOT present in the following text:"
   ]
  },
  {
   "cell_type": "code",
   "execution_count": 80,
   "id": "5234456b-be62-4d2e-9fd9-f95929e383c3",
   "metadata": {},
   "outputs": [
    {
     "name": "stdout",
     "output_type": "stream",
     "text": [
      "Yes, 'lol' is NOT present.\n"
     ]
    }
   ],
   "source": [
    "msg2=\"Yes, 'lol' is NOT present.\"\n",
    "if \"lol\" not in txt:\n",
    "    print(msg2)"
   ]
  },
  {
   "cell_type": "markdown",
   "id": "21c17d12-3bc5-4269-b9d0-25a56a389c72",
   "metadata": {
    "tags": []
   },
   "source": [
    "### Check string using method function 'find()'\n",
    "Python has a set of built-in methods (functions) that you can use on strings. One of them is find(), that searches the string for a specified value and returns the position of where it was found, if not found it returns `-1`.\n",
    "\n",
    "For more on string methods go to https://www.w3schools.com/python/python_strings_methods.asp\n",
    "\n",
    "#### Example"
   ]
  },
  {
   "cell_type": "code",
   "execution_count": 81,
   "id": "621933d3-726c-4c7b-954f-4c460f0d89f5",
   "metadata": {},
   "outputs": [
    {
     "name": "stdout",
     "output_type": "stream",
     "text": [
      "Yes, 'side' is present.\n"
     ]
    }
   ],
   "source": [
    "if txt.find(\"side\")>-1:\n",
    "    print(msg)"
   ]
  },
  {
   "cell_type": "code",
   "execution_count": 82,
   "id": "2478b873-1334-41fe-83db-32b1402aaa93",
   "metadata": {},
   "outputs": [
    {
     "name": "stdout",
     "output_type": "stream",
     "text": [
      "Yes, 'lol' is NOT present.\n"
     ]
    }
   ],
   "source": [
    "if txt.find(\"lol\") == -1:\n",
    "    print(msg2)"
   ]
  },
  {
   "cell_type": "markdown",
   "id": "d1b45ae2-6cb5-4784-bd30-989d76d27457",
   "metadata": {},
   "source": [
    "## Modify Strings\n",
    "Python has a set of built-in methods that you can use on strings. Again, you can check them at https://www.w3schools.com/python/python_strings_methods.asp"
   ]
  },
  {
   "cell_type": "markdown",
   "id": "445df83a-5c8a-4f14-87cd-7588e0330f62",
   "metadata": {},
   "source": [
    "### Replace String\n",
    "#### Example\n",
    "The replace() method replaces a string with another string:"
   ]
  },
  {
   "cell_type": "code",
   "execution_count": 83,
   "id": "0a3dcb87-7f57-4b8a-97e7-897ce9e0497a",
   "metadata": {},
   "outputs": [
    {
     "name": "stdout",
     "output_type": "stream",
     "text": [
      "Hello_World!\n"
     ]
    }
   ],
   "source": [
    "a = \"Hello, World!\"\n",
    "print(a.replace(\", \", \"_\"))"
   ]
  },
  {
   "cell_type": "markdown",
   "id": "e2ccde67-b17c-44c1-b2d1-222915220608",
   "metadata": {
    "tags": []
   },
   "source": [
    "### Split String\n",
    "The split() method returns a list where the text between the specified separator becomes the list items.\n",
    "\n",
    "#### Example\n",
    "The split() method splits the string into substrings and creates a list if it finds instances of the separator:"
   ]
  },
  {
   "cell_type": "code",
   "execution_count": 84,
   "id": "da03d11a-915a-4048-9e2e-8967a0340f99",
   "metadata": {},
   "outputs": [
    {
     "name": "stdout",
     "output_type": "stream",
     "text": [
      "['Hello', ' World!']\n"
     ]
    }
   ],
   "source": [
    "a = \"Hello, World!\"\n",
    "print(a.split(\",\")) # returns ['Hello', ' World!']"
   ]
  },
  {
   "cell_type": "markdown",
   "id": "03aef29e-80ea-489a-890a-ca05aaf6d293",
   "metadata": {
    "tags": []
   },
   "source": [
    "## String concatenation in Python\n",
    "To concatenate, or combine, two strings you can use the `+` operator."
   ]
  },
  {
   "cell_type": "code",
   "execution_count": 85,
   "id": "32573f62-f757-4e42-a5b9-f1d97d284701",
   "metadata": {},
   "outputs": [
    {
     "name": "stdout",
     "output_type": "stream",
     "text": [
      "Hello, World\n"
     ]
    }
   ],
   "source": [
    "a = \"Hello\"\n",
    "b = \", \"\n",
    "c = \"World\"\n",
    "d = a + b + c\n",
    "print(d)"
   ]
  },
  {
   "cell_type": "markdown",
   "id": "3e160cb5-81b5-4090-8afe-f322e996899e",
   "metadata": {
    "tags": []
   },
   "source": [
    "## Format strings\n",
    "How to concatenate strings with numbers?"
   ]
  },
  {
   "cell_type": "code",
   "execution_count": 86,
   "id": "c919a7db-8a6f-47ca-94d1-953305acd73f",
   "metadata": {},
   "outputs": [
    {
     "ename": "TypeError",
     "evalue": "can only concatenate str (not \"int\") to str",
     "output_type": "error",
     "traceback": [
      "\u001b[1;31m---------------------------------------------------------------------------\u001b[0m",
      "\u001b[1;31mTypeError\u001b[0m                                 Traceback (most recent call last)",
      "\u001b[1;32mC:\\Users\\NMC_CO~1\\AppData\\Local\\Temp/ipykernel_11332/2117076392.py\u001b[0m in \u001b[0;36m<module>\u001b[1;34m\u001b[0m\n\u001b[0;32m      2\u001b[0m \u001b[0mb\u001b[0m \u001b[1;33m=\u001b[0m \u001b[1;34m\", \"\u001b[0m\u001b[1;33m\u001b[0m\u001b[1;33m\u001b[0m\u001b[0m\n\u001b[0;32m      3\u001b[0m \u001b[0mc\u001b[0m \u001b[1;33m=\u001b[0m \u001b[1;36m5\u001b[0m\u001b[1;33m\u001b[0m\u001b[1;33m\u001b[0m\u001b[0m\n\u001b[1;32m----> 4\u001b[1;33m \u001b[0md\u001b[0m \u001b[1;33m=\u001b[0m \u001b[0ma\u001b[0m \u001b[1;33m+\u001b[0m \u001b[0mb\u001b[0m \u001b[1;33m+\u001b[0m \u001b[0mc\u001b[0m\u001b[1;33m\u001b[0m\u001b[1;33m\u001b[0m\u001b[0m\n\u001b[0m\u001b[0;32m      5\u001b[0m \u001b[0mprint\u001b[0m\u001b[1;33m(\u001b[0m\u001b[0md\u001b[0m\u001b[1;33m)\u001b[0m\u001b[1;33m\u001b[0m\u001b[1;33m\u001b[0m\u001b[0m\n",
      "\u001b[1;31mTypeError\u001b[0m: can only concatenate str (not \"int\") to str"
     ]
    }
   ],
   "source": [
    "a = \"Hello\"\n",
    "b = \", \"\n",
    "c = 5\n",
    "d = a + b + c\n",
    "print(d)"
   ]
  },
  {
   "cell_type": "code",
   "execution_count": 87,
   "id": "f5bb1242-8dea-4f10-93ee-16f1058932f2",
   "metadata": {},
   "outputs": [
    {
     "name": "stdout",
     "output_type": "stream",
     "text": [
      "Hello, 5\n"
     ]
    }
   ],
   "source": [
    "c = str(c) \n",
    "d = a + b + c\n",
    "print(d)"
   ]
  },
  {
   "cell_type": "markdown",
   "id": "aad9e6b9-e05d-4dc9-8a12-cd5cd666085f",
   "metadata": {},
   "source": [
    "How to do this faster with less lines of code?\n",
    "\n",
    "#### Example\n",
    "We can use the string method .format():"
   ]
  },
  {
   "cell_type": "code",
   "execution_count": 88,
   "id": "7898a2de-4104-4c39-a711-d589760f047c",
   "metadata": {},
   "outputs": [
    {
     "name": "stdout",
     "output_type": "stream",
     "text": [
      "Hello, 5\n"
     ]
    }
   ],
   "source": [
    "c = 5\n",
    "d = \"Hello, {}\".format(c)\n",
    "print(d)"
   ]
  },
  {
   "cell_type": "markdown",
   "id": "084d3127-27ca-459b-898e-0ec1ad3f1b6e",
   "metadata": {},
   "source": [
    "Or the best method in Python 3 the `f-strings`:"
   ]
  },
  {
   "cell_type": "code",
   "execution_count": 89,
   "id": "98a452a5-dea8-4bdc-b468-ffbf5578ed74",
   "metadata": {},
   "outputs": [
    {
     "name": "stdout",
     "output_type": "stream",
     "text": [
      "Hello, 5\n"
     ]
    }
   ],
   "source": [
    "d = f'Hello, {c}'\n",
    "print(d)"
   ]
  },
  {
   "cell_type": "code",
   "execution_count": 90,
   "id": "0d8061ba-d98b-4c64-88f9-4a1e91ce84cb",
   "metadata": {},
   "outputs": [
    {
     "name": "stdout",
     "output_type": "stream",
     "text": [
      "I want 3 pieces of item 567 for 50.99 euros.\n"
     ]
    }
   ],
   "source": [
    "quantity = 3\n",
    "itemno = 567\n",
    "price = 50.99\n",
    "myorder = f\"I want {quantity} pieces of item {itemno} for {price} euros.\"\n",
    "print(myorder)"
   ]
  },
  {
   "cell_type": "markdown",
   "id": "0e4d883b-1b0c-4fb1-b98e-7c1319406fa3",
   "metadata": {
    "tags": []
   },
   "source": [
    "## Escape characters\n",
    "To insert special characters in a string, use an escape character.\n",
    "\n",
    "An escape character is a backslash `\\` followed by the character you want to insert.\n",
    "\n",
    "See all the escape characters at https://www.w3schools.com/python/python_strings_escape.asp\n",
    "\n",
    "### Example of a new line ('\\n')"
   ]
  },
  {
   "cell_type": "code",
   "execution_count": 3,
   "id": "2e1f7c7c-5ccd-47a1-bb0b-1e07f0439d16",
   "metadata": {},
   "outputs": [
    {
     "name": "stdout",
     "output_type": "stream",
     "text": [
      "Hello,\n",
      " World!\n"
     ]
    }
   ],
   "source": [
    "a = \"Hello,\\n World!\"\n",
    "print(a)"
   ]
  },
  {
   "cell_type": "markdown",
   "id": "ca96467e-1734-40e2-b0a7-2c890d34c602",
   "metadata": {
    "tags": []
   },
   "source": [
    "### Exercise <a name=\"back1\"></a> \n",
    "Modify string = \" Hello world, this is the end \"\n",
    "\n",
    "1. Get last 3 letters, \"end\", and print\n",
    "2. Return string wihout whitespace at the begining and the end\n",
    "3. Replace word \"world\" with \"humans\"\n",
    "4. Find the first posisiton of letter \"o\"\n",
    "5. Pass \"this is the end\" to the next line\n",
    "6. Replace spaces with \"_\"\n",
    "7. Using a for loop add to the biggining the number 1 and the string in the next line, same for number 2 and 3.\n",
    "8. Same as 5., but append() each new string to a list and only print at the end of the for.\n"
   ]
  },
  {
   "cell_type": "markdown",
   "id": "50815a6c-6a5a-4d83-9cc3-4b86863c713c",
   "metadata": {
    "tags": []
   },
   "source": [
    "### Answers to the exercises"
   ]
  },
  {
   "cell_type": "markdown",
   "id": "3476d1c0-2481-48b1-881e-cb0f4d489e73",
   "metadata": {},
   "source": [
    "<a name=\"ex1answer\">Answer to Exercise</a>"
   ]
  },
  {
   "cell_type": "code",
   "execution_count": 92,
   "id": "e9d05e9a-f2c6-47bf-89ae-4405450c513b",
   "metadata": {},
   "outputs": [],
   "source": [
    "string = \" Hello world, this is the end \""
   ]
  },
  {
   "cell_type": "code",
   "execution_count": 93,
   "id": "9005bd0e-e547-465d-acc5-9a9917820f08",
   "metadata": {},
   "outputs": [
    {
     "name": "stdout",
     "output_type": "stream",
     "text": [
      "end\n"
     ]
    }
   ],
   "source": [
    "#1\n",
    "new_string = string[-4:-1] #not changing\n",
    "print(new_string)"
   ]
  },
  {
   "cell_type": "code",
   "execution_count": 94,
   "id": "3fed7f4a-c248-4d21-b4d2-f4118815bd72",
   "metadata": {},
   "outputs": [
    {
     "name": "stdout",
     "output_type": "stream",
     "text": [
      "Hello world, this is the end\n"
     ]
    }
   ],
   "source": [
    "#2\n",
    "string = string[1:-1] #changing the variable string\n",
    "print(string)"
   ]
  },
  {
   "cell_type": "code",
   "execution_count": 95,
   "id": "fcbb76f5-cb2a-4606-b20e-8f0d95d9ddbb",
   "metadata": {},
   "outputs": [
    {
     "name": "stdout",
     "output_type": "stream",
     "text": [
      "Hello humans, this is the end\n"
     ]
    }
   ],
   "source": [
    "#3\n",
    "new_string = string.replace(\"world\", \"humans\") #not changing the variable string\n",
    "print(new_string)"
   ]
  },
  {
   "cell_type": "code",
   "execution_count": 96,
   "id": "aa740d19-23a7-474c-8813-ff3824a7c480",
   "metadata": {},
   "outputs": [
    {
     "name": "stdout",
     "output_type": "stream",
     "text": [
      "4\n",
      "o\n"
     ]
    }
   ],
   "source": [
    "#4\n",
    "index = string.find(\"o\")\n",
    "print(index)\n",
    "print(string[index])"
   ]
  },
  {
   "cell_type": "code",
   "execution_count": 97,
   "id": "580dbe22-3bce-4974-b428-e5fadd43909f",
   "metadata": {},
   "outputs": [
    {
     "name": "stdout",
     "output_type": "stream",
     "text": [
      "Hello world,\n",
      "this is the end\n"
     ]
    }
   ],
   "source": [
    "#5\n",
    "new_string = string.replace(\", \", \",\\n\") #not changing the variable string\n",
    "print(new_string)"
   ]
  },
  {
   "cell_type": "code",
   "execution_count": 98,
   "id": "7e26fd0d-c142-4f8d-9c88-5e8282cdef27",
   "metadata": {},
   "outputs": [
    {
     "name": "stdout",
     "output_type": "stream",
     "text": [
      "Hello_world,_this_is_the_end\n"
     ]
    }
   ],
   "source": [
    "#6\n",
    "new_string = string.replace(\" \", \"_\") #not changing the variable string\n",
    "print(new_string)"
   ]
  },
  {
   "cell_type": "code",
   "execution_count": 99,
   "id": "40a9702b-9f60-417e-aef1-ca21835da35c",
   "metadata": {},
   "outputs": [
    {
     "name": "stdout",
     "output_type": "stream",
     "text": [
      "1\n",
      " Hello world, this is the end\n",
      "2\n",
      " Hello world, this is the end\n",
      "3\n",
      " Hello world, this is the end\n"
     ]
    }
   ],
   "source": [
    "#7\n",
    "numbers = [1,2,3]\n",
    "for number in numbers:\n",
    "    new_string = f\"{number}\\n {string}\"\n",
    "    print(new_string)"
   ]
  },
  {
   "cell_type": "code",
   "execution_count": 100,
   "id": "97e8eede-3df4-42f9-aceb-4db765f1054e",
   "metadata": {},
   "outputs": [
    {
     "name": "stdout",
     "output_type": "stream",
     "text": [
      "['1\\n Hello world, this is the end', '2\\n Hello world, this is the end', '3\\n Hello world, this is the end']\n",
      "1\n",
      " Hello world, this is the end\n",
      "2\n",
      " Hello world, this is the end\n",
      "3\n",
      " Hello world, this is the end\n"
     ]
    }
   ],
   "source": [
    "numbers = [1,2,3]\n",
    "list_strings= []\n",
    "for number in numbers:\n",
    "    new_string = f\"{number}\\n {string}\"\n",
    "    list_strings.append(new_string)\n",
    "print(list_strings)\n",
    "#if we want to print again each string\n",
    "for s in list_strings:\n",
    "    print(s)"
   ]
  },
  {
   "cell_type": "code",
   "execution_count": null,
   "id": "5b9f4b4c-46f9-4dfa-8401-1b217545f5dd",
   "metadata": {},
   "outputs": [],
   "source": []
  }
 ],
 "metadata": {
  "kernelspec": {
   "display_name": "Python 3 (ipykernel)",
   "language": "python",
   "name": "python3"
  },
  "language_info": {
   "codemirror_mode": {
    "name": "ipython",
    "version": 3
   },
   "file_extension": ".py",
   "mimetype": "text/x-python",
   "name": "python",
   "nbconvert_exporter": "python",
   "pygments_lexer": "ipython3",
   "version": "3.9.7"
  }
 },
 "nbformat": 4,
 "nbformat_minor": 5
}
