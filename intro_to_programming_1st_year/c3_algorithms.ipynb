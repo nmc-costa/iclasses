{
 "cells": [
  {
   "cell_type": "markdown",
   "id": "7d4e248a-9910-4d8b-9031-d343ffe840f8",
   "metadata": {
    "tags": []
   },
   "source": [
    "# Algorithms\n",
    "*Developed by Nuno M.C. da Costa*"
   ]
  },
  {
   "cell_type": "markdown",
   "id": "e15d632a-c839-4746-8339-7d7d289ad7ef",
   "metadata": {
    "tags": []
   },
   "source": [
    "### How to Represent an agorithm?\n",
    "5 steps:\n",
    "1. Solution planning\n",
    "2. Pseudocode\n",
    "3. Simple Representation\n",
    "4. Function Representation \n",
    "5. class Representation\n",
    "\n",
    "Wich one has its advantages, and the best practice is to follow the steps."
   ]
  },
  {
   "cell_type": "markdown",
   "id": "8b5487b8-3cd6-441e-aaa1-3d97dd166c9a",
   "metadata": {},
   "source": [
    "## Problem\n",
    "\n",
    "Given the price of a rectangular field, as well as the measurements of two adjacent sides, it is intended to know whether its price, per square meter, is above or below the average price in the area."
   ]
  },
  {
   "cell_type": "markdown",
   "id": "01fb8a0a-5147-4f6b-8e6c-d2eaa2c6c8ad",
   "metadata": {
    "tags": []
   },
   "source": [
    "### Solution planning (step 1)\n",
    "The most imediate and abstract way to plan the solution to the problem.\n",
    "\n",
    "Advantage: organize solution"
   ]
  },
  {
   "cell_type": "markdown",
   "id": "ecdae877-5275-49da-ab06-3af693300eea",
   "metadata": {},
   "source": [
    "Data:\n",
    "- 6 `float` vars: price, price_m2, price_mean_m2, length, width\n",
    "\n",
    "Result:\n",
    "- Field price per square meter is above or below\n",
    "\n",
    "Relations:\n",
    "- area = length x width\n",
    "- price_m2 = price / area\n",
    "- if,  price_m2 > price_mean_m2, then, “price superior”\n",
    "- else, if price_m2 < price_mean_m2, then, “below mean”\n",
    "- else, “price are the same”"
   ]
  },
  {
   "cell_type": "markdown",
   "id": "e00400d0-de6a-436d-acee-0e9a84242295",
   "metadata": {
    "tags": []
   },
   "source": [
    "### Peseucode(step 2)\n",
    "The most imediate and abstract way to plan the code.\n",
    "\n",
    "Advantage: organize code"
   ]
  },
  {
   "cell_type": "code",
   "execution_count": 1,
   "id": "eb118bfd-52c0-45cc-8e4a-645eed087306",
   "metadata": {},
   "outputs": [
    {
     "ename": "SyntaxError",
     "evalue": "invalid syntax (Temp/ipykernel_15792/265090585.py, line 2)",
     "output_type": "error",
     "traceback": [
      "\u001b[1;36m  File \u001b[1;32m\"C:\\Users\\NMC_CO~1\\AppData\\Local\\Temp/ipykernel_15792/265090585.py\"\u001b[1;36m, line \u001b[1;32m2\u001b[0m\n\u001b[1;33m    Vars:price, price_m2, price_mean_m2, length, width\u001b[0m\n\u001b[1;37m              ^\u001b[0m\n\u001b[1;31mSyntaxError\u001b[0m\u001b[1;31m:\u001b[0m invalid syntax\n"
     ]
    }
   ],
   "source": [
    "Algorithm: price\n",
    "Vars:price, price_m2, price_mean_m2, length, width\n",
    "\n",
    "start\n",
    "    read(price, price_mean_m2, length, width)\n",
    "    area=length*width #m2 \n",
    "    price_m2=price / area #euros/m2\n",
    "    if price_m2 > price_mean_m2, then:\n",
    "        write(“price superior”)\n",
    "    else if price_m2 < price_mean_m2, then:\n",
    "        write(“below mean”)\n",
    "    else, then:\n",
    "        write(“price are the same”)\n",
    "end"
   ]
  },
  {
   "cell_type": "markdown",
   "id": "a482e307-8ca1-4e73-a9a5-c2f3fbf5b186",
   "metadata": {},
   "source": [
    "### Simple Representation (step 3)\n",
    "The most simple way to represent code.\n",
    "\n",
    "Advantage: simple and easy writing."
   ]
  },
  {
   "cell_type": "code",
   "execution_count": 4,
   "id": "46b571ae-f5d1-4c4c-ac88-d9c6396d081c",
   "metadata": {},
   "outputs": [
    {
     "name": "stdin",
     "output_type": "stream",
     "text": [
      "Insert the price in euros! 50000\n"
     ]
    },
    {
     "name": "stdout",
     "output_type": "stream",
     "text": [
      "price_m2:  5.0 ;  price_mean_m2:  4.0\n",
      "Mean price is inferior!\n"
     ]
    }
   ],
   "source": [
    "#Declare Vars: (remember that in python this is optional)\n",
    "price=float()\n",
    "price_mean_m2=float()\n",
    "length=float()\n",
    "width=float()\n",
    "area=float()\n",
    "price_m2=float()\n",
    "#Atribute values: (you can declare variables while atributing values)\n",
    "price = input(\"Insert the price in euros!\") #input() returns string value\n",
    "price = float(price) #euros  #convert the string to integer using the function int()\n",
    "price_mean_m2= float(4) #euros/m2\n",
    "length = float(100) #m\n",
    "width = float(100) #m\n",
    "area=length*width #m2 \n",
    "price_m2=price / area #euros/m2\n",
    "print('price_m2: ',price_m2, ';',' price_mean_m2: ', price_mean_m2) #for debug\n",
    "#Condicoes:\n",
    "if price_m2 < price_mean_m2:\n",
    "    print(\"Mean price is superior!\")\n",
    "else:\n",
    "    if price_m2 > price_mean_m2:\n",
    "        print(\"Mean price is inferior!\")\n",
    "    else:\n",
    "        print(\"Price are the same!\")"
   ]
  },
  {
   "cell_type": "markdown",
   "id": "f06b0afb-609c-4232-ae5d-17822aba28ed",
   "metadata": {},
   "source": [
    "### Function Representation (step 4)\n",
    "The way to reuse code. We are basically incapsulating the code inside of a function.\n",
    "After doing the simple representation and the algorithm is working, the best practice to save our algorithm is to put inside of a function. This will help to organize our code as the lines of code become bigger, and we can call our algorithm whenever we want. (Next lessons will detail this further)\n",
    "\n",
    "Advantage: \n",
    "- Easy maintance of code.\n",
    "- Reuse code whenever we want.\n",
    "- Debug is easier.\n",
    "- The code is better structured."
   ]
  },
  {
   "cell_type": "code",
   "execution_count": 7,
   "id": "f7174386-49b0-4336-8e0a-5a993d74a3a2",
   "metadata": {},
   "outputs": [
    {
     "name": "stdin",
     "output_type": "stream",
     "text": [
      "Insert the price in euros! 50000\n"
     ]
    },
    {
     "name": "stdout",
     "output_type": "stream",
     "text": [
      "price_m2:  5.0 ;  price_mean_m2:  4.0\n",
      "Mean price is inferior!\n"
     ]
    }
   ],
   "source": [
    "def price():\n",
    "    #Atribute values: (you can declare variables while atributing values)\n",
    "    price = input(\"Insert the price in euros!\") #input() returns string value\n",
    "    price = float(price) #euros  #convert the string to integer using the function int()\n",
    "    price_mean_m2= float(4) #euros/m2\n",
    "    length = float(100) #m\n",
    "    width = float(100) #m\n",
    "    area=length*width #m2 \n",
    "    price_m2=price / area #euros/m2\n",
    "    print('price_m2: ',price_m2, ';',' price_mean_m2: ', price_mean_m2) #for debug\n",
    "    #Condicoes:\n",
    "    if price_m2 < price_mean_m2:\n",
    "        print(\"Mean price is superior!\")\n",
    "    else:\n",
    "        if price_m2 > price_mean_m2:\n",
    "            print(\"Mean price is inferior!\")\n",
    "        else:\n",
    "            print(\"Price are the same!\")\n",
    "            \n",
    "    return #always use return in the function to close it\n",
    "\n",
    "price() #execute function"
   ]
  },
  {
   "cell_type": "code",
   "execution_count": 8,
   "id": "3e5549d1-ebf4-4f65-b706-e32614650dce",
   "metadata": {},
   "outputs": [
    {
     "name": "stdin",
     "output_type": "stream",
     "text": [
      "Insert the price in euros! 50000\n"
     ]
    },
    {
     "name": "stdout",
     "output_type": "stream",
     "text": [
      "price_m2:  5.0 ;  price_mean_m2:  4.0\n",
      "Mean price is inferior!\n"
     ]
    }
   ],
   "source": [
    "price() #execute function again (reusing)"
   ]
  },
  {
   "cell_type": "markdown",
   "id": "f38e06b1-7feb-485c-99bc-8d48276fb205",
   "metadata": {},
   "source": [
    "### Class Representation (step 5)\n",
    "The python way to reuse code. We are basically incapsulating our function inside of a class of functions (an object that saves all our functions).\n",
    "After doing the function representation and the function is working, the best practice to save our function is to put inside of a class of functions. This will help to organize our code as the lines of code become bigger, and we can call many functions whenever we want . (Next lessons will detail this further)\n",
    "\n",
    "Advantage: \n",
    "- Easy maintance of code.\n",
    "- Reuse code whenever we want.\n",
    "- Debug is easier.\n",
    "- The code is even better structured.\n",
    "- More than one function can be used whenever we want"
   ]
  },
  {
   "cell_type": "code",
   "execution_count": 14,
   "id": "1231f851-2103-4f40-ba43-2d8bb83eed4d",
   "metadata": {},
   "outputs": [
    {
     "name": "stdin",
     "output_type": "stream",
     "text": [
      "Insert the price1 in euros! 4000\n"
     ]
    },
    {
     "name": "stdout",
     "output_type": "stream",
     "text": [
      "price_m2:  0.4 ;  price_mean_m2:  4.0\n",
      "Mean price is superior!\n"
     ]
    },
    {
     "name": "stdin",
     "output_type": "stream",
     "text": [
      "Insert the price2 in euros! 300000\n"
     ]
    },
    {
     "name": "stdout",
     "output_type": "stream",
     "text": [
      "price_m2:  30.0 ;  price_mean_m2:  4.0\n",
      "Mean price is inferior!\n"
     ]
    }
   ],
   "source": [
    "class prices:    \n",
    "    def price1(self): #Obligatory: The self parameter is a reference to the current instance of the class, and is used to access variables that belongs to the class.\n",
    "        #Atribute values: (you can declare variables while atributing values)\n",
    "        price = input(\"Insert the price1 in euros!\") #input() returns string value\n",
    "        price = float(price) #euros  #convert the string to integer using the function int()\n",
    "        price_mean_m2= float(4) #euros/m2\n",
    "        length = float(100) #m\n",
    "        width = float(100) #m\n",
    "        area=length*width #m2 \n",
    "        price_m2=price / area #euros/m2\n",
    "        print('price_m2: ',price_m2, ';',' price_mean_m2: ', price_mean_m2) #for debug\n",
    "        #Condicoes:\n",
    "        if price_m2 < price_mean_m2:\n",
    "            print(\"Mean price is superior!\")\n",
    "        else:\n",
    "            if price_m2 > price_mean_m2:\n",
    "                print(\"Mean price is inferior!\")\n",
    "            else:\n",
    "                print(\"Price are the same!\")\n",
    "\n",
    "        return #always use return in the function to close it\n",
    "    \n",
    "    def price2(self):\n",
    "        #Atribute values: (you can declare variables while atributing values)\n",
    "        price = input(\"Insert the price2 in euros!\") #input() returns string value\n",
    "        price = float(price) #euros  #convert the string to integer using the function int()\n",
    "        price_mean_m2= float(4) #euros/m2\n",
    "        length = float(100) #m\n",
    "        width = float(100) #m\n",
    "        area=length*width #m2 \n",
    "        price_m2=price / area #euros/m2\n",
    "        print('price_m2: ',price_m2, ';',' price_mean_m2: ', price_mean_m2) #for debug\n",
    "        #Condicoes:\n",
    "        if price_m2 < price_mean_m2:\n",
    "            print(\"Mean price is superior!\")\n",
    "        else:\n",
    "            if price_m2 > price_mean_m2:\n",
    "                print(\"Mean price is inferior!\")\n",
    "            else:\n",
    "                print(\"Price are the same!\")\n",
    "\n",
    "        return #always use return in the function to close it\n",
    "\n",
    "#Execution\n",
    "# 1st attribute the class to a variable\n",
    "prices = prices() \n",
    "# 2nd execute functions \n",
    "prices.price1() \n",
    "prices.price2() "
   ]
  }
 ],
 "metadata": {
  "kernelspec": {
   "display_name": "Python 3 (ipykernel)",
   "language": "python",
   "name": "python3"
  },
  "language_info": {
   "codemirror_mode": {
    "name": "ipython",
    "version": 3
   },
   "file_extension": ".py",
   "mimetype": "text/x-python",
   "name": "python",
   "nbconvert_exporter": "python",
   "pygments_lexer": "ipython3",
   "version": "3.9.7"
  }
 },
 "nbformat": 4,
 "nbformat_minor": 5
}
