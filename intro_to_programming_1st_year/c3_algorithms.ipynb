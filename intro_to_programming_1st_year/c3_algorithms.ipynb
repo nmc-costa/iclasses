{
 "cells": [
  {
   "cell_type": "markdown",
   "id": "7d4e248a-9910-4d8b-9031-d343ffe840f8",
   "metadata": {
    "tags": []
   },
   "source": [
    "# Algorithms\n",
    "*Developed by Nuno M.C. da Costa*"
   ]
  },
  {
   "cell_type": "markdown",
   "id": "e15d632a-c839-4746-8339-7d7d289ad7ef",
   "metadata": {},
   "source": [
    "### How to Represent an agorithm?\n",
    "3 steps:\n",
    "1. Simple Representation\n",
    "2. Function Representation \n",
    "3. class Representation\n",
    "\n",
    "Wich one has its advantages, and the best practice is to follow the steps."
   ]
  },
  {
   "cell_type": "markdown",
   "id": "01fb8a0a-5147-4f6b-8e6c-d2eaa2c6c8ad",
   "metadata": {},
   "source": [
    "### Simple Representation (step 1)\n",
    "The most simple way to represent code.\n",
    "\n",
    "Advantage: simple and easy writing."
   ]
  },
  {
   "cell_type": "code",
   "execution_count": 4,
   "id": "46b571ae-f5d1-4c4c-ac88-d9c6396d081c",
   "metadata": {},
   "outputs": [
    {
     "name": "stdin",
     "output_type": "stream",
     "text": [
      "Insert the price in euros! 50000\n"
     ]
    },
    {
     "name": "stdout",
     "output_type": "stream",
     "text": [
      "price_m2:  5.0 ;  price_mean_m2:  4.0\n",
      "Mean price is inferior!\n"
     ]
    }
   ],
   "source": [
    "#Declare Vars: (remember that in python this is optional)\n",
    "price=int()\n",
    "price_mean=float()\n",
    "length=float()\n",
    "width=float()\n",
    "area=float()\n",
    "price_m2=float()\n",
    "#Atribute values: (you can declare variables while atributing values)\n",
    "price = input(\"Insert the price in euros!\") #input() returns string value\n",
    "price = int(price) #euros  #convert the string to integer using the function int()\n",
    "price_mean_m2= float(4) #euros/m2\n",
    "length = float(100) #m\n",
    "width = float(100) #m\n",
    "area=length*width #m2 \n",
    "price_m2=price / area #euros/m2\n",
    "print('price_m2: ',price_m2, ';',' price_mean_m2: ', price_mean_m2) #for debug\n",
    "#Condicoes:\n",
    "if price_m2 < price_mean_m2:\n",
    "    print(\"Mean price is superior!\")\n",
    "else:\n",
    "    if price_m2 > price_mean_m2:\n",
    "        print(\"Mean price is inferior!\")\n",
    "    else:\n",
    "        print(\"Price are the same!\")"
   ]
  },
  {
   "cell_type": "markdown",
   "id": "f06b0afb-609c-4232-ae5d-17822aba28ed",
   "metadata": {},
   "source": [
    "### Function Representation (step 2)\n",
    "The way to reuse code. We are basically incapsulating the code inside of a function.\n",
    "After doing the simple representation and the algorithm is working, the best practice to save our algorithm is to put inside of a function. This will help to organize our code as the lines of code become bigger, and we can call our algorithm whenever we want. (Next lessons will detail this further)\n",
    "\n",
    "Advantage: \n",
    "- Easy maintance of code.\n",
    "- Reuse code whenever we want.\n",
    "- Debug is easier.\n",
    "- The code is better structured."
   ]
  },
  {
   "cell_type": "code",
   "execution_count": 7,
   "id": "f7174386-49b0-4336-8e0a-5a993d74a3a2",
   "metadata": {},
   "outputs": [
    {
     "name": "stdin",
     "output_type": "stream",
     "text": [
      "Insert the price in euros! 50000\n"
     ]
    },
    {
     "name": "stdout",
     "output_type": "stream",
     "text": [
      "price_m2:  5.0 ;  price_mean_m2:  4.0\n",
      "Mean price is inferior!\n"
     ]
    }
   ],
   "source": [
    "def price():\n",
    "    #Atribute values: (you can declare variables while atributing values)\n",
    "    price = input(\"Insert the price in euros!\") #input() returns string value\n",
    "    price = int(price) #euros  #convert the string to integer using the function int()\n",
    "    price_mean_m2= float(4) #euros/m2\n",
    "    length = float(100) #m\n",
    "    width = float(100) #m\n",
    "    area=length*width #m2 \n",
    "    price_m2=price / area #euros/m2\n",
    "    print('price_m2: ',price_m2, ';',' price_mean_m2: ', price_mean_m2) #for debug\n",
    "    #Condicoes:\n",
    "    if price_m2 < price_mean_m2:\n",
    "        print(\"Mean price is superior!\")\n",
    "    else:\n",
    "        if price_m2 > price_mean_m2:\n",
    "            print(\"Mean price is inferior!\")\n",
    "        else:\n",
    "            print(\"Price are the same!\")\n",
    "            \n",
    "    return #always use return in the function to close it\n",
    "\n",
    "price() #execute function"
   ]
  },
  {
   "cell_type": "code",
   "execution_count": 8,
   "id": "3e5549d1-ebf4-4f65-b706-e32614650dce",
   "metadata": {},
   "outputs": [
    {
     "name": "stdin",
     "output_type": "stream",
     "text": [
      "Insert the price in euros! 50000\n"
     ]
    },
    {
     "name": "stdout",
     "output_type": "stream",
     "text": [
      "price_m2:  5.0 ;  price_mean_m2:  4.0\n",
      "Mean price is inferior!\n"
     ]
    }
   ],
   "source": [
    "price() #execute function again (reusing)"
   ]
  },
  {
   "cell_type": "markdown",
   "id": "f38e06b1-7feb-485c-99bc-8d48276fb205",
   "metadata": {},
   "source": [
    "### Class Representation (step 3)\n",
    "The python way to reuse code. We are basically incapsulating our function inside of a class of functions (an object that saves all our functions).\n",
    "After doing the function representation and the function is working, the best practice to save our function is to put inside of a class of functions. This will help to organize our code as the lines of code become bigger, and we can call many functions whenever we want . (Next lessons will detail this further)\n",
    "\n",
    "Advantage: \n",
    "- Easy maintance of code.\n",
    "- Reuse code whenever we want.\n",
    "- Debug is easier.\n",
    "- The code is even better structured.\n",
    "- More than one function can be used whenever we want"
   ]
  },
  {
   "cell_type": "code",
   "execution_count": 14,
   "id": "1231f851-2103-4f40-ba43-2d8bb83eed4d",
   "metadata": {},
   "outputs": [
    {
     "name": "stdin",
     "output_type": "stream",
     "text": [
      "Insert the price1 in euros! 4000\n"
     ]
    },
    {
     "name": "stdout",
     "output_type": "stream",
     "text": [
      "price_m2:  0.4 ;  price_mean_m2:  4.0\n",
      "Mean price is superior!\n"
     ]
    },
    {
     "name": "stdin",
     "output_type": "stream",
     "text": [
      "Insert the price2 in euros! 300000\n"
     ]
    },
    {
     "name": "stdout",
     "output_type": "stream",
     "text": [
      "price_m2:  30.0 ;  price_mean_m2:  4.0\n",
      "Mean price is inferior!\n"
     ]
    }
   ],
   "source": [
    "class prices:    \n",
    "    def price1(self): #Obligatory: The self parameter is a reference to the current instance of the class, and is used to access variables that belongs to the class.\n",
    "        #Atribute values: (you can declare variables while atributing values)\n",
    "        price = input(\"Insert the price1 in euros!\") #input() returns string value\n",
    "        price = int(price) #euros  #convert the string to integer using the function int()\n",
    "        price_mean_m2= float(4) #euros/m2\n",
    "        length = float(100) #m\n",
    "        width = float(100) #m\n",
    "        area=length*width #m2 \n",
    "        price_m2=price / area #euros/m2\n",
    "        print('price_m2: ',price_m2, ';',' price_mean_m2: ', price_mean_m2) #for debug\n",
    "        #Condicoes:\n",
    "        if price_m2 < price_mean_m2:\n",
    "            print(\"Mean price is superior!\")\n",
    "        else:\n",
    "            if price_m2 > price_mean_m2:\n",
    "                print(\"Mean price is inferior!\")\n",
    "            else:\n",
    "                print(\"Price are the same!\")\n",
    "\n",
    "        return #always use return in the function to close it\n",
    "    \n",
    "    def price2(self):\n",
    "        #Atribute values: (you can declare variables while atributing values)\n",
    "        price = input(\"Insert the price2 in euros!\") #input() returns string value\n",
    "        price = int(price) #euros  #convert the string to integer using the function int()\n",
    "        price_mean_m2= float(4) #euros/m2\n",
    "        length = float(100) #m\n",
    "        width = float(100) #m\n",
    "        area=length*width #m2 \n",
    "        price_m2=price / area #euros/m2\n",
    "        print('price_m2: ',price_m2, ';',' price_mean_m2: ', price_mean_m2) #for debug\n",
    "        #Condicoes:\n",
    "        if price_m2 < price_mean_m2:\n",
    "            print(\"Mean price is superior!\")\n",
    "        else:\n",
    "            if price_m2 > price_mean_m2:\n",
    "                print(\"Mean price is inferior!\")\n",
    "            else:\n",
    "                print(\"Price are the same!\")\n",
    "\n",
    "        return #always use return in the function to close it\n",
    "\n",
    "#Execution\n",
    "# 1st attribute the class to a variable\n",
    "prices = prices() \n",
    "# 2nd execute functions \n",
    "prices.price1() \n",
    "prices.price2() "
   ]
  }
 ],
 "metadata": {
  "kernelspec": {
   "display_name": "Python 3 (ipykernel)",
   "language": "python",
   "name": "python3"
  },
  "language_info": {
   "codemirror_mode": {
    "name": "ipython",
    "version": 3
   },
   "file_extension": ".py",
   "mimetype": "text/x-python",
   "name": "python",
   "nbconvert_exporter": "python",
   "pygments_lexer": "ipython3",
   "version": "3.9.7"
  }
 },
 "nbformat": 4,
 "nbformat_minor": 5
}
